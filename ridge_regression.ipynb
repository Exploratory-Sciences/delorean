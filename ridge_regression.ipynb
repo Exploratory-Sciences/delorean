{
 "cells": [
  {
   "cell_type": "code",
   "execution_count": 93,
   "metadata": {},
   "outputs": [],
   "source": [
    "import numpy as np\n",
    "import pandas as pd\n",
    "import time\n",
    "import matplotlib.pyplot as plt\n",
    "\n",
    "from sklearn.linear_model import Ridge\n",
    "from sklearn.model_selection import train_test_split, KFold\n",
    "\n",
    "from indoorplants.analysis import exploratory\n",
    "from indoorplants.validation import crossvalidate, curves\n",
    "\n",
    "from sklearn.metrics import accuracy_score, \\\n",
    "                            precision_score, \\\n",
    "                            recall_score, \\\n",
    "                            confusion_matrix, \\\n",
    "                            f1_score"
   ]
  },
  {
   "cell_type": "code",
   "execution_count": 70,
   "metadata": {},
   "outputs": [],
   "source": [
    "%matplotlib inline"
   ]
  },
  {
   "cell_type": "markdown",
   "metadata": {},
   "source": [
    "# `Ridge Regression`"
   ]
  },
  {
   "cell_type": "markdown",
   "metadata": {},
   "source": [
    "### ------------------------------------------------------------------------------------------------"
   ]
  },
  {
   "cell_type": "markdown",
   "metadata": {},
   "source": [
    "# Overview \n",
    "\n",
    " **Goal**: predict the behavior of a continuous _endogenous_ variable given its corresponding _exogenous_ variables, under the constraint that we are penalizing based on coefficient magnitudes when solving for said coefficients. This setup allows for models that are less prone to over-fitting than simple OLS models are.\n",
    " \n",
    " **Model**: $y = X{\\beta} + {\\epsilon}$\n",
    "\n",
    "**Terms**:\n",
    "- $y$: vector of endogenous values\n",
    "- $X$: matrix of exogenous values\n",
    "- $\\beta$: vector of coefficients for exogenous variables\n",
    "- $\\epsilon$: a representation of the random errors or fluctuations around the predicted line or plane\n",
    "\n",
    "**Functionality**:\n",
    "- $y$ is the result of taking the matrix product of $\\beta$ and $X$\n",
    "- i.e. each row in $y$ is the sum of the products, for that row, of each value of $X$ with its corresponding $\\beta$\n",
    "\n",
    "**Basic example**:\n",
    "- *endogenous*: price of an apartment\n",
    "- *exogenous*: square footage (1), number of rooms (2)\n",
    "- $y = \\beta_{0} + \\beta_{1} * X_{1} + \\beta_{2} * X_{2} + \\epsilon$\n",
    "- i.e. $constant + coefficient_{1} * area + coefficient_{2} * rooms$"
   ]
  },
  {
   "cell_type": "markdown",
   "metadata": {},
   "source": [
    "### ------------------------------------------------------------------------------------------------"
   ]
  },
  {
   "cell_type": "markdown",
   "metadata": {},
   "source": [
    "# Tikhonov regularization"
   ]
  },
  {
   "cell_type": "markdown",
   "metadata": {},
   "source": [
    "$\\displaystyle \\min _{\\beta }\\,(\\mathbf {y} -\\mathbf {X} \\beta )^{\\mathsf {T}}(\\mathbf {y} -\\mathbf {X} \\beta )+\\lambda (\\beta ^{\\mathsf {T}}\\beta -c)$\n",
    "\n",
    "$\\displaystyle {\\hat {\\beta }}_{R}=(\\mathbf {X} ^{\\mathsf {T}}\\mathbf {X} +\\lambda \\mathbf {I} )^{-1}\\mathbf {X} ^{\\mathsf {T}}\\mathbf {y}$"
   ]
  },
  {
   "cell_type": "markdown",
   "metadata": {},
   "source": [
    "### ------------------------------------------------------------------------------------------------"
   ]
  },
  {
   "cell_type": "markdown",
   "metadata": {},
   "source": [
    "# Parameter Estimation - OLS\n",
    "\n",
    "**Goal**: given $X$ and $y$, find $\\beta$\n",
    "\n",
    "**Method**: there exist many ways to reach our goal - we will start with Ordinary Least Squares (OLS)"
   ]
  },
  {
   "cell_type": "markdown",
   "metadata": {},
   "source": [
    "(notes written with support from [Wikipedia](https://en.wikipedia.org/wiki/Ordinary_least_squares) and [ESL](http://web.stanford.edu/~hastie/ElemStatLearn/))\n",
    "\n",
    "### Background\n",
    "\n",
    "- to measure the distance between a response and a predicted response, one can take the difference between the two values\n",
    "- this would be written as, for the $i^{th}$ data point, $y_{i} - {X_{i}}\\beta$ (note that $X_{i}$ is a row of $X$), and is referred to as the _residual_ for this data point\n",
    "\n",
    "### Overall model fit\n",
    "\n",
    "- summing the squares of all residuals provides a measure of overall model fit\n",
    "- sum of squared residuals: $\\sum_{i=1}^{n}(y_{i} - \\sum_{j=1}^{p}{X_{i, j}\\beta_{j})}^{2} = {(y-X\\beta)}^{T}(y-X\\beta)$\n",
    "\n",
    "### Estimate Beta\n",
    "\n",
    "- if we find the values of $\\beta$ that minimize the sum of the squared residuals, we have found the model coefficients that provide the best fit\n",
    "- to find the values of $\\beta$ that minimize ${(y-X\\beta)}^{T}(y-X\\beta)$ we need to first differentiate with respect to $\\beta$, yielding a first derivative $-2X^{T}(y - X\\beta)$\n",
    "- if we set that first derivate equal to 0, $X^{T}(y - X\\beta) = 0$, we can, making some assumptions, solve to:\n",
    "\n",
    "$$\\hat\\beta = (X^{T}X)^{-1}X^{T}y$$\n",
    "\n",
    "- see more on the derivation of OLS regression [here](https://are.berkeley.edu/courses/EEP118/current/derive_ols.pdf)\n",
    "\n",
    "### Evaluation\n",
    "\n",
    "- a commonly used metric for fit assessment is that of $R^{2}$\n",
    "- this is the ratio of the variance of $\\hat{y}$ around the mean of $y$, $\\bar{y}$, to the variance of $y$, i.e. the ratio of \"explained\" to \"total\" variance of $y$\n",
    "- which is written as $\\large\\frac{\\sum(\\hat{y} - \\bar{y})^{2}}{\\sum(y - \\bar{y})^{2}}$\n",
    "- useful use of this metric requires the model to include a constant, or $\\beta_{0}$, term, in which case 0 < $R^{2}$ < 1, with closer to 1 being better"
   ]
  },
  {
   "cell_type": "markdown",
   "metadata": {},
   "source": [
    "### ------------------------------------------------------------------------------------------------"
   ]
  },
  {
   "cell_type": "markdown",
   "metadata": {},
   "source": [
    "# Implementation"
   ]
  },
  {
   "cell_type": "code",
   "execution_count": 4,
   "metadata": {},
   "outputs": [],
   "source": [
    "class RidgeRegressor:\n",
    "    \"\"\"Ridge Regression class, built for NumPy arrays. \n",
    "    Fits using lin alg. Always supplies a constant coefficient.\n",
    "    Very unstable!\n",
    "    \n",
    "    (subbing in `alpha` for `lambda` due to the latter's protected status)\n",
    "    \"\"\"\n",
    "    \n",
    "    def __init__(self, alpha=1):\n",
    "        self.X = None\n",
    "        self.y = None\n",
    "        self.B = None\n",
    "        self.alpha = alpha\n",
    "        self.y_hat = None\n",
    "        \n",
    "    \n",
    "    def fit(self, X, y):\n",
    "        for_coeff = np.ones((X.shape[0], 1))\n",
    "        X = np.hstack((X, for_coeff))\n",
    "\n",
    "        self.B = np.linalg.inv(X.T.dot(X) + self.alpha * np.identity(X.shape[1])).dot(X.T).dot(y)\n",
    "        self.X = X\n",
    "        self.y = y\n",
    "    \n",
    "    \n",
    "    def predict(self, X):\n",
    "        if self.B is None:\n",
    "            return None\n",
    "        self.y_hat = self.X.dot(self.B)\n",
    "        return self.y_hat\n",
    "\n",
    "    \n",
    "    def r_sqrd(self):\n",
    "        if self.y is None:\n",
    "            return None\n",
    "        elif self.y_hat is None:\n",
    "            y_hat = self.predict()\n",
    "            \n",
    "        y_bar = np.mean(self.y)\n",
    "        explained = np.sum(np.power(self.y_hat - y_bar, 2))\n",
    "        total = np.sum(np.power(self.y - y_bar, 2))\n",
    "        return explained / total"
   ]
  },
  {
   "cell_type": "markdown",
   "metadata": {},
   "source": [
    "### ------------------------------------------------------------------------------------------------"
   ]
  },
  {
   "cell_type": "markdown",
   "metadata": {},
   "source": [
    "# Testing"
   ]
  },
  {
   "cell_type": "markdown",
   "metadata": {},
   "source": [
    "### Generate Fake Data\n",
    "\n",
    "- with `Ridge`, we are looking to prevent overfitting\n",
    "- overfitting can happen when a model is too tightly coupled to the sample of the data that it happens to be trained on\n",
    "- so, to do this right, we need an idea of what the distribution of our population looks like\n",
    "- then, we need to draw sub-samples that do not represent the population very well"
   ]
  },
  {
   "cell_type": "code",
   "execution_count": 5,
   "metadata": {},
   "outputs": [],
   "source": [
    "X = np.array([[np.random.normal(loc=_, scale=(_ + 1)) for _ in range(100)] for _ in range(3)])"
   ]
  },
  {
   "cell_type": "code",
   "execution_count": 6,
   "metadata": {},
   "outputs": [],
   "source": [
    "X = X.T"
   ]
  },
  {
   "cell_type": "code",
   "execution_count": 7,
   "metadata": {},
   "outputs": [],
   "source": [
    "y = np.array([np.random.normal() for _ in range(100)])"
   ]
  },
  {
   "cell_type": "code",
   "execution_count": 8,
   "metadata": {},
   "outputs": [
    {
     "data": {
      "image/png": "[encoded data removed]",
      "text/plain": [
       "<Figure size 792x576 with 1 Axes>"
      ]
     },
     "metadata": {
      "needs_background": "light"
     },
     "output_type": "display_data"
    }
   ],
   "source": [
    "plt.figure(figsize=(11, 8))\n",
    "ax = plt.scatter(X[:, 0], y)\n",
    "plt.xlabel(\"X\")\n",
    "plt.ylabel(\"y\")\n",
    "t = plt.title(\"Semi-Random Data: X1\")"
   ]
  },
  {
   "cell_type": "code",
   "execution_count": 9,
   "metadata": {},
   "outputs": [
    {
     "data": {
      "image/png": "[encoded data removed]",
      "text/plain": [
       "<Figure size 792x576 with 1 Axes>"
      ]
     },
     "metadata": {
      "needs_background": "light"
     },
     "output_type": "display_data"
    }
   ],
   "source": [
    "plt.figure(figsize=(11, 8))\n",
    "ax = plt.scatter(X[:, 1], y)\n",
    "plt.xlabel(\"X\")\n",
    "plt.ylabel(\"y\")\n",
    "t = plt.title(\"Semi-Random Data: X2\")"
   ]
  },
  {
   "cell_type": "code",
   "execution_count": 10,
   "metadata": {},
   "outputs": [
    {
     "data": {
      "image/png": "[encoded data removed]",
      "text/plain": [
       "<Figure size 792x576 with 1 Axes>"
      ]
     },
     "metadata": {
      "needs_background": "light"
     },
     "output_type": "display_data"
    }
   ],
   "source": [
    "plt.figure(figsize=(11, 8))\n",
    "ax = plt.scatter(X[:, 2], y)\n",
    "plt.xlabel(\"X\")\n",
    "plt.ylabel(\"y\")\n",
    "t = plt.title(\"Semi-Random Data: X3\")"
   ]
  },
  {
   "cell_type": "code",
   "execution_count": 11,
   "metadata": {},
   "outputs": [
    {
     "data": {
      "text/plain": [
       "array([-0.00077049,  0.00032345, -0.00042096])"
      ]
     },
     "execution_count": 11,
     "metadata": {},
     "output_type": "execute_result"
    }
   ],
   "source": [
    "np.linalg.inv(X.T.dot(X) + np.identity(X.shape[1])).dot(X.T).dot(y)"
   ]
  },
  {
   "cell_type": "code",
   "execution_count": 12,
   "metadata": {},
   "outputs": [],
   "source": [
    "ridge = RidgeRegressor()"
   ]
  },
  {
   "cell_type": "code",
   "execution_count": 13,
   "metadata": {},
   "outputs": [],
   "source": [
    "ridge.fit(X, y)"
   ]
  },
  {
   "cell_type": "code",
   "execution_count": 14,
   "metadata": {},
   "outputs": [],
   "source": [
    "y_hat = ridge.predict(X)"
   ]
  },
  {
   "cell_type": "code",
   "execution_count": 15,
   "metadata": {},
   "outputs": [
    {
     "data": {
      "image/png": "[encoded data removed]",
      "text/plain": [
       "<Figure size 792x576 with 1 Axes>"
      ]
     },
     "metadata": {
      "needs_background": "light"
     },
     "output_type": "display_data"
    }
   ],
   "source": [
    "plt.figure(figsize=(11, 8))\n",
    "ax = plt.scatter(y_hat, y)"
   ]
  },
  {
   "cell_type": "code",
   "execution_count": 16,
   "metadata": {
    "scrolled": true
   },
   "outputs": [
    {
     "data": {
      "text/plain": [
       "0.0025305368169958654"
      ]
     },
     "execution_count": 16,
     "metadata": {},
     "output_type": "execute_result"
    }
   ],
   "source": [
    "ridge.r_sqrd()"
   ]
  },
  {
   "cell_type": "markdown",
   "metadata": {},
   "source": [
    "## Testing on sklearn ridge regression"
   ]
  },
  {
   "cell_type": "code",
   "execution_count": 17,
   "metadata": {},
   "outputs": [
    {
     "data": {
      "text/plain": [
       "Ridge()"
      ]
     },
     "execution_count": 17,
     "metadata": {},
     "output_type": "execute_result"
    }
   ],
   "source": [
    "clf = Ridge(alpha=1.0)\n",
    "clf.fit(X, y)"
   ]
  },
  {
   "cell_type": "code",
   "execution_count": 18,
   "metadata": {},
   "outputs": [],
   "source": [
    "y_hat2 = clf.predict(X)"
   ]
  },
  {
   "cell_type": "code",
   "execution_count": 19,
   "metadata": {},
   "outputs": [
    {
     "data": {
      "text/plain": [
       "0.0025148001178153523"
      ]
     },
     "execution_count": 19,
     "metadata": {},
     "output_type": "execute_result"
    }
   ],
   "source": [
    "clf.score(X,y)"
   ]
  },
  {
   "cell_type": "code",
   "execution_count": 20,
   "metadata": {},
   "outputs": [
    {
     "data": {
      "text/plain": [
       "0.019736382704900586"
      ]
     },
     "execution_count": 20,
     "metadata": {},
     "output_type": "execute_result"
    }
   ],
   "source": [
    "(y_hat - y_hat2).sum()"
   ]
  },
  {
   "cell_type": "markdown",
   "metadata": {},
   "source": [
    "## Testing on real data\n",
    "- Insurance data can be find [here](https://github.com/stedy/Machine-Learning-with-R-datasets/blob/master/insurance.csv)\n",
    "- Independent variables: `age`, `sex`, `bmi`, `children`,`smoker`,`region`\n",
    "- Dependent variables: `charges`"
   ]
  },
  {
   "cell_type": "code",
   "execution_count": 47,
   "metadata": {},
   "outputs": [],
   "source": [
    "url =\"https://raw.githubusercontent.com/stedy/Machine-Learning-with-R-datasets/master/insurance.csv\""
   ]
  },
  {
   "cell_type": "code",
   "execution_count": 48,
   "metadata": {},
   "outputs": [],
   "source": [
    "insurance_data = pd.read_csv(url)"
   ]
  },
  {
   "cell_type": "code",
   "execution_count": 49,
   "metadata": {},
   "outputs": [
    {
     "data": {
      "text/plain": [
       "(1338, 7)"
      ]
     },
     "execution_count": 49,
     "metadata": {},
     "output_type": "execute_result"
    }
   ],
   "source": [
    "insurance_data.shape"
   ]
  },
  {
   "cell_type": "code",
   "execution_count": 50,
   "metadata": {},
   "outputs": [
    {
     "data": {
      "text/html": [
       "<div>\n",
       "<style scoped>\n",
       "    .dataframe tbody tr th:only-of-type {\n",
       "        vertical-align: middle;\n",
       "    }\n",
       "\n",
       "    .dataframe tbody tr th {\n",
       "        vertical-align: top;\n",
       "    }\n",
       "\n",
       "    .dataframe thead th {\n",
       "        text-align: right;\n",
       "    }\n",
       "</style>\n",
       "<table border=\"1\" class=\"dataframe\">\n",
       "  <thead>\n",
       "    <tr style=\"text-align: right;\">\n",
       "      <th></th>\n",
       "      <th>age</th>\n",
       "      <th>sex</th>\n",
       "      <th>bmi</th>\n",
       "      <th>children</th>\n",
       "      <th>smoker</th>\n",
       "      <th>region</th>\n",
       "      <th>charges</th>\n",
       "    </tr>\n",
       "  </thead>\n",
       "  <tbody>\n",
       "    <tr>\n",
       "      <th>0</th>\n",
       "      <td>19</td>\n",
       "      <td>female</td>\n",
       "      <td>27.900</td>\n",
       "      <td>0</td>\n",
       "      <td>yes</td>\n",
       "      <td>southwest</td>\n",
       "      <td>16884.92400</td>\n",
       "    </tr>\n",
       "    <tr>\n",
       "      <th>1</th>\n",
       "      <td>18</td>\n",
       "      <td>male</td>\n",
       "      <td>33.770</td>\n",
       "      <td>1</td>\n",
       "      <td>no</td>\n",
       "      <td>southeast</td>\n",
       "      <td>1725.55230</td>\n",
       "    </tr>\n",
       "    <tr>\n",
       "      <th>2</th>\n",
       "      <td>28</td>\n",
       "      <td>male</td>\n",
       "      <td>33.000</td>\n",
       "      <td>3</td>\n",
       "      <td>no</td>\n",
       "      <td>southeast</td>\n",
       "      <td>4449.46200</td>\n",
       "    </tr>\n",
       "    <tr>\n",
       "      <th>3</th>\n",
       "      <td>33</td>\n",
       "      <td>male</td>\n",
       "      <td>22.705</td>\n",
       "      <td>0</td>\n",
       "      <td>no</td>\n",
       "      <td>northwest</td>\n",
       "      <td>21984.47061</td>\n",
       "    </tr>\n",
       "    <tr>\n",
       "      <th>4</th>\n",
       "      <td>32</td>\n",
       "      <td>male</td>\n",
       "      <td>28.880</td>\n",
       "      <td>0</td>\n",
       "      <td>no</td>\n",
       "      <td>northwest</td>\n",
       "      <td>3866.85520</td>\n",
       "    </tr>\n",
       "  </tbody>\n",
       "</table>\n",
       "</div>"
      ],
      "text/plain": [
       "   age     sex     bmi  children smoker     region      charges\n",
       "0   19  female  27.900         0    yes  southwest  16884.92400\n",
       "1   18    male  33.770         1     no  southeast   1725.55230\n",
       "2   28    male  33.000         3     no  southeast   4449.46200\n",
       "3   33    male  22.705         0     no  northwest  21984.47061\n",
       "4   32    male  28.880         0     no  northwest   3866.85520"
      ]
     },
     "execution_count": 50,
     "metadata": {},
     "output_type": "execute_result"
    }
   ],
   "source": [
    "insurance_data.head()"
   ]
  },
  {
   "cell_type": "markdown",
   "metadata": {},
   "source": [
    "### 1 Cleaning"
   ]
  },
  {
   "cell_type": "code",
   "execution_count": 25,
   "metadata": {},
   "outputs": [
    {
     "data": {
      "text/plain": [
       "1"
      ]
     },
     "execution_count": 25,
     "metadata": {},
     "output_type": "execute_result"
    }
   ],
   "source": [
    "insurance_data.duplicated().sum()"
   ]
  },
  {
   "cell_type": "code",
   "execution_count": 26,
   "metadata": {},
   "outputs": [],
   "source": [
    "insurance_data = insurance_data.drop_duplicates()"
   ]
  },
  {
   "cell_type": "code",
   "execution_count": 27,
   "metadata": {},
   "outputs": [
    {
     "data": {
      "text/plain": [
       "0"
      ]
     },
     "execution_count": 27,
     "metadata": {},
     "output_type": "execute_result"
    }
   ],
   "source": [
    "insurance_data.duplicated().sum()"
   ]
  },
  {
   "cell_type": "code",
   "execution_count": 71,
   "metadata": {},
   "outputs": [
    {
     "data": {
      "text/plain": [
       "age           int64\n",
       "sex          object\n",
       "bmi         float64\n",
       "children      int64\n",
       "smoker       object\n",
       "region       object\n",
       "charges     float64\n",
       "dtype: object"
      ]
     },
     "execution_count": 71,
     "metadata": {},
     "output_type": "execute_result"
    }
   ],
   "source": [
    "insurance_data.dtypes"
   ]
  },
  {
   "cell_type": "code",
   "execution_count": 28,
   "metadata": {},
   "outputs": [
    {
     "data": {
      "text/plain": [
       "age         0\n",
       "sex         0\n",
       "bmi         0\n",
       "children    0\n",
       "smoker      0\n",
       "region      0\n",
       "charges     0\n",
       "dtype: int64"
      ]
     },
     "execution_count": 28,
     "metadata": {},
     "output_type": "execute_result"
    }
   ],
   "source": [
    "insurance_data.isna().sum()"
   ]
  },
  {
   "cell_type": "markdown",
   "metadata": {},
   "source": [
    "### 2. Exploratory Data Analysis\n",
    "#### 2.1 Age"
   ]
  },
  {
   "cell_type": "code",
   "execution_count": 76,
   "metadata": {},
   "outputs": [
    {
     "data": {
      "text/plain": [
       "count    1338.000000\n",
       "mean       39.207025\n",
       "std        14.049960\n",
       "min        18.000000\n",
       "25%        27.000000\n",
       "50%        39.000000\n",
       "75%        51.000000\n",
       "max        64.000000\n",
       "Name: age, dtype: float64"
      ]
     },
     "execution_count": 76,
     "metadata": {},
     "output_type": "execute_result"
    }
   ],
   "source": [
    "insurance_data.age.describe()"
   ]
  },
  {
   "cell_type": "code",
   "execution_count": 54,
   "metadata": {},
   "outputs": [
    {
     "data": {
      "image/png": "[encoded data removed]",
      "text/plain": [
       "<Figure size 792x576 with 1 Axes>"
      ]
     },
     "metadata": {
      "needs_background": "light"
     },
     "output_type": "display_data"
    }
   ],
   "source": [
    "ax = exploratory.center_scale_plot(insurance_data.age, np.mean, np.std, bins=73)"
   ]
  },
  {
   "cell_type": "markdown",
   "metadata": {},
   "source": [
    "**Notes:** The age in the insurance data range from 18 to 64.  The average age of the data set is 39.2. "
   ]
  },
  {
   "cell_type": "code",
   "execution_count": 67,
   "metadata": {},
   "outputs": [
    {
     "data": {
      "image/png": "[encoded data removed]",
      "text/plain": [
       "<Figure size 792x576 with 1 Axes>"
      ]
     },
     "metadata": {
      "needs_background": "light"
     },
     "output_type": "display_data"
    }
   ],
   "source": [
    "ax = exploratory.qq_plot(insurance_data.age)"
   ]
  },
  {
   "cell_type": "markdown",
   "metadata": {},
   "source": [
    "**Notes:** The Q-Q plot shows that the age data is partially close to a normal distribution (quantile 20 to 60). However on both tiles. there are sharpe drops because the range of data are from 18 to 64."
   ]
  },
  {
   "cell_type": "markdown",
   "metadata": {},
   "source": [
    "#### 2.2 Sex"
   ]
  },
  {
   "cell_type": "code",
   "execution_count": 56,
   "metadata": {},
   "outputs": [
    {
     "data": {
      "text/plain": [
       "male      676\n",
       "female    662\n",
       "Name: sex, dtype: int64"
      ]
     },
     "execution_count": 56,
     "metadata": {},
     "output_type": "execute_result"
    }
   ],
   "source": [
    "insurance_data.sex.value_counts()"
   ]
  },
  {
   "cell_type": "markdown",
   "metadata": {},
   "source": [
    "**Notes:** Male and female are equally distributed"
   ]
  },
  {
   "cell_type": "markdown",
   "metadata": {},
   "source": [
    "#### 2.3 bmi"
   ]
  },
  {
   "cell_type": "code",
   "execution_count": 58,
   "metadata": {},
   "outputs": [
    {
     "data": {
      "image/png": "[encoded data removed]",
      "text/plain": [
       "<Figure size 792x576 with 1 Axes>"
      ]
     },
     "metadata": {
      "needs_background": "light"
     },
     "output_type": "display_data"
    }
   ],
   "source": [
    "ax = exploratory.center_scale_plot(insurance_data.bmi, np.mean, np.std, bins=73)"
   ]
  },
  {
   "cell_type": "code",
   "execution_count": 66,
   "metadata": {},
   "outputs": [
    {
     "data": {
      "image/png": "[encoded data removed]",
      "text/plain": [
       "<Figure size 792x576 with 1 Axes>"
      ]
     },
     "metadata": {
      "needs_background": "light"
     },
     "output_type": "display_data"
    }
   ],
   "source": [
    "ax = exploratory.qq_plot(insurance_data.bmi)"
   ]
  },
  {
   "cell_type": "markdown",
   "metadata": {},
   "source": [
    "**Notes:** \n",
    "- `bmi` is a measure of body fat based on height and weight that applies to adult men and women.\n",
    "- The distribution of bmi is very similar to a normal distribution with a slightly skewness to the right"
   ]
  },
  {
   "cell_type": "markdown",
   "metadata": {},
   "source": [
    "#### 2.4 Children"
   ]
  },
  {
   "cell_type": "code",
   "execution_count": 60,
   "metadata": {},
   "outputs": [
    {
     "data": {
      "text/plain": [
       "0    574\n",
       "1    324\n",
       "2    240\n",
       "3    157\n",
       "4     25\n",
       "5     18\n",
       "Name: children, dtype: int64"
      ]
     },
     "execution_count": 60,
     "metadata": {},
     "output_type": "execute_result"
    }
   ],
   "source": [
    "insurance_data.children.value_counts()"
   ]
  },
  {
   "cell_type": "markdown",
   "metadata": {},
   "source": [
    "#### 2.5 smoker"
   ]
  },
  {
   "cell_type": "code",
   "execution_count": 61,
   "metadata": {},
   "outputs": [
    {
     "data": {
      "text/plain": [
       "no     1064\n",
       "yes     274\n",
       "Name: smoker, dtype: int64"
      ]
     },
     "execution_count": 61,
     "metadata": {},
     "output_type": "execute_result"
    }
   ],
   "source": [
    "insurance_data.smoker.value_counts()"
   ]
  },
  {
   "cell_type": "markdown",
   "metadata": {},
   "source": [
    "#### 2.6 region"
   ]
  },
  {
   "cell_type": "code",
   "execution_count": 62,
   "metadata": {},
   "outputs": [
    {
     "data": {
      "text/plain": [
       "southeast    364\n",
       "southwest    325\n",
       "northwest    325\n",
       "northeast    324\n",
       "Name: region, dtype: int64"
      ]
     },
     "execution_count": 62,
     "metadata": {},
     "output_type": "execute_result"
    }
   ],
   "source": [
    "insurance_data.region.value_counts()"
   ]
  },
  {
   "cell_type": "markdown",
   "metadata": {},
   "source": [
    "#### 2.7 charge"
   ]
  },
  {
   "cell_type": "code",
   "execution_count": 64,
   "metadata": {},
   "outputs": [
    {
     "data": {
      "image/png": "[encoded data removed]",
      "text/plain": [
       "<Figure size 792x576 with 1 Axes>"
      ]
     },
     "metadata": {
      "needs_background": "light"
     },
     "output_type": "display_data"
    }
   ],
   "source": [
    "ax = exploratory.center_scale_plot(insurance_data.charges, np.mean, np.std, bins=73)"
   ]
  },
  {
   "cell_type": "code",
   "execution_count": 65,
   "metadata": {
    "scrolled": true
   },
   "outputs": [
    {
     "data": {
      "image/png": "[encoded data removed]",
      "text/plain": [
       "<Figure size 792x576 with 1 Axes>"
      ]
     },
     "metadata": {
      "needs_background": "light"
     },
     "output_type": "display_data"
    }
   ],
   "source": [
    "ax = exploratory.center_scale_plot(np.log(insurance_data.charges), np.mean, np.std, bins=73)"
   ]
  },
  {
   "cell_type": "markdown",
   "metadata": {},
   "source": [
    "\n",
    "**Notes**\n",
    "Taking the log transform has yielded a more symmetrical dataset that sits almost entirely within 3 standard deviation bands."
   ]
  },
  {
   "cell_type": "code",
   "execution_count": 68,
   "metadata": {},
   "outputs": [
    {
     "data": {
      "image/png": "[encoded data removed]",
      "text/plain": [
       "<Figure size 792x576 with 1 Axes>"
      ]
     },
     "metadata": {
      "needs_background": "light"
     },
     "output_type": "display_data"
    }
   ],
   "source": [
    "ax = exploratory.qq_plot(np.log(insurance_data.charges))"
   ]
  },
  {
   "cell_type": "markdown",
   "metadata": {},
   "source": [
    "### 2. One hot encoding"
   ]
  },
  {
   "cell_type": "code",
   "execution_count": 83,
   "metadata": {},
   "outputs": [],
   "source": [
    "def get_modeling_df(one_hot_cols, df):\n",
    "    one_hot_df = []\n",
    "    for col in one_hot_cols:\n",
    "        temp = pd.get_dummies(df[col],prefix=\"is_{}\".format(col),drop_first=True)\n",
    "        one_hot_df.append(temp)\n",
    "    one_hot_df = pd.concat(one_hot_df,axis=1)\n",
    "    return pd.concat([df.drop(columns=one_hot_cols),one_hot_df], axis=1)"
   ]
  },
  {
   "cell_type": "code",
   "execution_count": 84,
   "metadata": {},
   "outputs": [],
   "source": [
    "one_hot_cols = ['sex','smoker','region']\n",
    "insurance_for_modeling = get_modeling_df(one_hot_cols, insurance_data)"
   ]
  },
  {
   "cell_type": "code",
   "execution_count": 86,
   "metadata": {},
   "outputs": [
    {
     "data": {
      "text/plain": [
       "age                      int64\n",
       "bmi                    float64\n",
       "children                 int64\n",
       "charges                float64\n",
       "is_sex_male              uint8\n",
       "is_smoker_yes            uint8\n",
       "is_region_northwest      uint8\n",
       "is_region_southeast      uint8\n",
       "is_region_southwest      uint8\n",
       "dtype: object"
      ]
     },
     "execution_count": 86,
     "metadata": {},
     "output_type": "execute_result"
    }
   ],
   "source": [
    "insurance_for_modeling.dtypes"
   ]
  },
  {
   "cell_type": "markdown",
   "metadata": {},
   "source": [
    "### 3. Collinearity test"
   ]
  },
  {
   "cell_type": "code",
   "execution_count": 85,
   "metadata": {},
   "outputs": [
    {
     "data": {
      "text/html": [
       "<style  type=\"text/css\" >\n",
       "    #T_76395cc0_ace5_11ea_9af3_acde48001122row0_col0 {\n",
       "            background-color:  #b40426;\n",
       "            color:  #f1f1f1;\n",
       "        }    #T_76395cc0_ace5_11ea_9af3_acde48001122row0_col1 {\n",
       "            background-color:  #81a4fb;\n",
       "            color:  #000000;\n",
       "        }    #T_76395cc0_ace5_11ea_9af3_acde48001122row0_col2 {\n",
       "            background-color:  #4e68d8;\n",
       "            color:  #000000;\n",
       "        }    #T_76395cc0_ace5_11ea_9af3_acde48001122row0_col3 {\n",
       "            background-color:  #a7c5fe;\n",
       "            color:  #000000;\n",
       "        }    #T_76395cc0_ace5_11ea_9af3_acde48001122row0_col4 {\n",
       "            background-color:  #3b4cc0;\n",
       "            color:  #f1f1f1;\n",
       "        }    #T_76395cc0_ace5_11ea_9af3_acde48001122row0_col5 {\n",
       "            background-color:  #3d50c3;\n",
       "            color:  #f1f1f1;\n",
       "        }    #T_76395cc0_ace5_11ea_9af3_acde48001122row0_col6 {\n",
       "            background-color:  #8fb1fe;\n",
       "            color:  #000000;\n",
       "        }    #T_76395cc0_ace5_11ea_9af3_acde48001122row0_col7 {\n",
       "            background-color:  #8caffe;\n",
       "            color:  #000000;\n",
       "        }    #T_76395cc0_ace5_11ea_9af3_acde48001122row0_col8 {\n",
       "            background-color:  #92b4fe;\n",
       "            color:  #000000;\n",
       "        }    #T_76395cc0_ace5_11ea_9af3_acde48001122row1_col0 {\n",
       "            background-color:  #6384eb;\n",
       "            color:  #000000;\n",
       "        }    #T_76395cc0_ace5_11ea_9af3_acde48001122row1_col1 {\n",
       "            background-color:  #b40426;\n",
       "            color:  #f1f1f1;\n",
       "        }    #T_76395cc0_ace5_11ea_9af3_acde48001122row1_col2 {\n",
       "            background-color:  #445acc;\n",
       "            color:  #f1f1f1;\n",
       "        }    #T_76395cc0_ace5_11ea_9af3_acde48001122row1_col3 {\n",
       "            background-color:  #86a9fc;\n",
       "            color:  #000000;\n",
       "        }    #T_76395cc0_ace5_11ea_9af3_acde48001122row1_col4 {\n",
       "            background-color:  #4e68d8;\n",
       "            color:  #000000;\n",
       "        }    #T_76395cc0_ace5_11ea_9af3_acde48001122row1_col5 {\n",
       "            background-color:  #465ecf;\n",
       "            color:  #f1f1f1;\n",
       "        }    #T_76395cc0_ace5_11ea_9af3_acde48001122row1_col6 {\n",
       "            background-color:  #6b8df0;\n",
       "            color:  #000000;\n",
       "        }    #T_76395cc0_ace5_11ea_9af3_acde48001122row1_col7 {\n",
       "            background-color:  #d2dbe8;\n",
       "            color:  #000000;\n",
       "        }    #T_76395cc0_ace5_11ea_9af3_acde48001122row1_col8 {\n",
       "            background-color:  #8db0fe;\n",
       "            color:  #000000;\n",
       "        }    #T_76395cc0_ace5_11ea_9af3_acde48001122row2_col0 {\n",
       "            background-color:  #4e68d8;\n",
       "            color:  #000000;\n",
       "        }    #T_76395cc0_ace5_11ea_9af3_acde48001122row2_col1 {\n",
       "            background-color:  #6384eb;\n",
       "            color:  #000000;\n",
       "        }    #T_76395cc0_ace5_11ea_9af3_acde48001122row2_col2 {\n",
       "            background-color:  #b40426;\n",
       "            color:  #f1f1f1;\n",
       "        }    #T_76395cc0_ace5_11ea_9af3_acde48001122row2_col3 {\n",
       "            background-color:  #5b7ae5;\n",
       "            color:  #000000;\n",
       "        }    #T_76395cc0_ace5_11ea_9af3_acde48001122row2_col4 {\n",
       "            background-color:  #455cce;\n",
       "            color:  #f1f1f1;\n",
       "        }    #T_76395cc0_ace5_11ea_9af3_acde48001122row2_col5 {\n",
       "            background-color:  #485fd1;\n",
       "            color:  #f1f1f1;\n",
       "        }    #T_76395cc0_ace5_11ea_9af3_acde48001122row2_col6 {\n",
       "            background-color:  #96b7ff;\n",
       "            color:  #000000;\n",
       "        }    #T_76395cc0_ace5_11ea_9af3_acde48001122row2_col7 {\n",
       "            background-color:  #89acfd;\n",
       "            color:  #000000;\n",
       "        }    #T_76395cc0_ace5_11ea_9af3_acde48001122row2_col8 {\n",
       "            background-color:  #96b7ff;\n",
       "            color:  #000000;\n",
       "        }    #T_76395cc0_ace5_11ea_9af3_acde48001122row3_col0 {\n",
       "            background-color:  #a3c2fe;\n",
       "            color:  #000000;\n",
       "        }    #T_76395cc0_ace5_11ea_9af3_acde48001122row3_col1 {\n",
       "            background-color:  #9dbdff;\n",
       "            color:  #000000;\n",
       "        }    #T_76395cc0_ace5_11ea_9af3_acde48001122row3_col2 {\n",
       "            background-color:  #5572df;\n",
       "            color:  #000000;\n",
       "        }    #T_76395cc0_ace5_11ea_9af3_acde48001122row3_col3 {\n",
       "            background-color:  #b40426;\n",
       "            color:  #f1f1f1;\n",
       "        }    #T_76395cc0_ace5_11ea_9af3_acde48001122row3_col4 {\n",
       "            background-color:  #516ddb;\n",
       "            color:  #000000;\n",
       "        }    #T_76395cc0_ace5_11ea_9af3_acde48001122row3_col5 {\n",
       "            background-color:  #ee8669;\n",
       "            color:  #000000;\n",
       "        }    #T_76395cc0_ace5_11ea_9af3_acde48001122row3_col6 {\n",
       "            background-color:  #85a8fc;\n",
       "            color:  #000000;\n",
       "        }    #T_76395cc0_ace5_11ea_9af3_acde48001122row3_col7 {\n",
       "            background-color:  #a2c1ff;\n",
       "            color:  #000000;\n",
       "        }    #T_76395cc0_ace5_11ea_9af3_acde48001122row3_col8 {\n",
       "            background-color:  #84a7fc;\n",
       "            color:  #000000;\n",
       "        }    #T_76395cc0_ace5_11ea_9af3_acde48001122row4_col0 {\n",
       "            background-color:  #3c4ec2;\n",
       "            color:  #f1f1f1;\n",
       "        }    #T_76395cc0_ace5_11ea_9af3_acde48001122row4_col1 {\n",
       "            background-color:  #6e90f2;\n",
       "            color:  #000000;\n",
       "        }    #T_76395cc0_ace5_11ea_9af3_acde48001122row4_col2 {\n",
       "            background-color:  #465ecf;\n",
       "            color:  #f1f1f1;\n",
       "        }    #T_76395cc0_ace5_11ea_9af3_acde48001122row4_col3 {\n",
       "            background-color:  #5875e1;\n",
       "            color:  #000000;\n",
       "        }    #T_76395cc0_ace5_11ea_9af3_acde48001122row4_col4 {\n",
       "            background-color:  #b40426;\n",
       "            color:  #f1f1f1;\n",
       "        }    #T_76395cc0_ace5_11ea_9af3_acde48001122row4_col5 {\n",
       "            background-color:  #5b7ae5;\n",
       "            color:  #000000;\n",
       "        }    #T_76395cc0_ace5_11ea_9af3_acde48001122row4_col6 {\n",
       "            background-color:  #8caffe;\n",
       "            color:  #000000;\n",
       "        }    #T_76395cc0_ace5_11ea_9af3_acde48001122row4_col7 {\n",
       "            background-color:  #94b6ff;\n",
       "            color:  #000000;\n",
       "        }    #T_76395cc0_ace5_11ea_9af3_acde48001122row4_col8 {\n",
       "            background-color:  #8fb1fe;\n",
       "            color:  #000000;\n",
       "        }    #T_76395cc0_ace5_11ea_9af3_acde48001122row5_col0 {\n",
       "            background-color:  #3b4cc0;\n",
       "            color:  #f1f1f1;\n",
       "        }    #T_76395cc0_ace5_11ea_9af3_acde48001122row5_col1 {\n",
       "            background-color:  #6180e9;\n",
       "            color:  #000000;\n",
       "        }    #T_76395cc0_ace5_11ea_9af3_acde48001122row5_col2 {\n",
       "            background-color:  #4358cb;\n",
       "            color:  #f1f1f1;\n",
       "        }    #T_76395cc0_ace5_11ea_9af3_acde48001122row5_col3 {\n",
       "            background-color:  #ee8669;\n",
       "            color:  #000000;\n",
       "        }    #T_76395cc0_ace5_11ea_9af3_acde48001122row5_col4 {\n",
       "            background-color:  #5875e1;\n",
       "            color:  #000000;\n",
       "        }    #T_76395cc0_ace5_11ea_9af3_acde48001122row5_col5 {\n",
       "            background-color:  #b40426;\n",
       "            color:  #f1f1f1;\n",
       "        }    #T_76395cc0_ace5_11ea_9af3_acde48001122row5_col6 {\n",
       "            background-color:  #85a8fc;\n",
       "            color:  #000000;\n",
       "        }    #T_76395cc0_ace5_11ea_9af3_acde48001122row5_col7 {\n",
       "            background-color:  #a1c0ff;\n",
       "            color:  #000000;\n",
       "        }    #T_76395cc0_ace5_11ea_9af3_acde48001122row5_col8 {\n",
       "            background-color:  #85a8fc;\n",
       "            color:  #000000;\n",
       "        }    #T_76395cc0_ace5_11ea_9af3_acde48001122row6_col0 {\n",
       "            background-color:  #4257c9;\n",
       "            color:  #f1f1f1;\n",
       "        }    #T_76395cc0_ace5_11ea_9af3_acde48001122row6_col1 {\n",
       "            background-color:  #3b4cc0;\n",
       "            color:  #f1f1f1;\n",
       "        }    #T_76395cc0_ace5_11ea_9af3_acde48001122row6_col2 {\n",
       "            background-color:  #485fd1;\n",
       "            color:  #f1f1f1;\n",
       "        }    #T_76395cc0_ace5_11ea_9af3_acde48001122row6_col3 {\n",
       "            background-color:  #3b4cc0;\n",
       "            color:  #f1f1f1;\n",
       "        }    #T_76395cc0_ace5_11ea_9af3_acde48001122row6_col4 {\n",
       "            background-color:  #3d50c3;\n",
       "            color:  #f1f1f1;\n",
       "        }    #T_76395cc0_ace5_11ea_9af3_acde48001122row6_col5 {\n",
       "            background-color:  #3b4cc0;\n",
       "            color:  #f1f1f1;\n",
       "        }    #T_76395cc0_ace5_11ea_9af3_acde48001122row6_col6 {\n",
       "            background-color:  #b40426;\n",
       "            color:  #f1f1f1;\n",
       "        }    #T_76395cc0_ace5_11ea_9af3_acde48001122row6_col7 {\n",
       "            background-color:  #3b4cc0;\n",
       "            color:  #f1f1f1;\n",
       "        }    #T_76395cc0_ace5_11ea_9af3_acde48001122row6_col8 {\n",
       "            background-color:  #3f53c6;\n",
       "            color:  #f1f1f1;\n",
       "        }    #T_76395cc0_ace5_11ea_9af3_acde48001122row7_col0 {\n",
       "            background-color:  #3e51c5;\n",
       "            color:  #f1f1f1;\n",
       "        }    #T_76395cc0_ace5_11ea_9af3_acde48001122row7_col1 {\n",
       "            background-color:  #b2ccfb;\n",
       "            color:  #000000;\n",
       "        }    #T_76395cc0_ace5_11ea_9af3_acde48001122row7_col2 {\n",
       "            background-color:  #3b4cc0;\n",
       "            color:  #f1f1f1;\n",
       "        }    #T_76395cc0_ace5_11ea_9af3_acde48001122row7_col3 {\n",
       "            background-color:  #5d7ce6;\n",
       "            color:  #000000;\n",
       "        }    #T_76395cc0_ace5_11ea_9af3_acde48001122row7_col4 {\n",
       "            background-color:  #455cce;\n",
       "            color:  #f1f1f1;\n",
       "        }    #T_76395cc0_ace5_11ea_9af3_acde48001122row7_col5 {\n",
       "            background-color:  #5a78e4;\n",
       "            color:  #000000;\n",
       "        }    #T_76395cc0_ace5_11ea_9af3_acde48001122row7_col6 {\n",
       "            background-color:  #3b4cc0;\n",
       "            color:  #f1f1f1;\n",
       "        }    #T_76395cc0_ace5_11ea_9af3_acde48001122row7_col7 {\n",
       "            background-color:  #b40426;\n",
       "            color:  #f1f1f1;\n",
       "        }    #T_76395cc0_ace5_11ea_9af3_acde48001122row7_col8 {\n",
       "            background-color:  #3b4cc0;\n",
       "            color:  #f1f1f1;\n",
       "        }    #T_76395cc0_ace5_11ea_9af3_acde48001122row8_col0 {\n",
       "            background-color:  #445acc;\n",
       "            color:  #f1f1f1;\n",
       "        }    #T_76395cc0_ace5_11ea_9af3_acde48001122row8_col1 {\n",
       "            background-color:  #5e7de7;\n",
       "            color:  #000000;\n",
       "        }    #T_76395cc0_ace5_11ea_9af3_acde48001122row8_col2 {\n",
       "            background-color:  #485fd1;\n",
       "            color:  #f1f1f1;\n",
       "        }    #T_76395cc0_ace5_11ea_9af3_acde48001122row8_col3 {\n",
       "            background-color:  #3b4cc0;\n",
       "            color:  #f1f1f1;\n",
       "        }    #T_76395cc0_ace5_11ea_9af3_acde48001122row8_col4 {\n",
       "            background-color:  #3f53c6;\n",
       "            color:  #f1f1f1;\n",
       "        }    #T_76395cc0_ace5_11ea_9af3_acde48001122row8_col5 {\n",
       "            background-color:  #3b4cc0;\n",
       "            color:  #f1f1f1;\n",
       "        }    #T_76395cc0_ace5_11ea_9af3_acde48001122row8_col6 {\n",
       "            background-color:  #3f53c6;\n",
       "            color:  #f1f1f1;\n",
       "        }    #T_76395cc0_ace5_11ea_9af3_acde48001122row8_col7 {\n",
       "            background-color:  #3b4cc0;\n",
       "            color:  #f1f1f1;\n",
       "        }    #T_76395cc0_ace5_11ea_9af3_acde48001122row8_col8 {\n",
       "            background-color:  #b40426;\n",
       "            color:  #f1f1f1;\n",
       "        }</style><table id=\"T_76395cc0_ace5_11ea_9af3_acde48001122\" ><thead>    <tr>        <th class=\"blank level0\" ></th>        <th class=\"col_heading level0 col0\" >age</th>        <th class=\"col_heading level0 col1\" >bmi</th>        <th class=\"col_heading level0 col2\" >children</th>        <th class=\"col_heading level0 col3\" >charges</th>        <th class=\"col_heading level0 col4\" >is_sex_male</th>        <th class=\"col_heading level0 col5\" >is_smoker_yes</th>        <th class=\"col_heading level0 col6\" >is_region_northwest</th>        <th class=\"col_heading level0 col7\" >is_region_southeast</th>        <th class=\"col_heading level0 col8\" >is_region_southwest</th>    </tr></thead><tbody>\n",
       "                <tr>\n",
       "                        <th id=\"T_76395cc0_ace5_11ea_9af3_acde48001122level0_row0\" class=\"row_heading level0 row0\" >age</th>\n",
       "                        <td id=\"T_76395cc0_ace5_11ea_9af3_acde48001122row0_col0\" class=\"data row0 col0\" >1.000000</td>\n",
       "                        <td id=\"T_76395cc0_ace5_11ea_9af3_acde48001122row0_col1\" class=\"data row0 col1\" >0.109272</td>\n",
       "                        <td id=\"T_76395cc0_ace5_11ea_9af3_acde48001122row0_col2\" class=\"data row0 col2\" >0.042469</td>\n",
       "                        <td id=\"T_76395cc0_ace5_11ea_9af3_acde48001122row0_col3\" class=\"data row0 col3\" >0.299008</td>\n",
       "                        <td id=\"T_76395cc0_ace5_11ea_9af3_acde48001122row0_col4\" class=\"data row0 col4\" >-0.020856</td>\n",
       "                        <td id=\"T_76395cc0_ace5_11ea_9af3_acde48001122row0_col5\" class=\"data row0 col5\" >-0.025019</td>\n",
       "                        <td id=\"T_76395cc0_ace5_11ea_9af3_acde48001122row0_col6\" class=\"data row0 col6\" >-0.000407</td>\n",
       "                        <td id=\"T_76395cc0_ace5_11ea_9af3_acde48001122row0_col7\" class=\"data row0 col7\" >-0.011642</td>\n",
       "                        <td id=\"T_76395cc0_ace5_11ea_9af3_acde48001122row0_col8\" class=\"data row0 col8\" >0.010016</td>\n",
       "            </tr>\n",
       "            <tr>\n",
       "                        <th id=\"T_76395cc0_ace5_11ea_9af3_acde48001122level0_row1\" class=\"row_heading level0 row1\" >bmi</th>\n",
       "                        <td id=\"T_76395cc0_ace5_11ea_9af3_acde48001122row1_col0\" class=\"data row1 col0\" >0.109272</td>\n",
       "                        <td id=\"T_76395cc0_ace5_11ea_9af3_acde48001122row1_col1\" class=\"data row1 col1\" >1.000000</td>\n",
       "                        <td id=\"T_76395cc0_ace5_11ea_9af3_acde48001122row1_col2\" class=\"data row1 col2\" >0.012759</td>\n",
       "                        <td id=\"T_76395cc0_ace5_11ea_9af3_acde48001122row1_col3\" class=\"data row1 col3\" >0.198341</td>\n",
       "                        <td id=\"T_76395cc0_ace5_11ea_9af3_acde48001122row1_col4\" class=\"data row1 col4\" >0.046371</td>\n",
       "                        <td id=\"T_76395cc0_ace5_11ea_9af3_acde48001122row1_col5\" class=\"data row1 col5\" >0.003750</td>\n",
       "                        <td id=\"T_76395cc0_ace5_11ea_9af3_acde48001122row1_col6\" class=\"data row1 col6\" >-0.135996</td>\n",
       "                        <td id=\"T_76395cc0_ace5_11ea_9af3_acde48001122row1_col7\" class=\"data row1 col7\" >0.270025</td>\n",
       "                        <td id=\"T_76395cc0_ace5_11ea_9af3_acde48001122row1_col8\" class=\"data row1 col8\" >-0.006205</td>\n",
       "            </tr>\n",
       "            <tr>\n",
       "                        <th id=\"T_76395cc0_ace5_11ea_9af3_acde48001122level0_row2\" class=\"row_heading level0 row2\" >children</th>\n",
       "                        <td id=\"T_76395cc0_ace5_11ea_9af3_acde48001122row2_col0\" class=\"data row2 col0\" >0.042469</td>\n",
       "                        <td id=\"T_76395cc0_ace5_11ea_9af3_acde48001122row2_col1\" class=\"data row2 col1\" >0.012759</td>\n",
       "                        <td id=\"T_76395cc0_ace5_11ea_9af3_acde48001122row2_col2\" class=\"data row2 col2\" >1.000000</td>\n",
       "                        <td id=\"T_76395cc0_ace5_11ea_9af3_acde48001122row2_col3\" class=\"data row2 col3\" >0.067998</td>\n",
       "                        <td id=\"T_76395cc0_ace5_11ea_9af3_acde48001122row2_col4\" class=\"data row2 col4\" >0.017163</td>\n",
       "                        <td id=\"T_76395cc0_ace5_11ea_9af3_acde48001122row2_col5\" class=\"data row2 col5\" >0.007673</td>\n",
       "                        <td id=\"T_76395cc0_ace5_11ea_9af3_acde48001122row2_col6\" class=\"data row2 col6\" >0.024806</td>\n",
       "                        <td id=\"T_76395cc0_ace5_11ea_9af3_acde48001122row2_col7\" class=\"data row2 col7\" >-0.023066</td>\n",
       "                        <td id=\"T_76395cc0_ace5_11ea_9af3_acde48001122row2_col8\" class=\"data row2 col8\" >0.021914</td>\n",
       "            </tr>\n",
       "            <tr>\n",
       "                        <th id=\"T_76395cc0_ace5_11ea_9af3_acde48001122level0_row3\" class=\"row_heading level0 row3\" >charges</th>\n",
       "                        <td id=\"T_76395cc0_ace5_11ea_9af3_acde48001122row3_col0\" class=\"data row3 col0\" >0.299008</td>\n",
       "                        <td id=\"T_76395cc0_ace5_11ea_9af3_acde48001122row3_col1\" class=\"data row3 col1\" >0.198341</td>\n",
       "                        <td id=\"T_76395cc0_ace5_11ea_9af3_acde48001122row3_col2\" class=\"data row3 col2\" >0.067998</td>\n",
       "                        <td id=\"T_76395cc0_ace5_11ea_9af3_acde48001122row3_col3\" class=\"data row3 col3\" >1.000000</td>\n",
       "                        <td id=\"T_76395cc0_ace5_11ea_9af3_acde48001122row3_col4\" class=\"data row3 col4\" >0.057292</td>\n",
       "                        <td id=\"T_76395cc0_ace5_11ea_9af3_acde48001122row3_col5\" class=\"data row3 col5\" >0.787251</td>\n",
       "                        <td id=\"T_76395cc0_ace5_11ea_9af3_acde48001122row3_col6\" class=\"data row3 col6\" >-0.039905</td>\n",
       "                        <td id=\"T_76395cc0_ace5_11ea_9af3_acde48001122row3_col7\" class=\"data row3 col7\" >0.073982</td>\n",
       "                        <td id=\"T_76395cc0_ace5_11ea_9af3_acde48001122row3_col8\" class=\"data row3 col8\" >-0.043210</td>\n",
       "            </tr>\n",
       "            <tr>\n",
       "                        <th id=\"T_76395cc0_ace5_11ea_9af3_acde48001122level0_row4\" class=\"row_heading level0 row4\" >is_sex_male</th>\n",
       "                        <td id=\"T_76395cc0_ace5_11ea_9af3_acde48001122row4_col0\" class=\"data row4 col0\" >-0.020856</td>\n",
       "                        <td id=\"T_76395cc0_ace5_11ea_9af3_acde48001122row4_col1\" class=\"data row4 col1\" >0.046371</td>\n",
       "                        <td id=\"T_76395cc0_ace5_11ea_9af3_acde48001122row4_col2\" class=\"data row4 col2\" >0.017163</td>\n",
       "                        <td id=\"T_76395cc0_ace5_11ea_9af3_acde48001122row4_col3\" class=\"data row4 col3\" >0.057292</td>\n",
       "                        <td id=\"T_76395cc0_ace5_11ea_9af3_acde48001122row4_col4\" class=\"data row4 col4\" >1.000000</td>\n",
       "                        <td id=\"T_76395cc0_ace5_11ea_9af3_acde48001122row4_col5\" class=\"data row4 col5\" >0.076185</td>\n",
       "                        <td id=\"T_76395cc0_ace5_11ea_9af3_acde48001122row4_col6\" class=\"data row4 col6\" >-0.011156</td>\n",
       "                        <td id=\"T_76395cc0_ace5_11ea_9af3_acde48001122row4_col7\" class=\"data row4 col7\" >0.017117</td>\n",
       "                        <td id=\"T_76395cc0_ace5_11ea_9af3_acde48001122row4_col8\" class=\"data row4 col8\" >-0.004184</td>\n",
       "            </tr>\n",
       "            <tr>\n",
       "                        <th id=\"T_76395cc0_ace5_11ea_9af3_acde48001122level0_row5\" class=\"row_heading level0 row5\" >is_smoker_yes</th>\n",
       "                        <td id=\"T_76395cc0_ace5_11ea_9af3_acde48001122row5_col0\" class=\"data row5 col0\" >-0.025019</td>\n",
       "                        <td id=\"T_76395cc0_ace5_11ea_9af3_acde48001122row5_col1\" class=\"data row5 col1\" >0.003750</td>\n",
       "                        <td id=\"T_76395cc0_ace5_11ea_9af3_acde48001122row5_col2\" class=\"data row5 col2\" >0.007673</td>\n",
       "                        <td id=\"T_76395cc0_ace5_11ea_9af3_acde48001122row5_col3\" class=\"data row5 col3\" >0.787251</td>\n",
       "                        <td id=\"T_76395cc0_ace5_11ea_9af3_acde48001122row5_col4\" class=\"data row5 col4\" >0.076185</td>\n",
       "                        <td id=\"T_76395cc0_ace5_11ea_9af3_acde48001122row5_col5\" class=\"data row5 col5\" >1.000000</td>\n",
       "                        <td id=\"T_76395cc0_ace5_11ea_9af3_acde48001122row5_col6\" class=\"data row5 col6\" >-0.036945</td>\n",
       "                        <td id=\"T_76395cc0_ace5_11ea_9af3_acde48001122row5_col7\" class=\"data row5 col7\" >0.068498</td>\n",
       "                        <td id=\"T_76395cc0_ace5_11ea_9af3_acde48001122row5_col8\" class=\"data row5 col8\" >-0.036945</td>\n",
       "            </tr>\n",
       "            <tr>\n",
       "                        <th id=\"T_76395cc0_ace5_11ea_9af3_acde48001122level0_row6\" class=\"row_heading level0 row6\" >is_region_northwest</th>\n",
       "                        <td id=\"T_76395cc0_ace5_11ea_9af3_acde48001122row6_col0\" class=\"data row6 col0\" >-0.000407</td>\n",
       "                        <td id=\"T_76395cc0_ace5_11ea_9af3_acde48001122row6_col1\" class=\"data row6 col1\" >-0.135996</td>\n",
       "                        <td id=\"T_76395cc0_ace5_11ea_9af3_acde48001122row6_col2\" class=\"data row6 col2\" >0.024806</td>\n",
       "                        <td id=\"T_76395cc0_ace5_11ea_9af3_acde48001122row6_col3\" class=\"data row6 col3\" >-0.039905</td>\n",
       "                        <td id=\"T_76395cc0_ace5_11ea_9af3_acde48001122row6_col4\" class=\"data row6 col4\" >-0.011156</td>\n",
       "                        <td id=\"T_76395cc0_ace5_11ea_9af3_acde48001122row6_col5\" class=\"data row6 col5\" >-0.036945</td>\n",
       "                        <td id=\"T_76395cc0_ace5_11ea_9af3_acde48001122row6_col6\" class=\"data row6 col6\" >1.000000</td>\n",
       "                        <td id=\"T_76395cc0_ace5_11ea_9af3_acde48001122row6_col7\" class=\"data row6 col7\" >-0.346265</td>\n",
       "                        <td id=\"T_76395cc0_ace5_11ea_9af3_acde48001122row6_col8\" class=\"data row6 col8\" >-0.320829</td>\n",
       "            </tr>\n",
       "            <tr>\n",
       "                        <th id=\"T_76395cc0_ace5_11ea_9af3_acde48001122level0_row7\" class=\"row_heading level0 row7\" >is_region_southeast</th>\n",
       "                        <td id=\"T_76395cc0_ace5_11ea_9af3_acde48001122row7_col0\" class=\"data row7 col0\" >-0.011642</td>\n",
       "                        <td id=\"T_76395cc0_ace5_11ea_9af3_acde48001122row7_col1\" class=\"data row7 col1\" >0.270025</td>\n",
       "                        <td id=\"T_76395cc0_ace5_11ea_9af3_acde48001122row7_col2\" class=\"data row7 col2\" >-0.023066</td>\n",
       "                        <td id=\"T_76395cc0_ace5_11ea_9af3_acde48001122row7_col3\" class=\"data row7 col3\" >0.073982</td>\n",
       "                        <td id=\"T_76395cc0_ace5_11ea_9af3_acde48001122row7_col4\" class=\"data row7 col4\" >0.017117</td>\n",
       "                        <td id=\"T_76395cc0_ace5_11ea_9af3_acde48001122row7_col5\" class=\"data row7 col5\" >0.068498</td>\n",
       "                        <td id=\"T_76395cc0_ace5_11ea_9af3_acde48001122row7_col6\" class=\"data row7 col6\" >-0.346265</td>\n",
       "                        <td id=\"T_76395cc0_ace5_11ea_9af3_acde48001122row7_col7\" class=\"data row7 col7\" >1.000000</td>\n",
       "                        <td id=\"T_76395cc0_ace5_11ea_9af3_acde48001122row7_col8\" class=\"data row7 col8\" >-0.346265</td>\n",
       "            </tr>\n",
       "            <tr>\n",
       "                        <th id=\"T_76395cc0_ace5_11ea_9af3_acde48001122level0_row8\" class=\"row_heading level0 row8\" >is_region_southwest</th>\n",
       "                        <td id=\"T_76395cc0_ace5_11ea_9af3_acde48001122row8_col0\" class=\"data row8 col0\" >0.010016</td>\n",
       "                        <td id=\"T_76395cc0_ace5_11ea_9af3_acde48001122row8_col1\" class=\"data row8 col1\" >-0.006205</td>\n",
       "                        <td id=\"T_76395cc0_ace5_11ea_9af3_acde48001122row8_col2\" class=\"data row8 col2\" >0.021914</td>\n",
       "                        <td id=\"T_76395cc0_ace5_11ea_9af3_acde48001122row8_col3\" class=\"data row8 col3\" >-0.043210</td>\n",
       "                        <td id=\"T_76395cc0_ace5_11ea_9af3_acde48001122row8_col4\" class=\"data row8 col4\" >-0.004184</td>\n",
       "                        <td id=\"T_76395cc0_ace5_11ea_9af3_acde48001122row8_col5\" class=\"data row8 col5\" >-0.036945</td>\n",
       "                        <td id=\"T_76395cc0_ace5_11ea_9af3_acde48001122row8_col6\" class=\"data row8 col6\" >-0.320829</td>\n",
       "                        <td id=\"T_76395cc0_ace5_11ea_9af3_acde48001122row8_col7\" class=\"data row8 col7\" >-0.346265</td>\n",
       "                        <td id=\"T_76395cc0_ace5_11ea_9af3_acde48001122row8_col8\" class=\"data row8 col8\" >1.000000</td>\n",
       "            </tr>\n",
       "    </tbody></table>"
      ],
      "text/plain": [
       "<pandas.io.formats.style.Styler at 0x138845048>"
      ]
     },
     "execution_count": 85,
     "metadata": {},
     "output_type": "execute_result"
    }
   ],
   "source": [
    "insurance_for_modeling.corr().style.background_gradient(cmap='coolwarm')"
   ]
  },
  {
   "cell_type": "code",
   "execution_count": null,
   "metadata": {},
   "outputs": [],
   "source": []
  },
  {
   "cell_type": "code",
   "execution_count": null,
   "metadata": {},
   "outputs": [],
   "source": []
  },
  {
   "cell_type": "markdown",
   "metadata": {},
   "source": [
    "### 4. Modeling - Ridge"
   ]
  },
  {
   "cell_type": "code",
   "execution_count": 88,
   "metadata": {},
   "outputs": [],
   "source": [
    "X = insurance_for_modeling[[i for i in insurance_for_modeling.columns if 'charges' not in i]]"
   ]
  },
  {
   "cell_type": "code",
   "execution_count": 89,
   "metadata": {},
   "outputs": [],
   "source": [
    "y = insurance_for_modeling.charges"
   ]
  },
  {
   "cell_type": "code",
   "execution_count": 90,
   "metadata": {},
   "outputs": [],
   "source": [
    "X_train, X_test, y_train, y_test = train_test_split(X, y, test_size=0.2, random_state=0)"
   ]
  },
  {
   "cell_type": "code",
   "execution_count": 91,
   "metadata": {
    "scrolled": true
   },
   "outputs": [
    {
     "data": {
      "text/plain": [
       "(1070, 8)"
      ]
     },
     "execution_count": 91,
     "metadata": {},
     "output_type": "execute_result"
    }
   ],
   "source": [
    "X_train.shape"
   ]
  },
  {
   "cell_type": "code",
   "execution_count": 70,
   "metadata": {},
   "outputs": [],
   "source": [
    "def get_r_sqrd(alpha,X_train,y_train,y_test):\n",
    "    ridge = RidgeRegressor(alpha)\n",
    "    ridge.fit(X_train, y_train)\n",
    "    y_hat = ridge.predict(y_test)\n",
    "    return ridge.r_sqrd()"
   ]
  },
  {
   "cell_type": "code",
   "execution_count": 71,
   "metadata": {},
   "outputs": [
    {
     "data": {
      "text/plain": [
       "0.7455531306730392"
      ]
     },
     "execution_count": 71,
     "metadata": {},
     "output_type": "execute_result"
    }
   ],
   "source": [
    "get_r_sqrd(1,X_train,y_train,y_test)"
   ]
  },
  {
   "cell_type": "code",
   "execution_count": 72,
   "metadata": {},
   "outputs": [],
   "source": [
    "alpha_l = np.linspace(0.01,50,50)"
   ]
  },
  {
   "cell_type": "code",
   "execution_count": 73,
   "metadata": {},
   "outputs": [],
   "source": [
    "rsq_l = [get_r_sqrd(i,X_train,y_train,y_test) for i in alpha_l]"
   ]
  },
  {
   "cell_type": "code",
   "execution_count": 74,
   "metadata": {},
   "outputs": [
    {
     "data": {
      "text/plain": [
       "[<matplotlib.lines.Line2D at 0x135e2b978>]"
      ]
     },
     "execution_count": 74,
     "metadata": {},
     "output_type": "execute_result"
    },
    {
     "data": {
      "image/png": "[encoded data removed]",
      "text/plain": [
       "<Figure size 432x288 with 1 Axes>"
      ]
     },
     "metadata": {
      "needs_background": "light"
     },
     "output_type": "display_data"
    }
   ],
   "source": [
    "plt.plot(alpha_l,rsq_l)"
   ]
  },
  {
   "cell_type": "markdown",
   "metadata": {},
   "source": [
    "### With corss validation"
   ]
  },
  {
   "cell_type": "code",
   "execution_count": 46,
   "metadata": {},
   "outputs": [],
   "source": []
  },
  {
   "cell_type": "code",
   "execution_count": 77,
   "metadata": {},
   "outputs": [],
   "source": [
    "def get_r_sqrd_kfolds(alpha, n_splits):\n",
    "    kf = KFold(n_splits)\n",
    "    r_sqrd_l = []\n",
    "    for train_index, test_index in kf.split(X):\n",
    "        X_train, X_test = X.iloc[train_index], X.iloc[test_index]\n",
    "        y_train, y_test = y.iloc[train_index], y.iloc[test_index]\n",
    "        r_sqrd_l.append(get_r_sqrd(alpha,X_train,y_train,y_test))\n",
    "    return r_sqrd_l"
   ]
  },
  {
   "cell_type": "code",
   "execution_count": 86,
   "metadata": {},
   "outputs": [],
   "source": [
    "alpha_l = np.linspace(0.01,50,50)"
   ]
  },
  {
   "cell_type": "code",
   "execution_count": 100,
   "metadata": {},
   "outputs": [],
   "source": [
    "var_l = []\n",
    "mean_l = []\n",
    "for i in alpha_l:\n",
    "    var_l.append(np.var(get_r_sqrd_kfolds(alpha=i, n_splits=10)))\n",
    "    mean_l.append(np.mean(get_r_sqrd_kfolds(alpha=i, n_splits=10)))"
   ]
  },
  {
   "cell_type": "code",
   "execution_count": 107,
   "metadata": {},
   "outputs": [
    {
     "data": {
      "text/plain": [
       "<matplotlib.legend.Legend at 0x136f617f0>"
      ]
     },
     "execution_count": 107,
     "metadata": {},
     "output_type": "execute_result"
    },
    {
     "data": {
      "image/png": "[encoded data removed]",
      "text/plain": [
       "<Figure size 792x648 with 2 Axes>"
      ]
     },
     "metadata": {
      "needs_background": "light"
     },
     "output_type": "display_data"
    }
   ],
   "source": [
    "fig, ax = plt.subplots(figsize =(11,9))\n",
    "ax.plot(alpha_l, mean_l, label=\"Mean\")\n",
    "ax2 = ax.twinx()\n",
    "ax2.plot(alpha_l, var_l, color = 'red', label=\"Variance\")\n",
    "\n",
    "h1, l1 = ax.get_legend_handles_labels()\n",
    "h2, l2 = ax2.get_legend_handles_labels()\n",
    "ax.legend(h1+h2, l1+l2, loc=1)"
   ]
  },
  {
   "cell_type": "code",
   "execution_count": null,
   "metadata": {},
   "outputs": [],
   "source": []
  }
 ],
 "metadata": {
  "kernelspec": {
   "display_name": "Python 3",
   "language": "python",
   "name": "python3"
  },
  "language_info": {
   "codemirror_mode": {
    "name": "ipython",
    "version": 3
   },
   "file_extension": ".py",
   "mimetype": "text/x-python",
   "name": "python",
   "nbconvert_exporter": "python",
   "pygments_lexer": "ipython3",
   "version": "3.7.3"
  }
 },
 "nbformat": 4,
 "nbformat_minor": 2
}
