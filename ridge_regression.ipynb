{
 "cells": [
  {
   "cell_type": "code",
   "execution_count": 1,
   "metadata": {},
   "outputs": [],
   "source": [
    "import numpy as np\n",
    "import pandas as pd\n",
    "import time\n",
    "import matplotlib.pyplot as plt\n",
    "\n",
    "from sklearn.linear_model import Ridge, LinearRegression\n",
    "from sklearn.metrics import r2_score\n",
    "from sklearn.model_selection import train_test_split\n",
    "\n",
    "from indoorplants.analysis import exploratory\n",
    "from indoorplants.validation import crossvalidate, curves\n",
    "\n",
    "from LinearRegressor import LinearRegressor\n"
   ]
  },
  {
   "cell_type": "code",
   "execution_count": 2,
   "metadata": {},
   "outputs": [],
   "source": [
    "%matplotlib inline"
   ]
  },
  {
   "cell_type": "markdown",
   "metadata": {},
   "source": [
    "# `Ridge Regression`"
   ]
  },
  {
   "cell_type": "markdown",
   "metadata": {},
   "source": [
    "### ------------------------------------------------------------------------------------------------"
   ]
  },
  {
   "cell_type": "markdown",
   "metadata": {},
   "source": [
    "# Overview \n",
    "\n",
    " **Goal**: predict the behavior of a continuous _endogenous_ variable given its corresponding _exogenous_ variables, under the constraint that we are penalizing based on coefficient magnitudes when solving for said coefficients. This setup allows for models that are less prone to over-fitting than simple OLS models are.\n",
    " \n",
    " **Model**: $y = X{\\beta} + {\\epsilon}$\n",
    "\n",
    "**Terms**:\n",
    "- $y$: vector of endogenous values\n",
    "- $X$: matrix of exogenous values\n",
    "- $\\beta$: vector of coefficients for exogenous variables\n",
    "- $\\epsilon$: a representation of the random errors or fluctuations around the predicted line or plane\n",
    "\n",
    "**Functionality**:\n",
    "- $y$ is the result of taking the matrix product of $\\beta$ and $X$\n",
    "- i.e. each row in $y$ is the sum of the products, for that row, of each value of $X$ with its corresponding $\\beta$\n",
    "\n",
    "**Basic example**:\n",
    "- *endogenous*: price of an apartment\n",
    "- *exogenous*: square footage (1), number of rooms (2)\n",
    "- $y = \\beta_{0} + \\beta_{1} * X_{1} + \\beta_{2} * X_{2} + \\epsilon$\n",
    "- i.e. $constant + coefficient_{1} * area + coefficient_{2} * rooms$"
   ]
  },
  {
   "cell_type": "markdown",
   "metadata": {},
   "source": [
    "### ------------------------------------------------------------------------------------------------"
   ]
  },
  {
   "cell_type": "markdown",
   "metadata": {},
   "source": [
    "# Tikhonov regularization"
   ]
  },
  {
   "cell_type": "markdown",
   "metadata": {},
   "source": [
    "$\\displaystyle \\min _{\\beta }\\,(\\mathbf {y} -\\mathbf {X} \\beta )^{\\mathsf {T}}(\\mathbf {y} -\\mathbf {X} \\beta )+\\lambda (\\beta ^{\\mathsf {T}}\\beta -c)$\n",
    "\n",
    "$\\displaystyle {\\hat {\\beta }}_{R}=(\\mathbf {X} ^{\\mathsf {T}}\\mathbf {X} +\\lambda \\mathbf {I} )^{-1}\\mathbf {X} ^{\\mathsf {T}}\\mathbf {y}$"
   ]
  },
  {
   "cell_type": "markdown",
   "metadata": {},
   "source": [
    "### ------------------------------------------------------------------------------------------------"
   ]
  },
  {
   "cell_type": "markdown",
   "metadata": {},
   "source": [
    "# Parameter Estimation - OLS\n",
    "\n",
    "**Goal**: given $X$ and $y$, find $\\beta$\n",
    "\n",
    "**Method**: there exist many ways to reach our goal - we will start with Ordinary Least Squares (OLS)"
   ]
  },
  {
   "cell_type": "markdown",
   "metadata": {},
   "source": [
    "(notes written with support from [Wikipedia](https://en.wikipedia.org/wiki/Ordinary_least_squares) and [ESL](http://web.stanford.edu/~hastie/ElemStatLearn/))\n",
    "\n",
    "### Background\n",
    "\n",
    "- to measure the distance between a response and a predicted response, one can take the difference between the two values\n",
    "- this would be written as, for the $i^{th}$ data point, $y_{i} - {X_{i}}\\beta$ (note that $X_{i}$ is a row of $X$), and is referred to as the _residual_ for this data point\n",
    "\n",
    "### Overall model fit\n",
    "\n",
    "- summing the squares of all residuals provides a measure of overall model fit\n",
    "- sum of squared residuals: $\\sum_{i=1}^{n}(y_{i} - \\sum_{j=1}^{p}{X_{i, j}\\beta_{j})}^{2} = {(y-X\\beta)}^{T}(y-X\\beta)$\n",
    "\n",
    "### Estimate Beta\n",
    "\n",
    "- if we find the values of $\\beta$ that minimize the sum of the squared residuals, we have found the model coefficients that provide the best fit\n",
    "- to find the values of $\\beta$ that minimize ${(y-X\\beta)}^{T}(y-X\\beta)$ we need to first differentiate with respect to $\\beta$, yielding a first derivative $-2X^{T}(y - X\\beta)$\n",
    "- if we set that first derivate equal to 0, $X^{T}(y - X\\beta) = 0$, we can, making some assumptions, solve to:\n",
    "\n",
    "$$\\hat\\beta = (X^{T}X)^{-1}X^{T}y$$\n",
    "\n",
    "- see more on the derivation of OLS regression [here](https://are.berkeley.edu/courses/EEP118/current/derive_ols.pdf)\n",
    "\n",
    "### Evaluation\n",
    "\n",
    "- a commonly used metric for fit assessment is that of $R^{2}$\n",
    "- this is the ratio of the variance of $\\hat{y}$ around the mean of $y$, $\\bar{y}$, to the variance of $y$, i.e. the ratio of \"explained\" to \"total\" variance of $y$\n",
    "- which is written as $\\large\\frac{\\sum(\\hat{y} - \\bar{y})^{2}}{\\sum(y - \\bar{y})^{2}}$\n",
    "- useful use of this metric requires the model to include a constant, or $\\beta_{0}$, term, in which case 0 < $R^{2}$ < 1, with closer to 1 being better"
   ]
  },
  {
   "cell_type": "markdown",
   "metadata": {},
   "source": [
    "### ------------------------------------------------------------------------------------------------"
   ]
  },
  {
   "cell_type": "markdown",
   "metadata": {},
   "source": [
    "# Implementation"
   ]
  },
  {
   "cell_type": "code",
   "execution_count": 3,
   "metadata": {},
   "outputs": [],
   "source": [
    "class RidgeRegressor:\n",
    "    \"\"\"Ridge Regression class, built for NumPy arrays. \n",
    "    Fits using lin alg. Always supplies a constant coefficient.\n",
    "    Very unstable!\n",
    "    \n",
    "    (subbing in `alpha` for `lambda` due to the latter's protected status)\n",
    "    \"\"\"\n",
    "    \n",
    "    def __init__(self, alpha=1):\n",
    "        self.B = None\n",
    "        self.alpha = alpha\n",
    "        self._estimator_type = \"regressor\"\n",
    "        \n",
    "    \n",
    "    def fit(self, X, y):\n",
    "        for_coeff = np.ones((X.shape[0], 1))\n",
    "        X = np.hstack((X, for_coeff))\n",
    "        self.B = np.linalg.inv(X.T.dot(X) + self.alpha * np.identity(X.shape[1])).dot(X.T).dot(y)\n",
    "        return self\n",
    "    \n",
    "    \n",
    "    def predict(self, X):\n",
    "        for_coeff = np.ones((X.shape[0], 1))\n",
    "        X = np.hstack((X, for_coeff))\n",
    "        return X.dot(self.B)\n",
    "\n",
    "    \n",
    "    def r_sqrd(self, X, y):\n",
    "        y_hat = self.predict(X)\n",
    "        y_bar = np.mean(y)\n",
    "        explained = np.sum(np.power(y_hat - y_bar, 2))\n",
    "        total = np.sum(np.power(y - y_bar, 2))\n",
    "        return explained / total"
   ]
  },
  {
   "cell_type": "markdown",
   "metadata": {},
   "source": [
    "### ------------------------------------------------------------------------------------------------"
   ]
  },
  {
   "cell_type": "markdown",
   "metadata": {},
   "source": [
    "# Testing"
   ]
  },
  {
   "cell_type": "markdown",
   "metadata": {},
   "source": [
    "## Test 1: Generate Fake Data\n",
    "\n",
    "- with `Ridge`, we are looking to prevent overfitting\n",
    "- overfitting can happen when a model is too tightly coupled to the sample of the data that it happens to be trained on\n",
    "- so, to do this right, we need an idea of what the distribution of our population looks like\n",
    "- then, we need to draw sub-samples that do not represent the population very well"
   ]
  },
  {
   "cell_type": "code",
   "execution_count": 4,
   "metadata": {},
   "outputs": [],
   "source": [
    "X = np.array([[np.random.normal(loc=_, scale=(_ + 1)) for _ in range(100)] for _ in range(3)])"
   ]
  },
  {
   "cell_type": "code",
   "execution_count": 5,
   "metadata": {},
   "outputs": [],
   "source": [
    "X = X.T"
   ]
  },
  {
   "cell_type": "code",
   "execution_count": 6,
   "metadata": {},
   "outputs": [],
   "source": [
    "y = np.array([np.random.normal() for _ in range(100)])"
   ]
  },
  {
   "cell_type": "code",
   "execution_count": 7,
   "metadata": {},
   "outputs": [],
   "source": [
    "# plt.figure(figsize=(11, 8))\n",
    "# ax = plt.scatter(X[:, 0], y)\n",
    "# plt.xlabel(\"X\")\n",
    "# plt.ylabel(\"y\")\n",
    "# t = plt.title(\"Semi-Random Data: X1\")"
   ]
  },
  {
   "cell_type": "code",
   "execution_count": 8,
   "metadata": {},
   "outputs": [],
   "source": [
    "# plt.figure(figsize=(11, 8))\n",
    "# ax = plt.scatter(X[:, 1], y)\n",
    "# plt.xlabel(\"X\")\n",
    "# plt.ylabel(\"y\")\n",
    "# t = plt.title(\"Semi-Random Data: X2\")"
   ]
  },
  {
   "cell_type": "code",
   "execution_count": 9,
   "metadata": {},
   "outputs": [],
   "source": [
    "# plt.figure(figsize=(11, 8))\n",
    "# ax = plt.scatter(X[:, 2], y)\n",
    "# plt.xlabel(\"X\")\n",
    "# plt.ylabel(\"y\")\n",
    "# t = plt.title(\"Semi-Random Data: X3\")"
   ]
  },
  {
   "cell_type": "code",
   "execution_count": 10,
   "metadata": {},
   "outputs": [],
   "source": [
    "ridge = RidgeRegressor()"
   ]
  },
  {
   "cell_type": "code",
   "execution_count": 11,
   "metadata": {},
   "outputs": [
    {
     "data": {
      "text/plain": [
       "<__main__.RidgeRegressor at 0x12bf37080>"
      ]
     },
     "execution_count": 11,
     "metadata": {},
     "output_type": "execute_result"
    }
   ],
   "source": [
    "ridge.fit(X,y)"
   ]
  },
  {
   "cell_type": "code",
   "execution_count": 12,
   "metadata": {},
   "outputs": [],
   "source": [
    "y_hat = ridge.predict(X)"
   ]
  },
  {
   "cell_type": "code",
   "execution_count": 13,
   "metadata": {},
   "outputs": [
    {
     "data": {
      "image/png": "[encoded data removed]",
      "text/plain": [
       "<Figure size 792x576 with 1 Axes>"
      ]
     },
     "metadata": {
      "needs_background": "light"
     },
     "output_type": "display_data"
    }
   ],
   "source": [
    "plt.figure(figsize=(11, 8))\n",
    "ax = plt.scatter(y_hat, y)"
   ]
  },
  {
   "cell_type": "code",
   "execution_count": 14,
   "metadata": {
    "scrolled": true
   },
   "outputs": [
    {
     "data": {
      "text/plain": [
       "0.050332317729521826"
      ]
     },
     "execution_count": 14,
     "metadata": {},
     "output_type": "execute_result"
    }
   ],
   "source": [
    "ridge.r_sqrd(X, y)"
   ]
  },
  {
   "cell_type": "markdown",
   "metadata": {},
   "source": [
    "## Testing on sklearn ridge regression"
   ]
  },
  {
   "cell_type": "code",
   "execution_count": 15,
   "metadata": {},
   "outputs": [
    {
     "data": {
      "text/plain": [
       "Ridge()"
      ]
     },
     "execution_count": 15,
     "metadata": {},
     "output_type": "execute_result"
    }
   ],
   "source": [
    "clf = Ridge(alpha=1.0)\n",
    "clf.fit(X, y)"
   ]
  },
  {
   "cell_type": "code",
   "execution_count": 16,
   "metadata": {},
   "outputs": [],
   "source": [
    "y_hat2 = clf.predict(X)"
   ]
  },
  {
   "cell_type": "code",
   "execution_count": 17,
   "metadata": {},
   "outputs": [
    {
     "data": {
      "text/plain": [
       "0.05035649611655302"
      ]
     },
     "execution_count": 17,
     "metadata": {},
     "output_type": "execute_result"
    }
   ],
   "source": [
    "clf.score(X,y)"
   ]
  },
  {
   "cell_type": "code",
   "execution_count": 18,
   "metadata": {},
   "outputs": [
    {
     "data": {
      "text/plain": [
       "0.11044558632184717"
      ]
     },
     "execution_count": 18,
     "metadata": {},
     "output_type": "execute_result"
    }
   ],
   "source": [
    "(y_hat - y_hat2).sum()"
   ]
  },
  {
   "cell_type": "markdown",
   "metadata": {},
   "source": [
    "## Test 2: Insurance Data\n",
    "- Insurance data can be find [here](https://github.com/stedy/Machine-Learning-with-R-datasets/blob/master/insurance.csv) and also at kaggle: [medical cost personal datasets](https://www.kaggle.com/mirichoi0218/insurance)\n",
    "- Independent variables: `age`, `sex`, `bmi`, `children`,`smoker`,`region`\n",
    "- Dependent variables: `charges`"
   ]
  },
  {
   "cell_type": "code",
   "execution_count": 19,
   "metadata": {},
   "outputs": [],
   "source": [
    "url =\"https://raw.githubusercontent.com/stedy/Machine-Learning-with-R-datasets/master/insurance.csv\""
   ]
  },
  {
   "cell_type": "code",
   "execution_count": 20,
   "metadata": {},
   "outputs": [],
   "source": [
    "insurance_data = pd.read_csv(url)"
   ]
  },
  {
   "cell_type": "code",
   "execution_count": 21,
   "metadata": {},
   "outputs": [
    {
     "data": {
      "text/plain": [
       "(1338, 7)"
      ]
     },
     "execution_count": 21,
     "metadata": {},
     "output_type": "execute_result"
    }
   ],
   "source": [
    "insurance_data.shape"
   ]
  },
  {
   "cell_type": "code",
   "execution_count": 22,
   "metadata": {},
   "outputs": [
    {
     "data": {
      "text/html": [
       "<div>\n",
       "<style scoped>\n",
       "    .dataframe tbody tr th:only-of-type {\n",
       "        vertical-align: middle;\n",
       "    }\n",
       "\n",
       "    .dataframe tbody tr th {\n",
       "        vertical-align: top;\n",
       "    }\n",
       "\n",
       "    .dataframe thead th {\n",
       "        text-align: right;\n",
       "    }\n",
       "</style>\n",
       "<table border=\"1\" class=\"dataframe\">\n",
       "  <thead>\n",
       "    <tr style=\"text-align: right;\">\n",
       "      <th></th>\n",
       "      <th>age</th>\n",
       "      <th>sex</th>\n",
       "      <th>bmi</th>\n",
       "      <th>children</th>\n",
       "      <th>smoker</th>\n",
       "      <th>region</th>\n",
       "      <th>charges</th>\n",
       "    </tr>\n",
       "  </thead>\n",
       "  <tbody>\n",
       "    <tr>\n",
       "      <th>0</th>\n",
       "      <td>19</td>\n",
       "      <td>female</td>\n",
       "      <td>27.900</td>\n",
       "      <td>0</td>\n",
       "      <td>yes</td>\n",
       "      <td>southwest</td>\n",
       "      <td>16884.92400</td>\n",
       "    </tr>\n",
       "    <tr>\n",
       "      <th>1</th>\n",
       "      <td>18</td>\n",
       "      <td>male</td>\n",
       "      <td>33.770</td>\n",
       "      <td>1</td>\n",
       "      <td>no</td>\n",
       "      <td>southeast</td>\n",
       "      <td>1725.55230</td>\n",
       "    </tr>\n",
       "    <tr>\n",
       "      <th>2</th>\n",
       "      <td>28</td>\n",
       "      <td>male</td>\n",
       "      <td>33.000</td>\n",
       "      <td>3</td>\n",
       "      <td>no</td>\n",
       "      <td>southeast</td>\n",
       "      <td>4449.46200</td>\n",
       "    </tr>\n",
       "    <tr>\n",
       "      <th>3</th>\n",
       "      <td>33</td>\n",
       "      <td>male</td>\n",
       "      <td>22.705</td>\n",
       "      <td>0</td>\n",
       "      <td>no</td>\n",
       "      <td>northwest</td>\n",
       "      <td>21984.47061</td>\n",
       "    </tr>\n",
       "    <tr>\n",
       "      <th>4</th>\n",
       "      <td>32</td>\n",
       "      <td>male</td>\n",
       "      <td>28.880</td>\n",
       "      <td>0</td>\n",
       "      <td>no</td>\n",
       "      <td>northwest</td>\n",
       "      <td>3866.85520</td>\n",
       "    </tr>\n",
       "  </tbody>\n",
       "</table>\n",
       "</div>"
      ],
      "text/plain": [
       "   age     sex     bmi  children smoker     region      charges\n",
       "0   19  female  27.900         0    yes  southwest  16884.92400\n",
       "1   18    male  33.770         1     no  southeast   1725.55230\n",
       "2   28    male  33.000         3     no  southeast   4449.46200\n",
       "3   33    male  22.705         0     no  northwest  21984.47061\n",
       "4   32    male  28.880         0     no  northwest   3866.85520"
      ]
     },
     "execution_count": 22,
     "metadata": {},
     "output_type": "execute_result"
    }
   ],
   "source": [
    "insurance_data.head()"
   ]
  },
  {
   "cell_type": "markdown",
   "metadata": {},
   "source": [
    "### Let's make a feature that depends on `bmi`"
   ]
  },
  {
   "cell_type": "code",
   "execution_count": 23,
   "metadata": {},
   "outputs": [],
   "source": [
    "insurance_data[\"bmi_derivative\"] = insurance_data.bmi**2 +10"
   ]
  },
  {
   "cell_type": "markdown",
   "metadata": {},
   "source": [
    "### 1 Cleaning"
   ]
  },
  {
   "cell_type": "code",
   "execution_count": 24,
   "metadata": {},
   "outputs": [
    {
     "data": {
      "text/plain": [
       "1"
      ]
     },
     "execution_count": 24,
     "metadata": {},
     "output_type": "execute_result"
    }
   ],
   "source": [
    "insurance_data.duplicated().sum()"
   ]
  },
  {
   "cell_type": "code",
   "execution_count": 25,
   "metadata": {},
   "outputs": [],
   "source": [
    "insurance_data = insurance_data.drop_duplicates()"
   ]
  },
  {
   "cell_type": "code",
   "execution_count": 26,
   "metadata": {},
   "outputs": [
    {
     "data": {
      "text/plain": [
       "0"
      ]
     },
     "execution_count": 26,
     "metadata": {},
     "output_type": "execute_result"
    }
   ],
   "source": [
    "insurance_data.duplicated().sum()"
   ]
  },
  {
   "cell_type": "code",
   "execution_count": 27,
   "metadata": {},
   "outputs": [
    {
     "data": {
      "text/plain": [
       "age                 int64\n",
       "sex                object\n",
       "bmi               float64\n",
       "children            int64\n",
       "smoker             object\n",
       "region             object\n",
       "charges           float64\n",
       "bmi_derivative    float64\n",
       "dtype: object"
      ]
     },
     "execution_count": 27,
     "metadata": {},
     "output_type": "execute_result"
    }
   ],
   "source": [
    "insurance_data.dtypes"
   ]
  },
  {
   "cell_type": "code",
   "execution_count": 28,
   "metadata": {},
   "outputs": [
    {
     "data": {
      "text/plain": [
       "age               0\n",
       "sex               0\n",
       "bmi               0\n",
       "children          0\n",
       "smoker            0\n",
       "region            0\n",
       "charges           0\n",
       "bmi_derivative    0\n",
       "dtype: int64"
      ]
     },
     "execution_count": 28,
     "metadata": {},
     "output_type": "execute_result"
    }
   ],
   "source": [
    "insurance_data.isna().sum()"
   ]
  },
  {
   "cell_type": "markdown",
   "metadata": {},
   "source": [
    "### 2. Exploratory Data Analysis\n",
    "#### 2.1 Age"
   ]
  },
  {
   "cell_type": "code",
   "execution_count": 29,
   "metadata": {},
   "outputs": [
    {
     "data": {
      "text/plain": [
       "count    1337.000000\n",
       "mean       39.222139\n",
       "std        14.044333\n",
       "min        18.000000\n",
       "25%        27.000000\n",
       "50%        39.000000\n",
       "75%        51.000000\n",
       "max        64.000000\n",
       "Name: age, dtype: float64"
      ]
     },
     "execution_count": 29,
     "metadata": {},
     "output_type": "execute_result"
    }
   ],
   "source": [
    "insurance_data.age.describe()"
   ]
  },
  {
   "cell_type": "code",
   "execution_count": 30,
   "metadata": {},
   "outputs": [
    {
     "data": {
      "image/png": "[encoded data removed]",
      "text/plain": [
       "<Figure size 792x576 with 1 Axes>"
      ]
     },
     "metadata": {
      "needs_background": "light"
     },
     "output_type": "display_data"
    }
   ],
   "source": [
    "ax = exploratory.center_scale_plot(insurance_data.age, np.mean, np.std, bins=73)"
   ]
  },
  {
   "cell_type": "markdown",
   "metadata": {},
   "source": [
    "**Notes:** The age in the insurance data range from 18 to 64.  The average age of the data set is 39.2. "
   ]
  },
  {
   "cell_type": "code",
   "execution_count": 31,
   "metadata": {},
   "outputs": [
    {
     "data": {
      "image/png": "[encoded data removed]",
      "text/plain": [
       "<Figure size 792x576 with 1 Axes>"
      ]
     },
     "metadata": {
      "needs_background": "light"
     },
     "output_type": "display_data"
    }
   ],
   "source": [
    "ax = exploratory.qq_plot(insurance_data.age)"
   ]
  },
  {
   "cell_type": "markdown",
   "metadata": {},
   "source": [
    "**Notes:** The Q-Q plot shows that the age data is partially close to a normal distribution (quantile 20 to 60). However on both tiles. there are sharpe drops because the range of data are from 18 to 64."
   ]
  },
  {
   "cell_type": "markdown",
   "metadata": {},
   "source": [
    "#### 2.2 Sex"
   ]
  },
  {
   "cell_type": "code",
   "execution_count": 32,
   "metadata": {},
   "outputs": [
    {
     "data": {
      "text/plain": [
       "male      675\n",
       "female    662\n",
       "Name: sex, dtype: int64"
      ]
     },
     "execution_count": 32,
     "metadata": {},
     "output_type": "execute_result"
    }
   ],
   "source": [
    "insurance_data.sex.value_counts()"
   ]
  },
  {
   "cell_type": "markdown",
   "metadata": {},
   "source": [
    "**Notes:** Male and female are equally distributed\n",
    "- Check join dist target against categorical features."
   ]
  },
  {
   "cell_type": "code",
   "execution_count": 33,
   "metadata": {},
   "outputs": [],
   "source": [
    "grouped = insurance_data[[\"sex\",\"charges\"]].groupby(\"sex\").agg(['mean','std'])"
   ]
  },
  {
   "cell_type": "code",
   "execution_count": 34,
   "metadata": {},
   "outputs": [
    {
     "data": {
      "text/html": [
       "<div>\n",
       "<style scoped>\n",
       "    .dataframe tbody tr th:only-of-type {\n",
       "        vertical-align: middle;\n",
       "    }\n",
       "\n",
       "    .dataframe tbody tr th {\n",
       "        vertical-align: top;\n",
       "    }\n",
       "\n",
       "    .dataframe thead tr th {\n",
       "        text-align: left;\n",
       "    }\n",
       "\n",
       "    .dataframe thead tr:last-of-type th {\n",
       "        text-align: right;\n",
       "    }\n",
       "</style>\n",
       "<table border=\"1\" class=\"dataframe\">\n",
       "  <thead>\n",
       "    <tr>\n",
       "      <th></th>\n",
       "      <th colspan=\"2\" halign=\"left\">charges</th>\n",
       "    </tr>\n",
       "    <tr>\n",
       "      <th></th>\n",
       "      <th>mean</th>\n",
       "      <th>std</th>\n",
       "    </tr>\n",
       "    <tr>\n",
       "      <th>sex</th>\n",
       "      <th></th>\n",
       "      <th></th>\n",
       "    </tr>\n",
       "  </thead>\n",
       "  <tbody>\n",
       "    <tr>\n",
       "      <th>female</th>\n",
       "      <td>12569.578844</td>\n",
       "      <td>11128.703801</td>\n",
       "    </tr>\n",
       "    <tr>\n",
       "      <th>male</th>\n",
       "      <td>13974.998864</td>\n",
       "      <td>12971.958663</td>\n",
       "    </tr>\n",
       "  </tbody>\n",
       "</table>\n",
       "</div>"
      ],
      "text/plain": [
       "             charges              \n",
       "                mean           std\n",
       "sex                               \n",
       "female  12569.578844  11128.703801\n",
       "male    13974.998864  12971.958663"
      ]
     },
     "execution_count": 34,
     "metadata": {},
     "output_type": "execute_result"
    }
   ],
   "source": [
    "grouped"
   ]
  },
  {
   "cell_type": "code",
   "execution_count": 35,
   "metadata": {},
   "outputs": [
    {
     "data": {
      "image/png": "[encoded data removed]",
      "text/plain": [
       "<Figure size 792x648 with 1 Axes>"
      ]
     },
     "metadata": {
      "needs_background": "light"
     },
     "output_type": "display_data"
    }
   ],
   "source": [
    "fig, ax = plt.subplots(figsize = (11,9))\n",
    "ax.bar(x=grouped.index, height=grouped.charges['mean'], yerr=grouped.charges['std'])\n",
    "ly = ax.set_ylabel(\"Charges\")"
   ]
  },
  {
   "cell_type": "code",
   "execution_count": 36,
   "metadata": {},
   "outputs": [],
   "source": [
    "insurance_data[\"sex\"] = [1 if i == \"male\" else 0 for i in insurance_data[\"sex\"] ]"
   ]
  },
  {
   "cell_type": "code",
   "execution_count": 37,
   "metadata": {},
   "outputs": [],
   "source": [
    "insurance_data[\"log_charges\"] = np.log(insurance_data.charges)"
   ]
  },
  {
   "cell_type": "code",
   "execution_count": 38,
   "metadata": {},
   "outputs": [
    {
     "data": {
      "text/plain": [
       "<matplotlib.axes._subplots.AxesSubplot at 0x1303c26d8>"
      ]
     },
     "execution_count": 38,
     "metadata": {},
     "output_type": "execute_result"
    },
    {
     "data": {
      "image/png": "[encoded data removed]",
      "text/plain": [
       "<Figure size 792x576 with 1 Axes>"
      ]
     },
     "metadata": {
      "needs_background": "light"
     },
     "output_type": "display_data"
    }
   ],
   "source": [
    "exploratory.feature_hist_by_class(eda_df=insurance_data,class_col=\"sex\",feature=\"charges\",bins=100)"
   ]
  },
  {
   "cell_type": "code",
   "execution_count": 39,
   "metadata": {},
   "outputs": [
    {
     "data": {
      "text/plain": [
       "<matplotlib.axes._subplots.AxesSubplot at 0x12bf37be0>"
      ]
     },
     "execution_count": 39,
     "metadata": {},
     "output_type": "execute_result"
    },
    {
     "data": {
      "image/png": "[encoded data removed]",
      "text/plain": [
       "<Figure size 792x576 with 1 Axes>"
      ]
     },
     "metadata": {
      "needs_background": "light"
     },
     "output_type": "display_data"
    }
   ],
   "source": [
    "exploratory.feature_hist_by_class(eda_df=insurance_data,class_col=\"sex\",feature=\"log_charges\",bins=100)"
   ]
  },
  {
   "cell_type": "markdown",
   "metadata": {},
   "source": [
    "#### 2.3 bmi"
   ]
  },
  {
   "cell_type": "code",
   "execution_count": 40,
   "metadata": {},
   "outputs": [
    {
     "data": {
      "image/png": "[encoded data removed]",
      "text/plain": [
       "<Figure size 792x576 with 1 Axes>"
      ]
     },
     "metadata": {
      "needs_background": "light"
     },
     "output_type": "display_data"
    }
   ],
   "source": [
    "ax = exploratory.center_scale_plot(insurance_data.bmi, np.mean, np.std, bins=73)"
   ]
  },
  {
   "cell_type": "code",
   "execution_count": 41,
   "metadata": {},
   "outputs": [
    {
     "data": {
      "image/png": "[encoded data removed]",
      "text/plain": [
       "<Figure size 792x576 with 1 Axes>"
      ]
     },
     "metadata": {
      "needs_background": "light"
     },
     "output_type": "display_data"
    }
   ],
   "source": [
    "ax = exploratory.qq_plot(insurance_data.bmi)"
   ]
  },
  {
   "cell_type": "markdown",
   "metadata": {},
   "source": [
    "**Notes:** \n",
    "- `bmi` is a measure of body fat based on height and weight that applies to adult men and women.\n",
    "- The distribution of bmi is very similar to a normal distribution with a slightly skewness to the right"
   ]
  },
  {
   "cell_type": "markdown",
   "metadata": {},
   "source": [
    "#### 2.4 Children"
   ]
  },
  {
   "cell_type": "code",
   "execution_count": 42,
   "metadata": {},
   "outputs": [
    {
     "data": {
      "text/plain": [
       "0    573\n",
       "1    324\n",
       "2    240\n",
       "3    157\n",
       "4     25\n",
       "5     18\n",
       "Name: children, dtype: int64"
      ]
     },
     "execution_count": 42,
     "metadata": {},
     "output_type": "execute_result"
    }
   ],
   "source": [
    "insurance_data.children.value_counts()"
   ]
  },
  {
   "cell_type": "code",
   "execution_count": 43,
   "metadata": {},
   "outputs": [
    {
     "data": {
      "text/html": [
       "<div>\n",
       "<style scoped>\n",
       "    .dataframe tbody tr th:only-of-type {\n",
       "        vertical-align: middle;\n",
       "    }\n",
       "\n",
       "    .dataframe tbody tr th {\n",
       "        vertical-align: top;\n",
       "    }\n",
       "\n",
       "    .dataframe thead tr th {\n",
       "        text-align: left;\n",
       "    }\n",
       "\n",
       "    .dataframe thead tr:last-of-type th {\n",
       "        text-align: right;\n",
       "    }\n",
       "</style>\n",
       "<table border=\"1\" class=\"dataframe\">\n",
       "  <thead>\n",
       "    <tr>\n",
       "      <th></th>\n",
       "      <th colspan=\"2\" halign=\"left\">charges</th>\n",
       "    </tr>\n",
       "    <tr>\n",
       "      <th></th>\n",
       "      <th>mean</th>\n",
       "      <th>std</th>\n",
       "    </tr>\n",
       "    <tr>\n",
       "      <th>children</th>\n",
       "      <th></th>\n",
       "      <th></th>\n",
       "    </tr>\n",
       "  </thead>\n",
       "  <tbody>\n",
       "    <tr>\n",
       "      <th>0</th>\n",
       "      <td>12384.695344</td>\n",
       "      <td>12025.424152</td>\n",
       "    </tr>\n",
       "    <tr>\n",
       "      <th>1</th>\n",
       "      <td>12731.171832</td>\n",
       "      <td>11823.631451</td>\n",
       "    </tr>\n",
       "    <tr>\n",
       "      <th>2</th>\n",
       "      <td>15073.563734</td>\n",
       "      <td>12891.368347</td>\n",
       "    </tr>\n",
       "    <tr>\n",
       "      <th>3</th>\n",
       "      <td>15355.318367</td>\n",
       "      <td>12330.869484</td>\n",
       "    </tr>\n",
       "    <tr>\n",
       "      <th>4</th>\n",
       "      <td>13850.656311</td>\n",
       "      <td>9139.223321</td>\n",
       "    </tr>\n",
       "    <tr>\n",
       "      <th>5</th>\n",
       "      <td>8786.035247</td>\n",
       "      <td>3808.435525</td>\n",
       "    </tr>\n",
       "  </tbody>\n",
       "</table>\n",
       "</div>"
      ],
      "text/plain": [
       "               charges              \n",
       "                  mean           std\n",
       "children                            \n",
       "0         12384.695344  12025.424152\n",
       "1         12731.171832  11823.631451\n",
       "2         15073.563734  12891.368347\n",
       "3         15355.318367  12330.869484\n",
       "4         13850.656311   9139.223321\n",
       "5          8786.035247   3808.435525"
      ]
     },
     "execution_count": 43,
     "metadata": {},
     "output_type": "execute_result"
    }
   ],
   "source": [
    "grouped = insurance_data[[\"children\",\"charges\"]].groupby(\"children\").agg(['mean','std'])\n",
    "grouped"
   ]
  },
  {
   "cell_type": "code",
   "execution_count": 44,
   "metadata": {},
   "outputs": [
    {
     "data": {
      "image/png": "[encoded data removed]",
      "text/plain": [
       "<Figure size 792x648 with 1 Axes>"
      ]
     },
     "metadata": {
      "needs_background": "light"
     },
     "output_type": "display_data"
    }
   ],
   "source": [
    "fig, ax = plt.subplots(figsize = (11,9))\n",
    "ax.bar(x=grouped.index, height=grouped.charges['mean'], yerr=grouped.charges['std'])\n",
    "l = ax.set_xlabel(\"Children\")\n",
    "ly = ax.set_ylabel(\"Charges\")"
   ]
  },
  {
   "cell_type": "markdown",
   "metadata": {},
   "source": [
    "#### 2.5 smoker"
   ]
  },
  {
   "cell_type": "code",
   "execution_count": 45,
   "metadata": {},
   "outputs": [
    {
     "data": {
      "text/plain": [
       "no     1063\n",
       "yes     274\n",
       "Name: smoker, dtype: int64"
      ]
     },
     "execution_count": 45,
     "metadata": {},
     "output_type": "execute_result"
    }
   ],
   "source": [
    "insurance_data.smoker.value_counts()"
   ]
  },
  {
   "cell_type": "code",
   "execution_count": 46,
   "metadata": {},
   "outputs": [],
   "source": [
    "insurance_data[\"smoker\"] = [1 if i == \"yes\" else 0 for i in insurance_data[\"smoker\"] ]"
   ]
  },
  {
   "cell_type": "code",
   "execution_count": 47,
   "metadata": {},
   "outputs": [
    {
     "data": {
      "text/plain": [
       "<matplotlib.axes._subplots.AxesSubplot at 0x1308f2e10>"
      ]
     },
     "execution_count": 47,
     "metadata": {},
     "output_type": "execute_result"
    },
    {
     "data": {
      "image/png": "[encoded data removed]",
      "text/plain": [
       "<Figure size 792x576 with 1 Axes>"
      ]
     },
     "metadata": {
      "needs_background": "light"
     },
     "output_type": "display_data"
    }
   ],
   "source": [
    "exploratory.feature_hist_by_class(eda_df=insurance_data,class_col=\"smoker\",feature=\"log_charges\",bins=100)"
   ]
  },
  {
   "cell_type": "code",
   "execution_count": 48,
   "metadata": {},
   "outputs": [
    {
     "data": {
      "text/plain": [
       "<matplotlib.axes._subplots.AxesSubplot at 0x130617e10>"
      ]
     },
     "execution_count": 48,
     "metadata": {},
     "output_type": "execute_result"
    },
    {
     "data": {
      "image/png": "[encoded data removed]",
      "text/plain": [
       "<Figure size 792x576 with 1 Axes>"
      ]
     },
     "metadata": {
      "needs_background": "light"
     },
     "output_type": "display_data"
    }
   ],
   "source": [
    "exploratory.feature_hist_by_class(eda_df=insurance_data,class_col=\"smoker\",feature=\"charges\",bins=100)"
   ]
  },
  {
   "cell_type": "code",
   "execution_count": null,
   "metadata": {},
   "outputs": [],
   "source": []
  },
  {
   "cell_type": "markdown",
   "metadata": {},
   "source": [
    "#### 2.6 region"
   ]
  },
  {
   "cell_type": "code",
   "execution_count": 49,
   "metadata": {
    "scrolled": true
   },
   "outputs": [
    {
     "data": {
      "text/plain": [
       "southeast    364\n",
       "southwest    325\n",
       "northeast    324\n",
       "northwest    324\n",
       "Name: region, dtype: int64"
      ]
     },
     "execution_count": 49,
     "metadata": {},
     "output_type": "execute_result"
    }
   ],
   "source": [
    "insurance_data.region.value_counts()"
   ]
  },
  {
   "cell_type": "code",
   "execution_count": 50,
   "metadata": {},
   "outputs": [
    {
     "data": {
      "text/html": [
       "<div>\n",
       "<style scoped>\n",
       "    .dataframe tbody tr th:only-of-type {\n",
       "        vertical-align: middle;\n",
       "    }\n",
       "\n",
       "    .dataframe tbody tr th {\n",
       "        vertical-align: top;\n",
       "    }\n",
       "\n",
       "    .dataframe thead tr th {\n",
       "        text-align: left;\n",
       "    }\n",
       "\n",
       "    .dataframe thead tr:last-of-type th {\n",
       "        text-align: right;\n",
       "    }\n",
       "</style>\n",
       "<table border=\"1\" class=\"dataframe\">\n",
       "  <thead>\n",
       "    <tr>\n",
       "      <th></th>\n",
       "      <th colspan=\"2\" halign=\"left\">charges</th>\n",
       "    </tr>\n",
       "    <tr>\n",
       "      <th></th>\n",
       "      <th>mean</th>\n",
       "      <th>std</th>\n",
       "    </tr>\n",
       "    <tr>\n",
       "      <th>region</th>\n",
       "      <th></th>\n",
       "      <th></th>\n",
       "    </tr>\n",
       "  </thead>\n",
       "  <tbody>\n",
       "    <tr>\n",
       "      <th>northeast</th>\n",
       "      <td>13406.384516</td>\n",
       "      <td>11255.803066</td>\n",
       "    </tr>\n",
       "    <tr>\n",
       "      <th>northwest</th>\n",
       "      <td>12450.840844</td>\n",
       "      <td>11073.125699</td>\n",
       "    </tr>\n",
       "    <tr>\n",
       "      <th>southeast</th>\n",
       "      <td>14735.411438</td>\n",
       "      <td>13971.098589</td>\n",
       "    </tr>\n",
       "    <tr>\n",
       "      <th>southwest</th>\n",
       "      <td>12346.937377</td>\n",
       "      <td>11557.179101</td>\n",
       "    </tr>\n",
       "  </tbody>\n",
       "</table>\n",
       "</div>"
      ],
      "text/plain": [
       "                charges              \n",
       "                   mean           std\n",
       "region                               \n",
       "northeast  13406.384516  11255.803066\n",
       "northwest  12450.840844  11073.125699\n",
       "southeast  14735.411438  13971.098589\n",
       "southwest  12346.937377  11557.179101"
      ]
     },
     "execution_count": 50,
     "metadata": {},
     "output_type": "execute_result"
    }
   ],
   "source": [
    "grouped = insurance_data[[\"region\",\"charges\"]].groupby(\"region\").agg(['mean','std'])\n",
    "grouped"
   ]
  },
  {
   "cell_type": "code",
   "execution_count": 51,
   "metadata": {},
   "outputs": [
    {
     "data": {
      "image/png": "[encoded data removed]",
      "text/plain": [
       "<Figure size 792x648 with 1 Axes>"
      ]
     },
     "metadata": {
      "needs_background": "light"
     },
     "output_type": "display_data"
    }
   ],
   "source": [
    "fig, ax = plt.subplots(figsize = (11,9))\n",
    "ax.bar(x=grouped.index, height=grouped.charges['mean'], yerr=grouped.charges['std'])\n",
    "lx = ax.set_xlabel(\"region\")\n",
    "ly = ax.set_ylabel(\"Charges\")"
   ]
  },
  {
   "cell_type": "code",
   "execution_count": null,
   "metadata": {},
   "outputs": [],
   "source": []
  },
  {
   "cell_type": "markdown",
   "metadata": {},
   "source": [
    "#### 2.7 charge"
   ]
  },
  {
   "cell_type": "code",
   "execution_count": 52,
   "metadata": {},
   "outputs": [
    {
     "data": {
      "image/png": "[encoded data removed]",
      "text/plain": [
       "<Figure size 792x576 with 1 Axes>"
      ]
     },
     "metadata": {
      "needs_background": "light"
     },
     "output_type": "display_data"
    }
   ],
   "source": [
    "ax = exploratory.center_scale_plot(insurance_data.charges, np.mean, np.std, bins=73)"
   ]
  },
  {
   "cell_type": "code",
   "execution_count": 53,
   "metadata": {
    "scrolled": false
   },
   "outputs": [
    {
     "data": {
      "image/png": "[encoded data removed]",
      "text/plain": [
       "<Figure size 792x576 with 1 Axes>"
      ]
     },
     "metadata": {
      "needs_background": "light"
     },
     "output_type": "display_data"
    }
   ],
   "source": [
    "ax = exploratory.center_scale_plot(np.log(insurance_data.charges), np.mean, np.std, bins=73)"
   ]
  },
  {
   "cell_type": "code",
   "execution_count": 54,
   "metadata": {},
   "outputs": [
    {
     "data": {
      "image/png": "[encoded data removed]",
      "text/plain": [
       "<Figure size 792x576 with 1 Axes>"
      ]
     },
     "metadata": {
      "needs_background": "light"
     },
     "output_type": "display_data"
    }
   ],
   "source": [
    "ax = exploratory.center_scale_plot(np.sqrt(insurance_data.charges), np.mean, np.std, bins=73)"
   ]
  },
  {
   "cell_type": "code",
   "execution_count": null,
   "metadata": {},
   "outputs": [],
   "source": []
  },
  {
   "cell_type": "markdown",
   "metadata": {},
   "source": [
    "\n",
    "**Notes**\n",
    "Taking the log transform has yielded a more symmetrical dataset that sits almost entirely within 3 standard deviation bands."
   ]
  },
  {
   "cell_type": "code",
   "execution_count": 55,
   "metadata": {},
   "outputs": [
    {
     "data": {
      "image/png": "[encoded data removed]",
      "text/plain": [
       "<Figure size 792x576 with 1 Axes>"
      ]
     },
     "metadata": {
      "needs_background": "light"
     },
     "output_type": "display_data"
    }
   ],
   "source": [
    "ax = exploratory.qq_plot(np.log(insurance_data.charges))"
   ]
  },
  {
   "cell_type": "markdown",
   "metadata": {},
   "source": [
    "**Notes:** After the log transformation, the distribution of data is like normal distribution "
   ]
  },
  {
   "cell_type": "code",
   "execution_count": null,
   "metadata": {},
   "outputs": [],
   "source": []
  },
  {
   "cell_type": "code",
   "execution_count": null,
   "metadata": {},
   "outputs": [],
   "source": []
  },
  {
   "cell_type": "markdown",
   "metadata": {},
   "source": [
    "### 2. One hot encoding"
   ]
  },
  {
   "cell_type": "code",
   "execution_count": 56,
   "metadata": {},
   "outputs": [],
   "source": [
    "def get_modeling_df(one_hot_cols, df):\n",
    "    one_hot_df = []\n",
    "    for col in one_hot_cols:\n",
    "        temp = pd.get_dummies(df[col],prefix=\"is_{}\".format(col),drop_first=True)\n",
    "        one_hot_df.append(temp)\n",
    "    one_hot_df = pd.concat(one_hot_df,axis=1)\n",
    "    return pd.concat([df.drop(columns=one_hot_cols),one_hot_df], axis=1)"
   ]
  },
  {
   "cell_type": "code",
   "execution_count": 57,
   "metadata": {},
   "outputs": [],
   "source": [
    "one_hot_cols = ['sex','smoker','region']\n",
    "insurance_for_modeling = get_modeling_df(one_hot_cols, insurance_data)"
   ]
  },
  {
   "cell_type": "code",
   "execution_count": 58,
   "metadata": {},
   "outputs": [
    {
     "data": {
      "text/plain": [
       "age                      int64\n",
       "bmi                    float64\n",
       "children                 int64\n",
       "charges                float64\n",
       "bmi_derivative         float64\n",
       "log_charges            float64\n",
       "is_sex_1                 uint8\n",
       "is_smoker_1              uint8\n",
       "is_region_northwest      uint8\n",
       "is_region_southeast      uint8\n",
       "is_region_southwest      uint8\n",
       "dtype: object"
      ]
     },
     "execution_count": 58,
     "metadata": {},
     "output_type": "execute_result"
    }
   ],
   "source": [
    "insurance_for_modeling.dtypes"
   ]
  },
  {
   "cell_type": "markdown",
   "metadata": {},
   "source": [
    "### 3. Collinearity test"
   ]
  },
  {
   "cell_type": "code",
   "execution_count": 59,
   "metadata": {},
   "outputs": [
    {
     "data": {
      "text/html": [
       "<style  type=\"text/css\" >\n",
       "    #T_ee92b5fc_b48a_11ea_b15d_acde48001122row0_col0 {\n",
       "            background-color:  #b40426;\n",
       "            color:  #f1f1f1;\n",
       "        }    #T_ee92b5fc_b48a_11ea_b15d_acde48001122row0_col1 {\n",
       "            background-color:  #81a4fb;\n",
       "            color:  #000000;\n",
       "        }    #T_ee92b5fc_b48a_11ea_b15d_acde48001122row0_col2 {\n",
       "            background-color:  #4e68d8;\n",
       "            color:  #000000;\n",
       "        }    #T_ee92b5fc_b48a_11ea_b15d_acde48001122row0_col3 {\n",
       "            background-color:  #a7c5fe;\n",
       "            color:  #000000;\n",
       "        }    #T_ee92b5fc_b48a_11ea_b15d_acde48001122row0_col4 {\n",
       "            background-color:  #80a3fa;\n",
       "            color:  #000000;\n",
       "        }    #T_ee92b5fc_b48a_11ea_b15d_acde48001122row0_col5 {\n",
       "            background-color:  #e8d6cc;\n",
       "            color:  #000000;\n",
       "        }    #T_ee92b5fc_b48a_11ea_b15d_acde48001122row0_col6 {\n",
       "            background-color:  #3b4cc0;\n",
       "            color:  #f1f1f1;\n",
       "        }    #T_ee92b5fc_b48a_11ea_b15d_acde48001122row0_col7 {\n",
       "            background-color:  #3d50c3;\n",
       "            color:  #f1f1f1;\n",
       "        }    #T_ee92b5fc_b48a_11ea_b15d_acde48001122row0_col8 {\n",
       "            background-color:  #90b2fe;\n",
       "            color:  #000000;\n",
       "        }    #T_ee92b5fc_b48a_11ea_b15d_acde48001122row0_col9 {\n",
       "            background-color:  #8caffe;\n",
       "            color:  #000000;\n",
       "        }    #T_ee92b5fc_b48a_11ea_b15d_acde48001122row0_col10 {\n",
       "            background-color:  #92b4fe;\n",
       "            color:  #000000;\n",
       "        }    #T_ee92b5fc_b48a_11ea_b15d_acde48001122row1_col0 {\n",
       "            background-color:  #6384eb;\n",
       "            color:  #000000;\n",
       "        }    #T_ee92b5fc_b48a_11ea_b15d_acde48001122row1_col1 {\n",
       "            background-color:  #b40426;\n",
       "            color:  #f1f1f1;\n",
       "        }    #T_ee92b5fc_b48a_11ea_b15d_acde48001122row1_col2 {\n",
       "            background-color:  #455cce;\n",
       "            color:  #f1f1f1;\n",
       "        }    #T_ee92b5fc_b48a_11ea_b15d_acde48001122row1_col3 {\n",
       "            background-color:  #86a9fc;\n",
       "            color:  #000000;\n",
       "        }    #T_ee92b5fc_b48a_11ea_b15d_acde48001122row1_col4 {\n",
       "            background-color:  #b50927;\n",
       "            color:  #f1f1f1;\n",
       "        }    #T_ee92b5fc_b48a_11ea_b15d_acde48001122row1_col5 {\n",
       "            background-color:  #7093f3;\n",
       "            color:  #000000;\n",
       "        }    #T_ee92b5fc_b48a_11ea_b15d_acde48001122row1_col6 {\n",
       "            background-color:  #4e68d8;\n",
       "            color:  #000000;\n",
       "        }    #T_ee92b5fc_b48a_11ea_b15d_acde48001122row1_col7 {\n",
       "            background-color:  #465ecf;\n",
       "            color:  #f1f1f1;\n",
       "        }    #T_ee92b5fc_b48a_11ea_b15d_acde48001122row1_col8 {\n",
       "            background-color:  #6b8df0;\n",
       "            color:  #000000;\n",
       "        }    #T_ee92b5fc_b48a_11ea_b15d_acde48001122row1_col9 {\n",
       "            background-color:  #d2dbe8;\n",
       "            color:  #000000;\n",
       "        }    #T_ee92b5fc_b48a_11ea_b15d_acde48001122row1_col10 {\n",
       "            background-color:  #8db0fe;\n",
       "            color:  #000000;\n",
       "        }    #T_ee92b5fc_b48a_11ea_b15d_acde48001122row2_col0 {\n",
       "            background-color:  #4e68d8;\n",
       "            color:  #000000;\n",
       "        }    #T_ee92b5fc_b48a_11ea_b15d_acde48001122row2_col1 {\n",
       "            background-color:  #6384eb;\n",
       "            color:  #000000;\n",
       "        }    #T_ee92b5fc_b48a_11ea_b15d_acde48001122row2_col2 {\n",
       "            background-color:  #b40426;\n",
       "            color:  #f1f1f1;\n",
       "        }    #T_ee92b5fc_b48a_11ea_b15d_acde48001122row2_col3 {\n",
       "            background-color:  #5b7ae5;\n",
       "            color:  #000000;\n",
       "        }    #T_ee92b5fc_b48a_11ea_b15d_acde48001122row2_col4 {\n",
       "            background-color:  #6485ec;\n",
       "            color:  #000000;\n",
       "        }    #T_ee92b5fc_b48a_11ea_b15d_acde48001122row2_col5 {\n",
       "            background-color:  #799cf8;\n",
       "            color:  #000000;\n",
       "        }    #T_ee92b5fc_b48a_11ea_b15d_acde48001122row2_col6 {\n",
       "            background-color:  #455cce;\n",
       "            color:  #f1f1f1;\n",
       "        }    #T_ee92b5fc_b48a_11ea_b15d_acde48001122row2_col7 {\n",
       "            background-color:  #465ecf;\n",
       "            color:  #f1f1f1;\n",
       "        }    #T_ee92b5fc_b48a_11ea_b15d_acde48001122row2_col8 {\n",
       "            background-color:  #96b7ff;\n",
       "            color:  #000000;\n",
       "        }    #T_ee92b5fc_b48a_11ea_b15d_acde48001122row2_col9 {\n",
       "            background-color:  #89acfd;\n",
       "            color:  #000000;\n",
       "        }    #T_ee92b5fc_b48a_11ea_b15d_acde48001122row2_col10 {\n",
       "            background-color:  #94b6ff;\n",
       "            color:  #000000;\n",
       "        }    #T_ee92b5fc_b48a_11ea_b15d_acde48001122row3_col0 {\n",
       "            background-color:  #a3c2fe;\n",
       "            color:  #000000;\n",
       "        }    #T_ee92b5fc_b48a_11ea_b15d_acde48001122row3_col1 {\n",
       "            background-color:  #9dbdff;\n",
       "            color:  #000000;\n",
       "        }    #T_ee92b5fc_b48a_11ea_b15d_acde48001122row3_col2 {\n",
       "            background-color:  #5572df;\n",
       "            color:  #000000;\n",
       "        }    #T_ee92b5fc_b48a_11ea_b15d_acde48001122row3_col3 {\n",
       "            background-color:  #b40426;\n",
       "            color:  #f1f1f1;\n",
       "        }    #T_ee92b5fc_b48a_11ea_b15d_acde48001122row3_col4 {\n",
       "            background-color:  #9dbdff;\n",
       "            color:  #000000;\n",
       "        }    #T_ee92b5fc_b48a_11ea_b15d_acde48001122row3_col5 {\n",
       "            background-color:  #d75445;\n",
       "            color:  #000000;\n",
       "        }    #T_ee92b5fc_b48a_11ea_b15d_acde48001122row3_col6 {\n",
       "            background-color:  #516ddb;\n",
       "            color:  #000000;\n",
       "        }    #T_ee92b5fc_b48a_11ea_b15d_acde48001122row3_col7 {\n",
       "            background-color:  #ee8669;\n",
       "            color:  #000000;\n",
       "        }    #T_ee92b5fc_b48a_11ea_b15d_acde48001122row3_col8 {\n",
       "            background-color:  #85a8fc;\n",
       "            color:  #000000;\n",
       "        }    #T_ee92b5fc_b48a_11ea_b15d_acde48001122row3_col9 {\n",
       "            background-color:  #a2c1ff;\n",
       "            color:  #000000;\n",
       "        }    #T_ee92b5fc_b48a_11ea_b15d_acde48001122row3_col10 {\n",
       "            background-color:  #84a7fc;\n",
       "            color:  #000000;\n",
       "        }    #T_ee92b5fc_b48a_11ea_b15d_acde48001122row4_col0 {\n",
       "            background-color:  #6180e9;\n",
       "            color:  #000000;\n",
       "        }    #T_ee92b5fc_b48a_11ea_b15d_acde48001122row4_col1 {\n",
       "            background-color:  #b50927;\n",
       "            color:  #f1f1f1;\n",
       "        }    #T_ee92b5fc_b48a_11ea_b15d_acde48001122row4_col2 {\n",
       "            background-color:  #445acc;\n",
       "            color:  #f1f1f1;\n",
       "        }    #T_ee92b5fc_b48a_11ea_b15d_acde48001122row4_col3 {\n",
       "            background-color:  #85a8fc;\n",
       "            color:  #000000;\n",
       "        }    #T_ee92b5fc_b48a_11ea_b15d_acde48001122row4_col4 {\n",
       "            background-color:  #b40426;\n",
       "            color:  #f1f1f1;\n",
       "        }    #T_ee92b5fc_b48a_11ea_b15d_acde48001122row4_col5 {\n",
       "            background-color:  #6e90f2;\n",
       "            color:  #000000;\n",
       "        }    #T_ee92b5fc_b48a_11ea_b15d_acde48001122row4_col6 {\n",
       "            background-color:  #4e68d8;\n",
       "            color:  #000000;\n",
       "        }    #T_ee92b5fc_b48a_11ea_b15d_acde48001122row4_col7 {\n",
       "            background-color:  #465ecf;\n",
       "            color:  #f1f1f1;\n",
       "        }    #T_ee92b5fc_b48a_11ea_b15d_acde48001122row4_col8 {\n",
       "            background-color:  #6a8bef;\n",
       "            color:  #000000;\n",
       "        }    #T_ee92b5fc_b48a_11ea_b15d_acde48001122row4_col9 {\n",
       "            background-color:  #d3dbe7;\n",
       "            color:  #000000;\n",
       "        }    #T_ee92b5fc_b48a_11ea_b15d_acde48001122row4_col10 {\n",
       "            background-color:  #8caffe;\n",
       "            color:  #000000;\n",
       "        }    #T_ee92b5fc_b48a_11ea_b15d_acde48001122row5_col0 {\n",
       "            background-color:  #e6d7cf;\n",
       "            color:  #000000;\n",
       "        }    #T_ee92b5fc_b48a_11ea_b15d_acde48001122row5_col1 {\n",
       "            background-color:  #88abfd;\n",
       "            color:  #000000;\n",
       "        }    #T_ee92b5fc_b48a_11ea_b15d_acde48001122row5_col2 {\n",
       "            background-color:  #7396f5;\n",
       "            color:  #000000;\n",
       "        }    #T_ee92b5fc_b48a_11ea_b15d_acde48001122row5_col3 {\n",
       "            background-color:  #d75445;\n",
       "            color:  #000000;\n",
       "        }    #T_ee92b5fc_b48a_11ea_b15d_acde48001122row5_col4 {\n",
       "            background-color:  #88abfd;\n",
       "            color:  #000000;\n",
       "        }    #T_ee92b5fc_b48a_11ea_b15d_acde48001122row5_col5 {\n",
       "            background-color:  #b40426;\n",
       "            color:  #f1f1f1;\n",
       "        }    #T_ee92b5fc_b48a_11ea_b15d_acde48001122row5_col6 {\n",
       "            background-color:  #4257c9;\n",
       "            color:  #f1f1f1;\n",
       "        }    #T_ee92b5fc_b48a_11ea_b15d_acde48001122row5_col7 {\n",
       "            background-color:  #f7b497;\n",
       "            color:  #000000;\n",
       "        }    #T_ee92b5fc_b48a_11ea_b15d_acde48001122row5_col8 {\n",
       "            background-color:  #8badfd;\n",
       "            color:  #000000;\n",
       "        }    #T_ee92b5fc_b48a_11ea_b15d_acde48001122row5_col9 {\n",
       "            background-color:  #93b5fe;\n",
       "            color:  #000000;\n",
       "        }    #T_ee92b5fc_b48a_11ea_b15d_acde48001122row5_col10 {\n",
       "            background-color:  #84a7fc;\n",
       "            color:  #000000;\n",
       "        }    #T_ee92b5fc_b48a_11ea_b15d_acde48001122row6_col0 {\n",
       "            background-color:  #3c4ec2;\n",
       "            color:  #f1f1f1;\n",
       "        }    #T_ee92b5fc_b48a_11ea_b15d_acde48001122row6_col1 {\n",
       "            background-color:  #6e90f2;\n",
       "            color:  #000000;\n",
       "        }    #T_ee92b5fc_b48a_11ea_b15d_acde48001122row6_col2 {\n",
       "            background-color:  #465ecf;\n",
       "            color:  #f1f1f1;\n",
       "        }    #T_ee92b5fc_b48a_11ea_b15d_acde48001122row6_col3 {\n",
       "            background-color:  #5875e1;\n",
       "            color:  #000000;\n",
       "        }    #T_ee92b5fc_b48a_11ea_b15d_acde48001122row6_col4 {\n",
       "            background-color:  #6f92f3;\n",
       "            color:  #000000;\n",
       "        }    #T_ee92b5fc_b48a_11ea_b15d_acde48001122row6_col5 {\n",
       "            background-color:  #4961d2;\n",
       "            color:  #f1f1f1;\n",
       "        }    #T_ee92b5fc_b48a_11ea_b15d_acde48001122row6_col6 {\n",
       "            background-color:  #b40426;\n",
       "            color:  #f1f1f1;\n",
       "        }    #T_ee92b5fc_b48a_11ea_b15d_acde48001122row6_col7 {\n",
       "            background-color:  #5d7ce6;\n",
       "            color:  #000000;\n",
       "        }    #T_ee92b5fc_b48a_11ea_b15d_acde48001122row6_col8 {\n",
       "            background-color:  #8caffe;\n",
       "            color:  #000000;\n",
       "        }    #T_ee92b5fc_b48a_11ea_b15d_acde48001122row6_col9 {\n",
       "            background-color:  #94b6ff;\n",
       "            color:  #000000;\n",
       "        }    #T_ee92b5fc_b48a_11ea_b15d_acde48001122row6_col10 {\n",
       "            background-color:  #8fb1fe;\n",
       "            color:  #000000;\n",
       "        }    #T_ee92b5fc_b48a_11ea_b15d_acde48001122row7_col0 {\n",
       "            background-color:  #3b4cc0;\n",
       "            color:  #f1f1f1;\n",
       "        }    #T_ee92b5fc_b48a_11ea_b15d_acde48001122row7_col1 {\n",
       "            background-color:  #6180e9;\n",
       "            color:  #000000;\n",
       "        }    #T_ee92b5fc_b48a_11ea_b15d_acde48001122row7_col2 {\n",
       "            background-color:  #4358cb;\n",
       "            color:  #f1f1f1;\n",
       "        }    #T_ee92b5fc_b48a_11ea_b15d_acde48001122row7_col3 {\n",
       "            background-color:  #ee8669;\n",
       "            color:  #000000;\n",
       "        }    #T_ee92b5fc_b48a_11ea_b15d_acde48001122row7_col4 {\n",
       "            background-color:  #6384eb;\n",
       "            color:  #000000;\n",
       "        }    #T_ee92b5fc_b48a_11ea_b15d_acde48001122row7_col5 {\n",
       "            background-color:  #f7b497;\n",
       "            color:  #000000;\n",
       "        }    #T_ee92b5fc_b48a_11ea_b15d_acde48001122row7_col6 {\n",
       "            background-color:  #5875e1;\n",
       "            color:  #000000;\n",
       "        }    #T_ee92b5fc_b48a_11ea_b15d_acde48001122row7_col7 {\n",
       "            background-color:  #b40426;\n",
       "            color:  #f1f1f1;\n",
       "        }    #T_ee92b5fc_b48a_11ea_b15d_acde48001122row7_col8 {\n",
       "            background-color:  #85a8fc;\n",
       "            color:  #000000;\n",
       "        }    #T_ee92b5fc_b48a_11ea_b15d_acde48001122row7_col9 {\n",
       "            background-color:  #a1c0ff;\n",
       "            color:  #000000;\n",
       "        }    #T_ee92b5fc_b48a_11ea_b15d_acde48001122row7_col10 {\n",
       "            background-color:  #85a8fc;\n",
       "            color:  #000000;\n",
       "        }    #T_ee92b5fc_b48a_11ea_b15d_acde48001122row8_col0 {\n",
       "            background-color:  #4257c9;\n",
       "            color:  #f1f1f1;\n",
       "        }    #T_ee92b5fc_b48a_11ea_b15d_acde48001122row8_col1 {\n",
       "            background-color:  #3b4cc0;\n",
       "            color:  #f1f1f1;\n",
       "        }    #T_ee92b5fc_b48a_11ea_b15d_acde48001122row8_col2 {\n",
       "            background-color:  #4961d2;\n",
       "            color:  #f1f1f1;\n",
       "        }    #T_ee92b5fc_b48a_11ea_b15d_acde48001122row8_col3 {\n",
       "            background-color:  #3c4ec2;\n",
       "            color:  #f1f1f1;\n",
       "        }    #T_ee92b5fc_b48a_11ea_b15d_acde48001122row8_col4 {\n",
       "            background-color:  #3b4cc0;\n",
       "            color:  #f1f1f1;\n",
       "        }    #T_ee92b5fc_b48a_11ea_b15d_acde48001122row8_col5 {\n",
       "            background-color:  #4257c9;\n",
       "            color:  #f1f1f1;\n",
       "        }    #T_ee92b5fc_b48a_11ea_b15d_acde48001122row8_col6 {\n",
       "            background-color:  #3c4ec2;\n",
       "            color:  #f1f1f1;\n",
       "        }    #T_ee92b5fc_b48a_11ea_b15d_acde48001122row8_col7 {\n",
       "            background-color:  #3b4cc0;\n",
       "            color:  #f1f1f1;\n",
       "        }    #T_ee92b5fc_b48a_11ea_b15d_acde48001122row8_col8 {\n",
       "            background-color:  #b40426;\n",
       "            color:  #f1f1f1;\n",
       "        }    #T_ee92b5fc_b48a_11ea_b15d_acde48001122row8_col9 {\n",
       "            background-color:  #3b4cc0;\n",
       "            color:  #f1f1f1;\n",
       "        }    #T_ee92b5fc_b48a_11ea_b15d_acde48001122row8_col10 {\n",
       "            background-color:  #3f53c6;\n",
       "            color:  #f1f1f1;\n",
       "        }    #T_ee92b5fc_b48a_11ea_b15d_acde48001122row9_col0 {\n",
       "            background-color:  #3e51c5;\n",
       "            color:  #f1f1f1;\n",
       "        }    #T_ee92b5fc_b48a_11ea_b15d_acde48001122row9_col1 {\n",
       "            background-color:  #b2ccfb;\n",
       "            color:  #000000;\n",
       "        }    #T_ee92b5fc_b48a_11ea_b15d_acde48001122row9_col2 {\n",
       "            background-color:  #3b4cc0;\n",
       "            color:  #f1f1f1;\n",
       "        }    #T_ee92b5fc_b48a_11ea_b15d_acde48001122row9_col3 {\n",
       "            background-color:  #5d7ce6;\n",
       "            color:  #000000;\n",
       "        }    #T_ee92b5fc_b48a_11ea_b15d_acde48001122row9_col4 {\n",
       "            background-color:  #b6cefa;\n",
       "            color:  #000000;\n",
       "        }    #T_ee92b5fc_b48a_11ea_b15d_acde48001122row9_col5 {\n",
       "            background-color:  #4b64d5;\n",
       "            color:  #f1f1f1;\n",
       "        }    #T_ee92b5fc_b48a_11ea_b15d_acde48001122row9_col6 {\n",
       "            background-color:  #455cce;\n",
       "            color:  #f1f1f1;\n",
       "        }    #T_ee92b5fc_b48a_11ea_b15d_acde48001122row9_col7 {\n",
       "            background-color:  #5a78e4;\n",
       "            color:  #000000;\n",
       "        }    #T_ee92b5fc_b48a_11ea_b15d_acde48001122row9_col8 {\n",
       "            background-color:  #3b4cc0;\n",
       "            color:  #f1f1f1;\n",
       "        }    #T_ee92b5fc_b48a_11ea_b15d_acde48001122row9_col9 {\n",
       "            background-color:  #b40426;\n",
       "            color:  #f1f1f1;\n",
       "        }    #T_ee92b5fc_b48a_11ea_b15d_acde48001122row9_col10 {\n",
       "            background-color:  #3b4cc0;\n",
       "            color:  #f1f1f1;\n",
       "        }    #T_ee92b5fc_b48a_11ea_b15d_acde48001122row10_col0 {\n",
       "            background-color:  #445acc;\n",
       "            color:  #f1f1f1;\n",
       "        }    #T_ee92b5fc_b48a_11ea_b15d_acde48001122row10_col1 {\n",
       "            background-color:  #5e7de7;\n",
       "            color:  #000000;\n",
       "        }    #T_ee92b5fc_b48a_11ea_b15d_acde48001122row10_col2 {\n",
       "            background-color:  #485fd1;\n",
       "            color:  #f1f1f1;\n",
       "        }    #T_ee92b5fc_b48a_11ea_b15d_acde48001122row10_col3 {\n",
       "            background-color:  #3b4cc0;\n",
       "            color:  #f1f1f1;\n",
       "        }    #T_ee92b5fc_b48a_11ea_b15d_acde48001122row10_col4 {\n",
       "            background-color:  #5e7de7;\n",
       "            color:  #000000;\n",
       "        }    #T_ee92b5fc_b48a_11ea_b15d_acde48001122row10_col5 {\n",
       "            background-color:  #3b4cc0;\n",
       "            color:  #f1f1f1;\n",
       "        }    #T_ee92b5fc_b48a_11ea_b15d_acde48001122row10_col6 {\n",
       "            background-color:  #3f53c6;\n",
       "            color:  #f1f1f1;\n",
       "        }    #T_ee92b5fc_b48a_11ea_b15d_acde48001122row10_col7 {\n",
       "            background-color:  #3b4cc0;\n",
       "            color:  #f1f1f1;\n",
       "        }    #T_ee92b5fc_b48a_11ea_b15d_acde48001122row10_col8 {\n",
       "            background-color:  #3f53c6;\n",
       "            color:  #f1f1f1;\n",
       "        }    #T_ee92b5fc_b48a_11ea_b15d_acde48001122row10_col9 {\n",
       "            background-color:  #3b4cc0;\n",
       "            color:  #f1f1f1;\n",
       "        }    #T_ee92b5fc_b48a_11ea_b15d_acde48001122row10_col10 {\n",
       "            background-color:  #b40426;\n",
       "            color:  #f1f1f1;\n",
       "        }</style><table id=\"T_ee92b5fc_b48a_11ea_b15d_acde48001122\" ><thead>    <tr>        <th class=\"blank level0\" ></th>        <th class=\"col_heading level0 col0\" >age</th>        <th class=\"col_heading level0 col1\" >bmi</th>        <th class=\"col_heading level0 col2\" >children</th>        <th class=\"col_heading level0 col3\" >charges</th>        <th class=\"col_heading level0 col4\" >bmi_derivative</th>        <th class=\"col_heading level0 col5\" >log_charges</th>        <th class=\"col_heading level0 col6\" >is_sex_1</th>        <th class=\"col_heading level0 col7\" >is_smoker_1</th>        <th class=\"col_heading level0 col8\" >is_region_northwest</th>        <th class=\"col_heading level0 col9\" >is_region_southeast</th>        <th class=\"col_heading level0 col10\" >is_region_southwest</th>    </tr></thead><tbody>\n",
       "                <tr>\n",
       "                        <th id=\"T_ee92b5fc_b48a_11ea_b15d_acde48001122level0_row0\" class=\"row_heading level0 row0\" >age</th>\n",
       "                        <td id=\"T_ee92b5fc_b48a_11ea_b15d_acde48001122row0_col0\" class=\"data row0 col0\" >1.000000</td>\n",
       "                        <td id=\"T_ee92b5fc_b48a_11ea_b15d_acde48001122row0_col1\" class=\"data row0 col1\" >0.109344</td>\n",
       "                        <td id=\"T_ee92b5fc_b48a_11ea_b15d_acde48001122row0_col2\" class=\"data row0 col2\" >0.041536</td>\n",
       "                        <td id=\"T_ee92b5fc_b48a_11ea_b15d_acde48001122row0_col3\" class=\"data row0 col3\" >0.298308</td>\n",
       "                        <td id=\"T_ee92b5fc_b48a_11ea_b15d_acde48001122row0_col4\" class=\"data row0 col4\" >0.100680</td>\n",
       "                        <td id=\"T_ee92b5fc_b48a_11ea_b15d_acde48001122row0_col5\" class=\"data row0 col5\" >0.526927</td>\n",
       "                        <td id=\"T_ee92b5fc_b48a_11ea_b15d_acde48001122row0_col6\" class=\"data row0 col6\" >-0.019814</td>\n",
       "                        <td id=\"T_ee92b5fc_b48a_11ea_b15d_acde48001122row0_col7\" class=\"data row0 col7\" >-0.025587</td>\n",
       "                        <td id=\"T_ee92b5fc_b48a_11ea_b15d_acde48001122row0_col8\" class=\"data row0 col8\" >0.001495</td>\n",
       "                        <td id=\"T_ee92b5fc_b48a_11ea_b15d_acde48001122row0_col9\" class=\"data row0 col9\" >-0.012311</td>\n",
       "                        <td id=\"T_ee92b5fc_b48a_11ea_b15d_acde48001122row0_col10\" class=\"data row0 col10\" >0.009415</td>\n",
       "            </tr>\n",
       "            <tr>\n",
       "                        <th id=\"T_ee92b5fc_b48a_11ea_b15d_acde48001122level0_row1\" class=\"row_heading level0 row1\" >bmi</th>\n",
       "                        <td id=\"T_ee92b5fc_b48a_11ea_b15d_acde48001122row1_col0\" class=\"data row1 col0\" >0.109344</td>\n",
       "                        <td id=\"T_ee92b5fc_b48a_11ea_b15d_acde48001122row1_col1\" class=\"data row1 col1\" >1.000000</td>\n",
       "                        <td id=\"T_ee92b5fc_b48a_11ea_b15d_acde48001122row1_col2\" class=\"data row1 col2\" >0.012755</td>\n",
       "                        <td id=\"T_ee92b5fc_b48a_11ea_b15d_acde48001122row1_col3\" class=\"data row1 col3\" >0.198401</td>\n",
       "                        <td id=\"T_ee92b5fc_b48a_11ea_b15d_acde48001122row1_col4\" class=\"data row1 col4\" >0.991403</td>\n",
       "                        <td id=\"T_ee92b5fc_b48a_11ea_b15d_acde48001122row1_col5\" class=\"data row1 col5\" >0.132822</td>\n",
       "                        <td id=\"T_ee92b5fc_b48a_11ea_b15d_acde48001122row1_col6\" class=\"data row1 col6\" >0.046397</td>\n",
       "                        <td id=\"T_ee92b5fc_b48a_11ea_b15d_acde48001122row1_col7\" class=\"data row1 col7\" >0.003746</td>\n",
       "                        <td id=\"T_ee92b5fc_b48a_11ea_b15d_acde48001122row1_col8\" class=\"data row1 col8\" >-0.136138</td>\n",
       "                        <td id=\"T_ee92b5fc_b48a_11ea_b15d_acde48001122row1_col9\" class=\"data row1 col9\" >0.270057</td>\n",
       "                        <td id=\"T_ee92b5fc_b48a_11ea_b15d_acde48001122row1_col10\" class=\"data row1 col10\" >-0.006211</td>\n",
       "            </tr>\n",
       "            <tr>\n",
       "                        <th id=\"T_ee92b5fc_b48a_11ea_b15d_acde48001122level0_row2\" class=\"row_heading level0 row2\" >children</th>\n",
       "                        <td id=\"T_ee92b5fc_b48a_11ea_b15d_acde48001122row2_col0\" class=\"data row2 col0\" >0.041536</td>\n",
       "                        <td id=\"T_ee92b5fc_b48a_11ea_b15d_acde48001122row2_col1\" class=\"data row2 col1\" >0.012755</td>\n",
       "                        <td id=\"T_ee92b5fc_b48a_11ea_b15d_acde48001122row2_col2\" class=\"data row2 col2\" >1.000000</td>\n",
       "                        <td id=\"T_ee92b5fc_b48a_11ea_b15d_acde48001122row2_col3\" class=\"data row2 col3\" >0.067389</td>\n",
       "                        <td id=\"T_ee92b5fc_b48a_11ea_b15d_acde48001122row2_col4\" class=\"data row2 col4\" >0.012401</td>\n",
       "                        <td id=\"T_ee92b5fc_b48a_11ea_b15d_acde48001122row2_col5\" class=\"data row2 col5\" >0.160336</td>\n",
       "                        <td id=\"T_ee92b5fc_b48a_11ea_b15d_acde48001122row2_col6\" class=\"data row2 col6\" >0.017848</td>\n",
       "                        <td id=\"T_ee92b5fc_b48a_11ea_b15d_acde48001122row2_col7\" class=\"data row2 col7\" >0.007331</td>\n",
       "                        <td id=\"T_ee92b5fc_b48a_11ea_b15d_acde48001122row2_col8\" class=\"data row2 col8\" >0.026044</td>\n",
       "                        <td id=\"T_ee92b5fc_b48a_11ea_b15d_acde48001122row2_col9\" class=\"data row2 col9\" >-0.023492</td>\n",
       "                        <td id=\"T_ee92b5fc_b48a_11ea_b15d_acde48001122row2_col10\" class=\"data row2 col10\" >0.021538</td>\n",
       "            </tr>\n",
       "            <tr>\n",
       "                        <th id=\"T_ee92b5fc_b48a_11ea_b15d_acde48001122level0_row3\" class=\"row_heading level0 row3\" >charges</th>\n",
       "                        <td id=\"T_ee92b5fc_b48a_11ea_b15d_acde48001122row3_col0\" class=\"data row3 col0\" >0.298308</td>\n",
       "                        <td id=\"T_ee92b5fc_b48a_11ea_b15d_acde48001122row3_col1\" class=\"data row3 col1\" >0.198401</td>\n",
       "                        <td id=\"T_ee92b5fc_b48a_11ea_b15d_acde48001122row3_col2\" class=\"data row3 col2\" >0.067389</td>\n",
       "                        <td id=\"T_ee92b5fc_b48a_11ea_b15d_acde48001122row3_col3\" class=\"data row3 col3\" >1.000000</td>\n",
       "                        <td id=\"T_ee92b5fc_b48a_11ea_b15d_acde48001122row3_col4\" class=\"data row3 col4\" >0.192971</td>\n",
       "                        <td id=\"T_ee92b5fc_b48a_11ea_b15d_acde48001122row3_col5\" class=\"data row3 col5\" >0.893084</td>\n",
       "                        <td id=\"T_ee92b5fc_b48a_11ea_b15d_acde48001122row3_col6\" class=\"data row3 col6\" >0.058044</td>\n",
       "                        <td id=\"T_ee92b5fc_b48a_11ea_b15d_acde48001122row3_col7\" class=\"data row3 col7\" >0.787234</td>\n",
       "                        <td id=\"T_ee92b5fc_b48a_11ea_b15d_acde48001122row3_col8\" class=\"data row3 col8\" >-0.038695</td>\n",
       "                        <td id=\"T_ee92b5fc_b48a_11ea_b15d_acde48001122row3_col9\" class=\"data row3 col9\" >0.073578</td>\n",
       "                        <td id=\"T_ee92b5fc_b48a_11ea_b15d_acde48001122row3_col10\" class=\"data row3 col10\" >-0.043637</td>\n",
       "            </tr>\n",
       "            <tr>\n",
       "                        <th id=\"T_ee92b5fc_b48a_11ea_b15d_acde48001122level0_row4\" class=\"row_heading level0 row4\" >bmi_derivative</th>\n",
       "                        <td id=\"T_ee92b5fc_b48a_11ea_b15d_acde48001122row4_col0\" class=\"data row4 col0\" >0.100680</td>\n",
       "                        <td id=\"T_ee92b5fc_b48a_11ea_b15d_acde48001122row4_col1\" class=\"data row4 col1\" >0.991403</td>\n",
       "                        <td id=\"T_ee92b5fc_b48a_11ea_b15d_acde48001122row4_col2\" class=\"data row4 col2\" >0.012401</td>\n",
       "                        <td id=\"T_ee92b5fc_b48a_11ea_b15d_acde48001122row4_col3\" class=\"data row4 col3\" >0.192971</td>\n",
       "                        <td id=\"T_ee92b5fc_b48a_11ea_b15d_acde48001122row4_col4\" class=\"data row4 col4\" >1.000000</td>\n",
       "                        <td id=\"T_ee92b5fc_b48a_11ea_b15d_acde48001122row4_col5\" class=\"data row4 col5\" >0.124935</td>\n",
       "                        <td id=\"T_ee92b5fc_b48a_11ea_b15d_acde48001122row4_col6\" class=\"data row4 col6\" >0.046287</td>\n",
       "                        <td id=\"T_ee92b5fc_b48a_11ea_b15d_acde48001122row4_col7\" class=\"data row4 col7\" >0.007007</td>\n",
       "                        <td id=\"T_ee92b5fc_b48a_11ea_b15d_acde48001122row4_col8\" class=\"data row4 col8\" >-0.143883</td>\n",
       "                        <td id=\"T_ee92b5fc_b48a_11ea_b15d_acde48001122row4_col9\" class=\"data row4 col9\" >0.279168</td>\n",
       "                        <td id=\"T_ee92b5fc_b48a_11ea_b15d_acde48001122row4_col10\" class=\"data row4 col10\" >-0.013128</td>\n",
       "            </tr>\n",
       "            <tr>\n",
       "                        <th id=\"T_ee92b5fc_b48a_11ea_b15d_acde48001122level0_row5\" class=\"row_heading level0 row5\" >log_charges</th>\n",
       "                        <td id=\"T_ee92b5fc_b48a_11ea_b15d_acde48001122row5_col0\" class=\"data row5 col0\" >0.526927</td>\n",
       "                        <td id=\"T_ee92b5fc_b48a_11ea_b15d_acde48001122row5_col1\" class=\"data row5 col1\" >0.132822</td>\n",
       "                        <td id=\"T_ee92b5fc_b48a_11ea_b15d_acde48001122row5_col2\" class=\"data row5 col2\" >0.160336</td>\n",
       "                        <td id=\"T_ee92b5fc_b48a_11ea_b15d_acde48001122row5_col3\" class=\"data row5 col3\" >0.893084</td>\n",
       "                        <td id=\"T_ee92b5fc_b48a_11ea_b15d_acde48001122row5_col4\" class=\"data row5 col4\" >0.124935</td>\n",
       "                        <td id=\"T_ee92b5fc_b48a_11ea_b15d_acde48001122row5_col5\" class=\"data row5 col5\" >1.000000</td>\n",
       "                        <td id=\"T_ee92b5fc_b48a_11ea_b15d_acde48001122row5_col6\" class=\"data row5 col6\" >0.007009</td>\n",
       "                        <td id=\"T_ee92b5fc_b48a_11ea_b15d_acde48001122row5_col7\" class=\"data row5 col7\" >0.665718</td>\n",
       "                        <td id=\"T_ee92b5fc_b48a_11ea_b15d_acde48001122row5_col8\" class=\"data row5 col8\" >-0.015425</td>\n",
       "                        <td id=\"T_ee92b5fc_b48a_11ea_b15d_acde48001122row5_col9\" class=\"data row5 col9\" >0.014968</td>\n",
       "                        <td id=\"T_ee92b5fc_b48a_11ea_b15d_acde48001122row5_col10\" class=\"data row5 col10\" >-0.042473</td>\n",
       "            </tr>\n",
       "            <tr>\n",
       "                        <th id=\"T_ee92b5fc_b48a_11ea_b15d_acde48001122level0_row6\" class=\"row_heading level0 row6\" >is_sex_1</th>\n",
       "                        <td id=\"T_ee92b5fc_b48a_11ea_b15d_acde48001122row6_col0\" class=\"data row6 col0\" >-0.019814</td>\n",
       "                        <td id=\"T_ee92b5fc_b48a_11ea_b15d_acde48001122row6_col1\" class=\"data row6 col1\" >0.046397</td>\n",
       "                        <td id=\"T_ee92b5fc_b48a_11ea_b15d_acde48001122row6_col2\" class=\"data row6 col2\" >0.017848</td>\n",
       "                        <td id=\"T_ee92b5fc_b48a_11ea_b15d_acde48001122row6_col3\" class=\"data row6 col3\" >0.058044</td>\n",
       "                        <td id=\"T_ee92b5fc_b48a_11ea_b15d_acde48001122row6_col4\" class=\"data row6 col4\" >0.046287</td>\n",
       "                        <td id=\"T_ee92b5fc_b48a_11ea_b15d_acde48001122row6_col5\" class=\"data row6 col5\" >0.007009</td>\n",
       "                        <td id=\"T_ee92b5fc_b48a_11ea_b15d_acde48001122row6_col6\" class=\"data row6 col6\" >1.000000</td>\n",
       "                        <td id=\"T_ee92b5fc_b48a_11ea_b15d_acde48001122row6_col7\" class=\"data row6 col7\" >0.076596</td>\n",
       "                        <td id=\"T_ee92b5fc_b48a_11ea_b15d_acde48001122row6_col8\" class=\"data row6 col8\" >-0.012482</td>\n",
       "                        <td id=\"T_ee92b5fc_b48a_11ea_b15d_acde48001122row6_col9\" class=\"data row6 col9\" >0.017578</td>\n",
       "                        <td id=\"T_ee92b5fc_b48a_11ea_b15d_acde48001122row6_col10\" class=\"data row6 col10\" >-0.003767</td>\n",
       "            </tr>\n",
       "            <tr>\n",
       "                        <th id=\"T_ee92b5fc_b48a_11ea_b15d_acde48001122level0_row7\" class=\"row_heading level0 row7\" >is_smoker_1</th>\n",
       "                        <td id=\"T_ee92b5fc_b48a_11ea_b15d_acde48001122row7_col0\" class=\"data row7 col0\" >-0.025587</td>\n",
       "                        <td id=\"T_ee92b5fc_b48a_11ea_b15d_acde48001122row7_col1\" class=\"data row7 col1\" >0.003746</td>\n",
       "                        <td id=\"T_ee92b5fc_b48a_11ea_b15d_acde48001122row7_col2\" class=\"data row7 col2\" >0.007331</td>\n",
       "                        <td id=\"T_ee92b5fc_b48a_11ea_b15d_acde48001122row7_col3\" class=\"data row7 col3\" >0.787234</td>\n",
       "                        <td id=\"T_ee92b5fc_b48a_11ea_b15d_acde48001122row7_col4\" class=\"data row7 col4\" >0.007007</td>\n",
       "                        <td id=\"T_ee92b5fc_b48a_11ea_b15d_acde48001122row7_col5\" class=\"data row7 col5\" >0.665718</td>\n",
       "                        <td id=\"T_ee92b5fc_b48a_11ea_b15d_acde48001122row7_col6\" class=\"data row7 col6\" >0.076596</td>\n",
       "                        <td id=\"T_ee92b5fc_b48a_11ea_b15d_acde48001122row7_col7\" class=\"data row7 col7\" >1.000000</td>\n",
       "                        <td id=\"T_ee92b5fc_b48a_11ea_b15d_acde48001122row7_col8\" class=\"data row7 col8\" >-0.036321</td>\n",
       "                        <td id=\"T_ee92b5fc_b48a_11ea_b15d_acde48001122row7_col9\" class=\"data row7 col9\" >0.068282</td>\n",
       "                        <td id=\"T_ee92b5fc_b48a_11ea_b15d_acde48001122row7_col10\" class=\"data row7 col10\" >-0.037168</td>\n",
       "            </tr>\n",
       "            <tr>\n",
       "                        <th id=\"T_ee92b5fc_b48a_11ea_b15d_acde48001122level0_row8\" class=\"row_heading level0 row8\" >is_region_northwest</th>\n",
       "                        <td id=\"T_ee92b5fc_b48a_11ea_b15d_acde48001122row8_col0\" class=\"data row8 col0\" >0.001495</td>\n",
       "                        <td id=\"T_ee92b5fc_b48a_11ea_b15d_acde48001122row8_col1\" class=\"data row8 col1\" >-0.136138</td>\n",
       "                        <td id=\"T_ee92b5fc_b48a_11ea_b15d_acde48001122row8_col2\" class=\"data row8 col2\" >0.026044</td>\n",
       "                        <td id=\"T_ee92b5fc_b48a_11ea_b15d_acde48001122row8_col3\" class=\"data row8 col3\" >-0.038695</td>\n",
       "                        <td id=\"T_ee92b5fc_b48a_11ea_b15d_acde48001122row8_col4\" class=\"data row8 col4\" >-0.143883</td>\n",
       "                        <td id=\"T_ee92b5fc_b48a_11ea_b15d_acde48001122row8_col5\" class=\"data row8 col5\" >-0.015425</td>\n",
       "                        <td id=\"T_ee92b5fc_b48a_11ea_b15d_acde48001122row8_col6\" class=\"data row8 col6\" >-0.012482</td>\n",
       "                        <td id=\"T_ee92b5fc_b48a_11ea_b15d_acde48001122row8_col7\" class=\"data row8 col7\" >-0.036321</td>\n",
       "                        <td id=\"T_ee92b5fc_b48a_11ea_b15d_acde48001122row8_col8\" class=\"data row8 col8\" >1.000000</td>\n",
       "                        <td id=\"T_ee92b5fc_b48a_11ea_b15d_acde48001122row8_col9\" class=\"data row8 col9\" >-0.345909</td>\n",
       "                        <td id=\"T_ee92b5fc_b48a_11ea_b15d_acde48001122row8_col10\" class=\"data row8 col10\" >-0.320493</td>\n",
       "            </tr>\n",
       "            <tr>\n",
       "                        <th id=\"T_ee92b5fc_b48a_11ea_b15d_acde48001122level0_row9\" class=\"row_heading level0 row9\" >is_region_southeast</th>\n",
       "                        <td id=\"T_ee92b5fc_b48a_11ea_b15d_acde48001122row9_col0\" class=\"data row9 col0\" >-0.012311</td>\n",
       "                        <td id=\"T_ee92b5fc_b48a_11ea_b15d_acde48001122row9_col1\" class=\"data row9 col1\" >0.270057</td>\n",
       "                        <td id=\"T_ee92b5fc_b48a_11ea_b15d_acde48001122row9_col2\" class=\"data row9 col2\" >-0.023492</td>\n",
       "                        <td id=\"T_ee92b5fc_b48a_11ea_b15d_acde48001122row9_col3\" class=\"data row9 col3\" >0.073578</td>\n",
       "                        <td id=\"T_ee92b5fc_b48a_11ea_b15d_acde48001122row9_col4\" class=\"data row9 col4\" >0.279168</td>\n",
       "                        <td id=\"T_ee92b5fc_b48a_11ea_b15d_acde48001122row9_col5\" class=\"data row9 col5\" >0.014968</td>\n",
       "                        <td id=\"T_ee92b5fc_b48a_11ea_b15d_acde48001122row9_col6\" class=\"data row9 col6\" >0.017578</td>\n",
       "                        <td id=\"T_ee92b5fc_b48a_11ea_b15d_acde48001122row9_col7\" class=\"data row9 col7\" >0.068282</td>\n",
       "                        <td id=\"T_ee92b5fc_b48a_11ea_b15d_acde48001122row9_col8\" class=\"data row9 col8\" >-0.345909</td>\n",
       "                        <td id=\"T_ee92b5fc_b48a_11ea_b15d_acde48001122row9_col9\" class=\"data row9 col9\" >1.000000</td>\n",
       "                        <td id=\"T_ee92b5fc_b48a_11ea_b15d_acde48001122row9_col10\" class=\"data row9 col10\" >-0.346614</td>\n",
       "            </tr>\n",
       "            <tr>\n",
       "                        <th id=\"T_ee92b5fc_b48a_11ea_b15d_acde48001122level0_row10\" class=\"row_heading level0 row10\" >is_region_southwest</th>\n",
       "                        <td id=\"T_ee92b5fc_b48a_11ea_b15d_acde48001122row10_col0\" class=\"data row10 col0\" >0.009415</td>\n",
       "                        <td id=\"T_ee92b5fc_b48a_11ea_b15d_acde48001122row10_col1\" class=\"data row10 col1\" >-0.006211</td>\n",
       "                        <td id=\"T_ee92b5fc_b48a_11ea_b15d_acde48001122row10_col2\" class=\"data row10 col2\" >0.021538</td>\n",
       "                        <td id=\"T_ee92b5fc_b48a_11ea_b15d_acde48001122row10_col3\" class=\"data row10 col3\" >-0.043637</td>\n",
       "                        <td id=\"T_ee92b5fc_b48a_11ea_b15d_acde48001122row10_col4\" class=\"data row10 col4\" >-0.013128</td>\n",
       "                        <td id=\"T_ee92b5fc_b48a_11ea_b15d_acde48001122row10_col5\" class=\"data row10 col5\" >-0.042473</td>\n",
       "                        <td id=\"T_ee92b5fc_b48a_11ea_b15d_acde48001122row10_col6\" class=\"data row10 col6\" >-0.003767</td>\n",
       "                        <td id=\"T_ee92b5fc_b48a_11ea_b15d_acde48001122row10_col7\" class=\"data row10 col7\" >-0.037168</td>\n",
       "                        <td id=\"T_ee92b5fc_b48a_11ea_b15d_acde48001122row10_col8\" class=\"data row10 col8\" >-0.320493</td>\n",
       "                        <td id=\"T_ee92b5fc_b48a_11ea_b15d_acde48001122row10_col9\" class=\"data row10 col9\" >-0.346614</td>\n",
       "                        <td id=\"T_ee92b5fc_b48a_11ea_b15d_acde48001122row10_col10\" class=\"data row10 col10\" >1.000000</td>\n",
       "            </tr>\n",
       "    </tbody></table>"
      ],
      "text/plain": [
       "<pandas.io.formats.style.Styler at 0x1303c2438>"
      ]
     },
     "execution_count": 59,
     "metadata": {},
     "output_type": "execute_result"
    }
   ],
   "source": [
    "insurance_for_modeling.corr().style.background_gradient(cmap='coolwarm')"
   ]
  },
  {
   "cell_type": "markdown",
   "metadata": {},
   "source": [
    "**Notes:** \n",
    "    - `smoker` and `charges` have correlation of 0.782. They are highly correlated.\n",
    "    - `bmi` and `charges` are also some how correlated (0.198)"
   ]
  },
  {
   "cell_type": "markdown",
   "metadata": {},
   "source": [
    "#### Can also try `multicollinearity test`"
   ]
  },
  {
   "cell_type": "markdown",
   "metadata": {},
   "source": [
    "### 4. Modeling - Ridge"
   ]
  },
  {
   "cell_type": "code",
   "execution_count": 60,
   "metadata": {},
   "outputs": [],
   "source": [
    "X = insurance_for_modeling[[i for i in insurance_for_modeling.columns if 'charges' not in i]]"
   ]
  },
  {
   "cell_type": "code",
   "execution_count": 61,
   "metadata": {},
   "outputs": [
    {
     "data": {
      "text/plain": [
       "Index(['age', 'bmi', 'children', 'bmi_derivative', 'is_sex_1', 'is_smoker_1',\n",
       "       'is_region_northwest', 'is_region_southeast', 'is_region_southwest'],\n",
       "      dtype='object')"
      ]
     },
     "execution_count": 61,
     "metadata": {},
     "output_type": "execute_result"
    }
   ],
   "source": [
    "X.columns"
   ]
  },
  {
   "cell_type": "code",
   "execution_count": 62,
   "metadata": {},
   "outputs": [],
   "source": [
    "y = insurance_for_modeling.log_charges"
   ]
  },
  {
   "cell_type": "code",
   "execution_count": 63,
   "metadata": {},
   "outputs": [
    {
     "data": {
      "text/plain": [
       "0    9.734176\n",
       "1    7.453302\n",
       "2    8.400538\n",
       "3    9.998092\n",
       "4    8.260197\n",
       "Name: log_charges, dtype: float64"
      ]
     },
     "execution_count": 63,
     "metadata": {},
     "output_type": "execute_result"
    }
   ],
   "source": [
    "y.head()"
   ]
  },
  {
   "cell_type": "code",
   "execution_count": 64,
   "metadata": {},
   "outputs": [
    {
     "data": {
      "text/plain": [
       "0.7689293096703849"
      ]
     },
     "execution_count": 64,
     "metadata": {},
     "output_type": "execute_result"
    }
   ],
   "source": [
    "ols = LinearRegressor()\n",
    "ols.fit(X,y)\n",
    "y_hat = ols.predict(y)\n",
    "ols.r_sqrd()"
   ]
  },
  {
   "cell_type": "code",
   "execution_count": 66,
   "metadata": {},
   "outputs": [],
   "source": [
    "results = crossvalidate.cv_score(model_obj=RidgeRegressor(alpha=1),\n",
    "                                 X=X,\n",
    "                                 y=y,\n",
    "                                 score_funcs=[r2_score])"
   ]
  },
  {
   "cell_type": "code",
   "execution_count": 67,
   "metadata": {},
   "outputs": [
    {
     "data": {
      "text/html": [
       "<div>\n",
       "<style scoped>\n",
       "    .dataframe tbody tr th:only-of-type {\n",
       "        vertical-align: middle;\n",
       "    }\n",
       "\n",
       "    .dataframe tbody tr th {\n",
       "        vertical-align: top;\n",
       "    }\n",
       "\n",
       "    .dataframe thead th {\n",
       "        text-align: right;\n",
       "    }\n",
       "</style>\n",
       "<table border=\"1\" class=\"dataframe\">\n",
       "  <thead>\n",
       "    <tr style=\"text-align: right;\">\n",
       "      <th></th>\n",
       "      <th></th>\n",
       "      <th>mean</th>\n",
       "      <th>std</th>\n",
       "    </tr>\n",
       "  </thead>\n",
       "  <tbody>\n",
       "    <tr>\n",
       "      <th rowspan=\"2\" valign=\"top\">r2_score</th>\n",
       "      <th>train</th>\n",
       "      <td>0.76043</td>\n",
       "      <td>0.004542</td>\n",
       "    </tr>\n",
       "    <tr>\n",
       "      <th>test</th>\n",
       "      <td>0.75699</td>\n",
       "      <td>0.019356</td>\n",
       "    </tr>\n",
       "  </tbody>\n",
       "</table>\n",
       "</div>"
      ],
      "text/plain": [
       "                   mean       std\n",
       "r2_score train  0.76043  0.004542\n",
       "         test   0.75699  0.019356"
      ]
     },
     "execution_count": 67,
     "metadata": {},
     "output_type": "execute_result"
    }
   ],
   "source": [
    "results"
   ]
  },
  {
   "cell_type": "code",
   "execution_count": 68,
   "metadata": {},
   "outputs": [
    {
     "data": {
      "text/plain": [
       "array([1.e-06, 1.e+05, 2.e+05, 3.e+05, 4.e+05, 5.e+05, 6.e+05, 7.e+05,\n",
       "       8.e+05, 9.e+05, 1.e+06])"
      ]
     },
     "execution_count": 68,
     "metadata": {},
     "output_type": "execute_result"
    }
   ],
   "source": [
    "alpha_l = np.linspace(np.power(0.1,6),np.power(10,6),11)\n",
    "alpha_l"
   ]
  },
  {
   "cell_type": "markdown",
   "metadata": {},
   "source": [
    "#### `Sklearn`"
   ]
  },
  {
   "cell_type": "code",
   "execution_count": 69,
   "metadata": {},
   "outputs": [],
   "source": [
    "# reg = LinearRegression().fit(X, y)"
   ]
  },
  {
   "cell_type": "code",
   "execution_count": 70,
   "metadata": {},
   "outputs": [
    {
     "data": {
      "image/png": "[encoded data removed]",
      "text/plain": [
       "<Figure size 792x576 with 1 Axes>"
      ]
     },
     "metadata": {
      "needs_background": "light"
     },
     "output_type": "display_data"
    }
   ],
   "source": [
    "curves.validation_curve(model_type=Ridge,\n",
    "                        X=X,\n",
    "                        y=y,\n",
    "                        param_name='alpha',\n",
    "                        param_range=alpha_l,\n",
    "                        score=r2_score, splits=3,random_state=1)"
   ]
  },
  {
   "cell_type": "markdown",
   "metadata": {
    "scrolled": true
   },
   "source": [
    "`Ours`"
   ]
  },
  {
   "cell_type": "code",
   "execution_count": 71,
   "metadata": {},
   "outputs": [
    {
     "data": {
      "image/png": "[encoded data removed]",
      "text/plain": [
       "<Figure size 792x576 with 1 Axes>"
      ]
     },
     "metadata": {
      "needs_background": "light"
     },
     "output_type": "display_data"
    }
   ],
   "source": [
    "curves.validation_curve(model_type=RidgeRegressor,\n",
    "                        X=X,\n",
    "                        y=y,\n",
    "                        param_name='alpha',\n",
    "                        param_range=alpha_l,\n",
    "                        score=r2_score,\n",
    "                        splits=3,random_state=1)"
   ]
  },
  {
   "cell_type": "markdown",
   "metadata": {},
   "source": [
    "**Notes**\n",
    "- We are using `closed form linear algerba solution`. The result will break down at some degree. Not stable.\n",
    "- We can explore more on the solver(e.g. Maximum likihood, gradiant decent) \n"
   ]
  },
  {
   "cell_type": "markdown",
   "metadata": {},
   "source": [
    "**Next Steps:**\n",
    "- Find some real dataset with sources for debugging \n",
    "- Ticket on indoorplants: we need to expose the rot kwargs in `indoorplants`\n",
    "- Evaluate the performance of Ridge with OLS\n",
    "    - random state to be 0 \n",
    "    - for small dataset, can pass in small splits in learning curve\n"
   ]
  },
  {
   "cell_type": "markdown",
   "metadata": {},
   "source": [
    "## Test 3:  DOB data\n",
    "- We are training on cross-sectional data: take 3 months of violation ecb data (so that other time factors) \n",
    "- take out issue date \n",
    "- then predict the `penalty amount`"
   ]
  },
  {
   "cell_type": "code",
   "execution_count": 7,
   "metadata": {},
   "outputs": [],
   "source": [
    "import sqlite3\n",
    "import sys\n",
    "sys.path.insert(0, '../nyc_dob_violations/pydob/pydob')\n",
    "import settings"
   ]
  },
  {
   "cell_type": "code",
   "execution_count": 8,
   "metadata": {},
   "outputs": [],
   "source": [
    "def get_conn():\n",
    "    return sqlite3.connect(DATABASE,\n",
    "                           detect_types=sqlite3.PARSE_DECLTYPES |\n",
    "                                        sqlite3.PARSE_COLNAMES\n",
    "                        )"
   ]
  },
  {
   "cell_type": "markdown",
   "metadata": {},
   "source": [
    "## 0 Get data"
   ]
  },
  {
   "cell_type": "code",
   "execution_count": 9,
   "metadata": {},
   "outputs": [],
   "source": [
    "DATABASE = settings.DATABASE"
   ]
  },
  {
   "cell_type": "code",
   "execution_count": 10,
   "metadata": {},
   "outputs": [],
   "source": [
    "vio_query = \"select * from violations_ecb where issue_date_year = 2019 and issue_date_month >= 6 and issue_date_month <9\""
   ]
  },
  {
   "cell_type": "code",
   "execution_count": 11,
   "metadata": {},
   "outputs": [],
   "source": [
    "query_sales = \"select * from streeteasy_sales\""
   ]
  },
  {
   "cell_type": "code",
   "execution_count": 12,
   "metadata": {},
   "outputs": [],
   "source": [
    "with get_conn() as conn:\n",
    "    violations_ecb = pd.read_sql(vio_query, conn)\n",
    "#     sales = pd.read_sql(query_sales, conn)"
   ]
  },
  {
   "cell_type": "code",
   "execution_count": 13,
   "metadata": {},
   "outputs": [
    {
     "data": {
      "text/plain": [
       "(24151, 52)"
      ]
     },
     "execution_count": 13,
     "metadata": {},
     "output_type": "execute_result"
    }
   ],
   "source": [
    "violations_ecb.shape"
   ]
  },
  {
   "cell_type": "code",
   "execution_count": 14,
   "metadata": {},
   "outputs": [
    {
     "data": {
      "text/plain": [
       "count                   24151\n",
       "unique                     92\n",
       "top       2019-07-17 00:00:00\n",
       "freq                      520\n",
       "first     2019-06-01 00:00:00\n",
       "last      2019-08-31 00:00:00\n",
       "Name: issue_date, dtype: object"
      ]
     },
     "execution_count": 14,
     "metadata": {},
     "output_type": "execute_result"
    }
   ],
   "source": [
    "violations_ecb.issue_date.describe()"
   ]
  },
  {
   "cell_type": "markdown",
   "metadata": {},
   "source": [
    "### We are trying to predicting `Penalty_imposed` for 3 month of period "
   ]
  },
  {
   "cell_type": "code",
   "execution_count": 15,
   "metadata": {},
   "outputs": [
    {
     "data": {
      "text/plain": [
       "Index(['isn_dob_bis_extract', 'ecb_violation_number', 'ecb_violation_status',\n",
       "       'dob_violation_number', 'bin', 'boro', 'block', 'lot', 'hearing_date',\n",
       "       'hearing_time', 'served_date', 'issue_date', 'severity',\n",
       "       'violation_type', 'respondent_name', 'respondent_house_number',\n",
       "       'respondent_street', 'respondent_city', 'respondent_zip',\n",
       "       'violation_description', 'penality_imposed', 'amount_paid',\n",
       "       'balance_due', 'infraction_code1', 'section_law_description1',\n",
       "       'infraction_code2', 'section_law_description2', 'infraction_code3',\n",
       "       'section_law_description3', 'infraction_code4',\n",
       "       'section_law_description4', 'infraction_code5',\n",
       "       'section_law_description5', 'infraction_code6',\n",
       "       'section_law_description6', 'infraction_code7',\n",
       "       'section_law_description7', 'infraction_code8',\n",
       "       'section_law_description8', 'infraction_code9',\n",
       "       'section_law_description9', 'infraction_code10',\n",
       "       'section_law_description10', 'aggravated_level', 'hearing_status',\n",
       "       'certification_status', 'issue_date_year', 'issue_date_quarter',\n",
       "       'issue_date_month', 'hearing_date_year', 'hearing_date_quarter',\n",
       "       'hearing_date_month'],\n",
       "      dtype='object')"
      ]
     },
     "execution_count": 15,
     "metadata": {},
     "output_type": "execute_result"
    }
   ],
   "source": [
    "violations_ecb.columns"
   ]
  },
  {
   "cell_type": "code",
   "execution_count": 16,
   "metadata": {},
   "outputs": [
    {
     "data": {
      "text/plain": [
       "array(['NO', 'AGGRAVATED OFFENSE LEVEL 1', 'AGGRAVATED OFFENSE LEVEL 2',\n",
       "       None], dtype=object)"
      ]
     },
     "execution_count": 16,
     "metadata": {},
     "output_type": "execute_result"
    }
   ],
   "source": [
    "violations_ecb.aggravated_level.unique()"
   ]
  },
  {
   "cell_type": "code",
   "execution_count": 17,
   "metadata": {},
   "outputs": [
    {
     "data": {
      "text/plain": [
       "array(['N/A - DISMISSED', None, 'CERTIFICATE ACCEPTED',\n",
       "       'NO COMPLIANCE RECORDED', 'CURE ACCEPTED', 'COMPLIANCE-INSP/DOC'],\n",
       "      dtype=object)"
      ]
     },
     "execution_count": 17,
     "metadata": {},
     "output_type": "execute_result"
    }
   ],
   "source": [
    "violations_ecb.certification_status.unique()"
   ]
  },
  {
   "cell_type": "code",
   "execution_count": 18,
   "metadata": {},
   "outputs": [],
   "source": [
    "df_sub = violations_ecb.loc[:,\n",
    "    [\"boro\",\n",
    "     \"aggravated_level\",\n",
    "     \"certification_status\",\n",
    "     \"hearing_status\",\n",
    "     \"penality_imposed\",\n",
    "     \"violation_type\",\"amount_paid\"]]"
   ]
  },
  {
   "cell_type": "code",
   "execution_count": 19,
   "metadata": {},
   "outputs": [],
   "source": [
    "df_sub.boro = df_sub.boro.astype(\"str\")"
   ]
  },
  {
   "cell_type": "code",
   "execution_count": 20,
   "metadata": {},
   "outputs": [],
   "source": [
    "cat_cols = [\"boro\",\"aggravated_level\",\"certification_status\",\"hearing_status\",\"violation_type\"]"
   ]
  },
  {
   "cell_type": "code",
   "execution_count": 21,
   "metadata": {},
   "outputs": [],
   "source": [
    "for i in cat_cols:\n",
    "    df_sub.loc[:,i] = df_sub[i].str.lower().str.replace(\" \",\"_\").str.replace(\"-\",\"_\").str.replace(\"/\",\"_\").str.replace(\"__\",\"\")"
   ]
  },
  {
   "cell_type": "code",
   "execution_count": 22,
   "metadata": {},
   "outputs": [
    {
     "data": {
      "text/plain": [
       "certificate_accepted      8382\n",
       "no_compliance_recorded    6022\n",
       "n_a_dismissed             4211\n",
       "cure_accepted             2056\n",
       "compliance_insp_doc         17\n",
       "Name: certification_status, dtype: int64"
      ]
     },
     "execution_count": 22,
     "metadata": {},
     "output_type": "execute_result"
    }
   ],
   "source": [
    "df_sub.certification_status.value_counts()"
   ]
  },
  {
   "cell_type": "code",
   "execution_count": 23,
   "metadata": {},
   "outputs": [
    {
     "data": {
      "text/plain": [
       "array(['construction', 'unknown', 'elevators', 'quality_of_life',\n",
       "       'site_safety', 'boilers', 'plumbing', 'zoning',\n",
       "       'cranes_and_derricks', 'signs'], dtype=object)"
      ]
     },
     "execution_count": 23,
     "metadata": {},
     "output_type": "execute_result"
    }
   ],
   "source": [
    "df_sub.violation_type.unique()"
   ]
  },
  {
   "cell_type": "code",
   "execution_count": 24,
   "metadata": {},
   "outputs": [
    {
     "data": {
      "text/plain": [
       "array(['no', 'aggravated_offense_level_1', 'aggravated_offense_level_2',\n",
       "       None], dtype=object)"
      ]
     },
     "execution_count": 24,
     "metadata": {},
     "output_type": "execute_result"
    }
   ],
   "source": [
    "df_sub.aggravated_level.unique()"
   ]
  },
  {
   "cell_type": "code",
   "execution_count": 25,
   "metadata": {},
   "outputs": [
    {
     "data": {
      "text/plain": [
       "array(['dismissed', 'pending', 'default', 'in_violation', 'pop_in_vio',\n",
       "       None, 'cured_in_vio', 'admit_in_vio', 'stipulation_in_vio'],\n",
       "      dtype=object)"
      ]
     },
     "execution_count": 25,
     "metadata": {},
     "output_type": "execute_result"
    }
   ],
   "source": [
    "df_sub.hearing_status.unique()"
   ]
  },
  {
   "cell_type": "code",
   "execution_count": 29,
   "metadata": {},
   "outputs": [],
   "source": [
    "violations_for_modeling = get_modeling_df(cat_cols, df_sub)"
   ]
  },
  {
   "cell_type": "code",
   "execution_count": 31,
   "metadata": {},
   "outputs": [
    {
     "data": {
      "text/plain": [
       "penality_imposed                                  float64\n",
       "amount_paid                                       float64\n",
       "is_boro_2                                           uint8\n",
       "is_boro_3                                           uint8\n",
       "is_boro_4                                           uint8\n",
       "is_boro_5                                           uint8\n",
       "is_aggravated_level_aggravated_offense_level_2      uint8\n",
       "is_aggravated_level_no                              uint8\n",
       "is_certification_status_compliance_insp_doc         uint8\n",
       "is_certification_status_cure_accepted               uint8\n",
       "is_certification_status_n_a_dismissed               uint8\n",
       "is_certification_status_no_compliance_recorded      uint8\n",
       "is_hearing_status_cured_in_vio                      uint8\n",
       "is_hearing_status_default                           uint8\n",
       "is_hearing_status_dismissed                         uint8\n",
       "is_hearing_status_in_violation                      uint8\n",
       "is_hearing_status_pending                           uint8\n",
       "is_hearing_status_pop_in_vio                        uint8\n",
       "is_hearing_status_stipulation_in_vio                uint8\n",
       "is_violation_type_construction                      uint8\n",
       "is_violation_type_cranes_and_derricks               uint8\n",
       "is_violation_type_elevators                         uint8\n",
       "is_violation_type_plumbing                          uint8\n",
       "is_violation_type_quality_of_life                   uint8\n",
       "is_violation_type_signs                             uint8\n",
       "is_violation_type_site_safety                       uint8\n",
       "is_violation_type_unknown                           uint8\n",
       "is_violation_type_zoning                            uint8\n",
       "dtype: object"
      ]
     },
     "execution_count": 31,
     "metadata": {},
     "output_type": "execute_result"
    }
   ],
   "source": [
    "violations_for_modeling.dtypes"
   ]
  },
  {
   "cell_type": "code",
   "execution_count": 32,
   "metadata": {},
   "outputs": [],
   "source": [
    "corr = violations_for_modeling.corr()"
   ]
  },
  {
   "cell_type": "markdown",
   "metadata": {},
   "source": [
    "## 1 EDA"
   ]
  },
  {
   "cell_type": "markdown",
   "metadata": {},
   "source": [
    "### y: `penality_imposed`"
   ]
  },
  {
   "cell_type": "code",
   "execution_count": 33,
   "metadata": {
    "scrolled": false
   },
   "outputs": [
    {
     "data": {
      "text/plain": [
       "<matplotlib.axes._subplots.AxesSubplot at 0x12f9e8860>"
      ]
     },
     "execution_count": 33,
     "metadata": {},
     "output_type": "execute_result"
    },
    {
     "data": {
      "image/png": "[encoded data removed]",
      "text/plain": [
       "<Figure size 792x576 with 1 Axes>"
      ]
     },
     "metadata": {
      "needs_background": "light"
     },
     "output_type": "display_data"
    }
   ],
   "source": [
    "exploratory.center_scale_plot(violations_for_modeling.penality_imposed,np.mean, np.std, bins=73)"
   ]
  },
  {
   "cell_type": "code",
   "execution_count": 34,
   "metadata": {},
   "outputs": [],
   "source": [
    "log_penalty = np.log(violations_for_modeling.loc[violations_for_modeling.penality_imposed > 0, \"penality_imposed\"])"
   ]
  },
  {
   "cell_type": "code",
   "execution_count": 35,
   "metadata": {},
   "outputs": [
    {
     "data": {
      "text/plain": [
       "<matplotlib.axes._subplots.AxesSubplot at 0x12c993e10>"
      ]
     },
     "execution_count": 35,
     "metadata": {},
     "output_type": "execute_result"
    },
    {
     "data": {
      "image/png": "[encoded data removed]",
      "text/plain": [
       "<Figure size 792x576 with 1 Axes>"
      ]
     },
     "metadata": {
      "needs_background": "light"
     },
     "output_type": "display_data"
    }
   ],
   "source": [
    "exploratory.center_scale_plot(log_penalty ,np.mean, np.std, bins=73)"
   ]
  },
  {
   "cell_type": "code",
   "execution_count": 36,
   "metadata": {},
   "outputs": [],
   "source": [
    "X = violations_for_modeling[[i for i in violations_for_modeling.columns if 'penality_imposed' not in i]]"
   ]
  },
  {
   "cell_type": "code",
   "execution_count": 37,
   "metadata": {},
   "outputs": [],
   "source": [
    "y = violations_for_modeling.penality_imposed"
   ]
  },
  {
   "cell_type": "markdown",
   "metadata": {},
   "source": [
    "### Linear Regression"
   ]
  },
  {
   "cell_type": "code",
   "execution_count": 38,
   "metadata": {},
   "outputs": [],
   "source": [
    "X_train, X_test, y_train, y_test = train_test_split(X, y, test_size=0.2, random_state=1)"
   ]
  },
  {
   "cell_type": "code",
   "execution_count": 39,
   "metadata": {},
   "outputs": [],
   "source": [
    "ours_ols = LinearRegressor()\n",
    "ours_ols.fit(X_train,y_train)"
   ]
  },
  {
   "cell_type": "code",
   "execution_count": 40,
   "metadata": {},
   "outputs": [],
   "source": [
    "y_hat = ours_ols.predict(y_test)"
   ]
  },
  {
   "cell_type": "code",
   "execution_count": 41,
   "metadata": {},
   "outputs": [
    {
     "data": {
      "text/plain": [
       "0.7108210247019092"
      ]
     },
     "execution_count": 41,
     "metadata": {},
     "output_type": "execute_result"
    }
   ],
   "source": [
    "ours_ols.r_sqrd()"
   ]
  },
  {
   "cell_type": "markdown",
   "metadata": {},
   "source": [
    "### Ridge Regression"
   ]
  },
  {
   "cell_type": "code",
   "execution_count": 44,
   "metadata": {},
   "outputs": [
    {
     "data": {
      "image/png": "[encoded data removed]",
      "text/plain": [
       "<Figure size 792x576 with 1 Axes>"
      ]
     },
     "metadata": {
      "needs_background": "light"
     },
     "output_type": "display_data"
    }
   ],
   "source": [
    "alpha_l = np.linspace(np.power(0.1,3),np.power(10,4),11).round(3)\n",
    "curves.validation_curve(model_type=RidgeRegressor,\n",
    "                        X=X,\n",
    "                        y=y,\n",
    "                        param_name='alpha',\n",
    "                        param_range=alpha_l,\n",
    "                        score=r2_score,\n",
    "                        splits=3,random_state=1)"
   ]
  },
  {
   "cell_type": "code",
   "execution_count": 46,
   "metadata": {},
   "outputs": [
    {
     "data": {
      "image/png": "[encoded data removed]",
      "text/plain": [
       "<Figure size 792x576 with 1 Axes>"
      ]
     },
     "metadata": {
      "needs_background": "light"
     },
     "output_type": "display_data"
    }
   ],
   "source": [
    "alpha_l = np.linspace(np.power(0.1,3),np.power(10,4),11).round(3)\n",
    "curves.validation_curve(model_type=Ridge,\n",
    "                        X=X,\n",
    "                        y=y,\n",
    "                        param_name='alpha',\n",
    "                        param_range=alpha_l,\n",
    "                        score=r2_score,\n",
    "                        splits=3,random_state=1)"
   ]
  },
  {
   "cell_type": "code",
   "execution_count": null,
   "metadata": {},
   "outputs": [],
   "source": []
  },
  {
   "cell_type": "code",
   "execution_count": null,
   "metadata": {},
   "outputs": [],
   "source": []
  }
 ],
 "metadata": {
  "kernelspec": {
   "display_name": "Python 3",
   "language": "python",
   "name": "python3"
  },
  "language_info": {
   "codemirror_mode": {
    "name": "ipython",
    "version": 3
   },
   "file_extension": ".py",
   "mimetype": "text/x-python",
   "name": "python",
   "nbconvert_exporter": "python",
   "pygments_lexer": "ipython3",
   "version": "3.7.3"
  }
 },
 "nbformat": 4,
 "nbformat_minor": 2
}
