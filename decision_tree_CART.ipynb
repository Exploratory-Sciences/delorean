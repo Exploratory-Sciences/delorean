{
 "cells": [
  {
   "cell_type": "markdown",
   "metadata": {},
   "source": [
    "# Decicion tree learning: a look at _CART_\n",
    "- (in the context of supervised, classification problems)"
   ]
  },
  {
   "cell_type": "markdown",
   "metadata": {},
   "source": [
    "## A light backgroung on some machine learning terminology\n",
    "\n",
    "_Supervised learning_\n",
    "- The process of building a model that you can train using data for which the \"answer\" is already known\n",
    "\n",
    "_Classification_\n",
    "- Prediction of a class / label  - `yes, has cancer` or `no, does not have cancer` - and / or probability of data taking said label\n",
    "- As opposed to the prediction of a numerical value - e.g. the price of a company’s stock in dollars (a regression problem)\n",
    "\n",
    "_Model Selection_\n",
    "- There are many different models one can use for predicting labels\n",
    "- Which one you choose depends on many factors, including:\n",
    "    - What are you trying to predict?\n",
    "    - What kind of relationship (e.g. decision boundary) does it have to the variables you’re going to use to predict it? \n",
    "    - How much training data do you have?\n",
    "    - How many features do you have and how many must you use?\n",
    "    - Who are the end users?\n",
    "    - Are there computational or implementation constraints?\n",
    "- In general, you choose between bias and variance: whether you’re wrong or inconsistent, respectively\n",
    "\n",
    "\n"
   ]
  },
  {
   "cell_type": "markdown",
   "metadata": {},
   "source": [
    "## What is decision tree learning?\n",
    "\n",
    "_High level_\n",
    "- Build a binary tree of rules through which a data point can be propagated so as to arrive at a prediction\n",
    "- Each terminal node of the binary tree corresponds to a class label / probability\n",
    "- Put differently, the goal is to partition the data into sets that correspond to the correct class label\n",
    "\n",
    "_Advantages of decision tree models_\n",
    "- You are freed from the shackles of linear relationship\n",
    "- This allows for easy handling of both missing data in continuous variables - using extreme values outside of the range of the data - as well as outliers\n",
    "- Decision trees can fit complex decision boundaries while still providing interpretability and reasonable computational costs\n",
    "- Decision trees also produce well-calibrated classifiers\n",
    "- I.e. you can consider the \"scores\" underlying the predicted labels for use as probability estimates\n",
    "\n",
    "_Disadvantages_\n",
    "- Overfitting - decision trees can couple themselves so tightly to the data that they're trained on that they lose the ability to generalize\n",
    "- This can be dealt with through pruning (limiting the depth of the tree)\n",
    "- Or through setting up an ensemble of different trees, as a _random forest_ would"
   ]
  },
  {
   "cell_type": "markdown",
   "metadata": {},
   "source": [
    "## CART\n",
    "\n",
    "_Background_\n",
    "- Initialized as _CART_, Classification and Regression Trees is an algorithm for learning a decision tree off of training data\n",
    "- This was developed by Leo Breiman and others\n",
    "- This is a widely-accepted model for decision tree learning, currently implemented in, among other places, `scikit-learn` [docs](http://scikit-learn.org/stable/modules/generated/sklearn.tree.DecisionTreeClassifier.html#sklearn.tree.DecisionTreeClassifier))\n",
    "- For more detail, see _Classification and Regression Trees_ by Breiman, et al., from which the material here is sourced\n",
    "\n",
    "_An attempt at a colloquial explanation of how CART works_\n",
    "- At the top of the tree, you have a naive model: assign class probabilities simply by looking at the distribution of the classes in the data\n",
    "- Your goal is to build a tree through iteratively selecting split points that lead to nodes that more clearly identify a particular class\n",
    "- This should result in a number of terminal nodes that strongly point to membership in a particular class\n",
    "\n",
    "_Put mildly more formally_\n",
    "- Goal is to minimize impurity - i.e. we want nodes to become more pure to a certain class\n",
    "- A node displays maximimum impurity if all class probabilities are even; minimum if 100% to a certain class\n",
    "- The procedure I'm describing here is for a particular impurity function, or score used to for measuring split effectiveness\n",
    "- And that's a measure called _Gini impurity_; there are other measures that can be used\n",
    "\n",
    "_Build procedure_\n",
    "- At each node, iterate through available features and each feature’s values, considering these as the possible options for splitting\n",
    "- The split that provides the greatest reduction in impurity is selected\n",
    "- This is a greedy algorithm: it works by selecting the locally optimal split at each iteration\n",
    "- I.e. this does not evaluate all potential permutations of splits in the hopes of finding the globally optimal set of splits\n",
    "\n",
    "_Pruning_\n",
    "- Overfitting can be reduced / prevented by limiting the depth of the tree\n",
    "- Originall this was done through running ex-post calculations on the tree to determine the optimal depth to leave it out\n",
    "- `sklearn` implements a priori pruning; i.e. limit how far down the tree can go beforehand\n",
    "- This can be done through saying either a certain minimum number of data points must lie at every node, or the tree can only grow to a certain depth\n",
    "\n",
    "_Class weight_\n",
    "- Unless class probabilities are evenly distributed, you will generally want the tree to scale each class's contribution to the impurity calculations by the inverse of their proportion in the data\n",
    "- You can also pass different weights, if you want to emphasize a certain class, account for artificial resamplings \n",
    "- I.e. for dealing with severe class imbalances"
   ]
  },
  {
   "cell_type": "markdown",
   "metadata": {},
   "source": [
    "## A walk-through on real data\n",
    "- 1994 U.S. Census data - description found [here](https://archive.ics.uci.edu/ml/datasets/Adult)"
   ]
  },
  {
   "cell_type": "code",
   "execution_count": 79,
   "metadata": {},
   "outputs": [],
   "source": [
    "import requests\n",
    "import numpy as np\n",
    "import pandas as pd\n",
    "from sklearn.tree import DecisionTreeClassifier\n",
    "from sklearn.metrics import accuracy_score\n",
    "\n",
    "from indoorplants.validation.curves import validation_curve"
   ]
  },
  {
   "cell_type": "code",
   "execution_count": 2,
   "metadata": {},
   "outputs": [],
   "source": [
    "%matplotlib inline"
   ]
  },
  {
   "cell_type": "markdown",
   "metadata": {},
   "source": [
    "### Get data"
   ]
  },
  {
   "cell_type": "code",
   "execution_count": 3,
   "metadata": {},
   "outputs": [],
   "source": [
    "def get_census_data():\n",
    "    cols = ['age', 'workclass', 'fnlwgt', 'education', \n",
    "            'education_num', 'marital_status', 'occupation',\n",
    "            'relationship', 'race', 'sex', 'capital_gain',\n",
    "            'capital_loss', 'hours_per_week', 'native_country', \n",
    "            'over_fifty_k']\n",
    "    \n",
    "    url = 'https://archive.ics.uci.edu/ml/machine-learning-databases/adult/adult.data'\n",
    "    \n",
    "    with requests.get(url, stream=True) as r:\n",
    "        results = [l.decode().split(',') for l in r.iter_lines()]\n",
    "    \n",
    "    return pd.DataFrame(results, columns=cols)"
   ]
  },
  {
   "cell_type": "markdown",
   "metadata": {},
   "source": [
    "### Quick look"
   ]
  },
  {
   "cell_type": "code",
   "execution_count": 6,
   "metadata": {},
   "outputs": [],
   "source": [
    "df = get_census_data()"
   ]
  },
  {
   "cell_type": "code",
   "execution_count": 9,
   "metadata": {},
   "outputs": [
    {
     "data": {
      "text/plain": [
       "age               0\n",
       "workclass         1\n",
       "fnlwgt            1\n",
       "education         1\n",
       "education_num     1\n",
       "marital_status    1\n",
       "occupation        1\n",
       "relationship      1\n",
       "race              1\n",
       "sex               1\n",
       "capital_gain      1\n",
       "capital_loss      1\n",
       "hours_per_week    1\n",
       "native_country    1\n",
       "over_fifty_k      1\n",
       "dtype: int64"
      ]
     },
     "execution_count": 9,
     "metadata": {},
     "output_type": "execute_result"
    }
   ],
   "source": [
    "df.isnull().sum()"
   ]
  },
  {
   "cell_type": "code",
   "execution_count": 10,
   "metadata": {},
   "outputs": [],
   "source": [
    "df = df[df.notnull()].copy()"
   ]
  },
  {
   "cell_type": "code",
   "execution_count": 8,
   "metadata": {},
   "outputs": [
    {
     "data": {
      "text/plain": [
       "age                  74\n",
       "workclass             9\n",
       "fnlwgt            21648\n",
       "education            16\n",
       "education_num        16\n",
       "marital_status        7\n",
       "occupation           15\n",
       "relationship          6\n",
       "race                  5\n",
       "sex                   2\n",
       "capital_gain        119\n",
       "capital_loss         92\n",
       "hours_per_week       94\n",
       "native_country       42\n",
       "over_fifty_k          2\n",
       "dtype: int64"
      ]
     },
     "execution_count": 8,
     "metadata": {},
     "output_type": "execute_result"
    }
   ],
   "source": [
    "df.nunique()"
   ]
  },
  {
   "cell_type": "code",
   "execution_count": 24,
   "metadata": {},
   "outputs": [
    {
     "data": {
      "text/plain": [
       " <=50K    0.75919\n",
       " >50K     0.24081\n",
       "Name: over_fifty_k, dtype: float64"
      ]
     },
     "execution_count": 24,
     "metadata": {},
     "output_type": "execute_result"
    }
   ],
   "source": [
    "df.over_fifty_k.value_counts(normalize=True)"
   ]
  },
  {
   "cell_type": "markdown",
   "metadata": {},
   "source": [
    "### Data prep"
   ]
  },
  {
   "cell_type": "code",
   "execution_count": 49,
   "metadata": {},
   "outputs": [
    {
     "data": {
      "text/plain": [
       "1"
      ]
     },
     "execution_count": 49,
     "metadata": {},
     "output_type": "execute_result"
    }
   ],
   "source": [
    "(df.age == \"\").sum()"
   ]
  },
  {
   "cell_type": "code",
   "execution_count": 50,
   "metadata": {},
   "outputs": [],
   "source": [
    "df = df[df.age != \"\"].copy()"
   ]
  },
  {
   "cell_type": "code",
   "execution_count": 51,
   "metadata": {},
   "outputs": [],
   "source": [
    "int_cols = [\"age\", \"hours_per_week\"]"
   ]
  },
  {
   "cell_type": "code",
   "execution_count": 52,
   "metadata": {
    "scrolled": true
   },
   "outputs": [],
   "source": [
    "df[int_cols] = df[int_cols].astype(int)"
   ]
  },
  {
   "cell_type": "code",
   "execution_count": 53,
   "metadata": {},
   "outputs": [],
   "source": [
    "flt_cols = [\"capital_gain\", \"capital_loss\", \"fnlwgt\"]"
   ]
  },
  {
   "cell_type": "code",
   "execution_count": 54,
   "metadata": {
    "scrolled": true
   },
   "outputs": [],
   "source": [
    "df[flt_cols] = df[flt_cols].astype(float)"
   ]
  },
  {
   "cell_type": "code",
   "execution_count": 63,
   "metadata": {},
   "outputs": [],
   "source": [
    "obj_cols = list(filter(lambda x: x not in (\"education_num\", \"over_fifty_k\"),\n",
    "                       df.select_dtypes(include=object).columns))"
   ]
  },
  {
   "cell_type": "code",
   "execution_count": 64,
   "metadata": {},
   "outputs": [],
   "source": [
    "one_hot = pd.get_dummies(df[obj_cols])"
   ]
  },
  {
   "cell_type": "code",
   "execution_count": 65,
   "metadata": {},
   "outputs": [],
   "source": [
    "X = df[int_cols + flt_cols].join(one_hot)"
   ]
  },
  {
   "cell_type": "code",
   "execution_count": 66,
   "metadata": {},
   "outputs": [],
   "source": [
    "y = df.over_fifty_k.map(lambda _: 1 if _ == ' >50K'else 0)"
   ]
  },
  {
   "cell_type": "markdown",
   "metadata": {},
   "source": [
    "### Cross-validate a decision tree over `max_depth`"
   ]
  },
  {
   "cell_type": "code",
   "execution_count": 69,
   "metadata": {},
   "outputs": [
    {
     "data": {
      "image/png": "[encoded data removed]",
      "text/plain": [
       "<Figure size 792x576 with 1 Axes>"
      ]
     },
     "metadata": {},
     "output_type": "display_data"
    }
   ],
   "source": [
    "validation_curve(model_type=DecisionTreeClassifier,\n",
    "                 X=X,\n",
    "                 y=y,\n",
    "                 param_name='max_depth',\n",
    "                 param_range=list(range(2, 24, 2)),\n",
    "                 other_params={\"class_weight\": \"balanced\"},\n",
    "                 score=accuracy_score)"
   ]
  },
  {
   "cell_type": "markdown",
   "metadata": {},
   "source": [
    "We can see that, as we let the tree go deeper, train and validation performance deviate severely - this is a classic example of _overfitting_."
   ]
  },
  {
   "cell_type": "markdown",
   "metadata": {},
   "source": [
    "### Feature importances\n",
    "\n",
    "A useful analysis technique is to look at how much a given feature is contributing to the partitioning of the data. This is achieved through summing the impurity contributions at each split, by feature."
   ]
  },
  {
   "cell_type": "code",
   "execution_count": 70,
   "metadata": {},
   "outputs": [],
   "source": [
    "dt = DecisionTreeClassifier()"
   ]
  },
  {
   "cell_type": "code",
   "execution_count": 71,
   "metadata": {},
   "outputs": [],
   "source": [
    "dt = dt.fit(X, y)"
   ]
  },
  {
   "cell_type": "code",
   "execution_count": 77,
   "metadata": {},
   "outputs": [],
   "source": [
    "fi = pd.DataFrame(dt.feature_importances_, index=X.columns, columns=[\"gini_importance\"])"
   ]
  },
  {
   "cell_type": "code",
   "execution_count": 78,
   "metadata": {},
   "outputs": [
    {
     "data": {
      "text/html": [
       "<div>\n",
       "<style scoped>\n",
       "    .dataframe tbody tr th:only-of-type {\n",
       "        vertical-align: middle;\n",
       "    }\n",
       "\n",
       "    .dataframe tbody tr th {\n",
       "        vertical-align: top;\n",
       "    }\n",
       "\n",
       "    .dataframe thead th {\n",
       "        text-align: right;\n",
       "    }\n",
       "</style>\n",
       "<table border=\"1\" class=\"dataframe\">\n",
       "  <thead>\n",
       "    <tr style=\"text-align: right;\">\n",
       "      <th></th>\n",
       "      <th>gini_importance</th>\n",
       "    </tr>\n",
       "  </thead>\n",
       "  <tbody>\n",
       "    <tr>\n",
       "      <th>marital_status_ Married-civ-spouse</th>\n",
       "      <td>0.197771</td>\n",
       "    </tr>\n",
       "    <tr>\n",
       "      <th>fnlwgt</th>\n",
       "      <td>0.187632</td>\n",
       "    </tr>\n",
       "    <tr>\n",
       "      <th>capital_gain</th>\n",
       "      <td>0.120635</td>\n",
       "    </tr>\n",
       "    <tr>\n",
       "      <th>age</th>\n",
       "      <td>0.117665</td>\n",
       "    </tr>\n",
       "    <tr>\n",
       "      <th>hours_per_week</th>\n",
       "      <td>0.063942</td>\n",
       "    </tr>\n",
       "    <tr>\n",
       "      <th>capital_loss</th>\n",
       "      <td>0.052959</td>\n",
       "    </tr>\n",
       "    <tr>\n",
       "      <th>education_ Bachelors</th>\n",
       "      <td>0.024095</td>\n",
       "    </tr>\n",
       "    <tr>\n",
       "      <th>occupation_ Prof-specialty</th>\n",
       "      <td>0.022789</td>\n",
       "    </tr>\n",
       "    <tr>\n",
       "      <th>occupation_ Exec-managerial</th>\n",
       "      <td>0.019408</td>\n",
       "    </tr>\n",
       "    <tr>\n",
       "      <th>workclass_ Private</th>\n",
       "      <td>0.010547</td>\n",
       "    </tr>\n",
       "  </tbody>\n",
       "</table>\n",
       "</div>"
      ],
      "text/plain": [
       "                                    gini_importance\n",
       "marital_status_ Married-civ-spouse         0.197771\n",
       "fnlwgt                                     0.187632\n",
       "capital_gain                               0.120635\n",
       "age                                        0.117665\n",
       "hours_per_week                             0.063942\n",
       "capital_loss                               0.052959\n",
       "education_ Bachelors                       0.024095\n",
       "occupation_ Prof-specialty                 0.022789\n",
       "occupation_ Exec-managerial                0.019408\n",
       "workclass_ Private                         0.010547"
      ]
     },
     "execution_count": 78,
     "metadata": {},
     "output_type": "execute_result"
    }
   ],
   "source": [
    "fi.sort_values(\"gini_importance\", ascending=False).head(10)"
   ]
  }
 ],
 "metadata": {
  "kernelspec": {
   "display_name": "Python 3",
   "language": "python",
   "name": "python3"
  },
  "language_info": {
   "codemirror_mode": {
    "name": "ipython",
    "version": 3
   },
   "file_extension": ".py",
   "mimetype": "text/x-python",
   "name": "python",
   "nbconvert_exporter": "python",
   "pygments_lexer": "ipython3",
   "version": "3.6.5"
  }
 },
 "nbformat": 4,
 "nbformat_minor": 2
}
