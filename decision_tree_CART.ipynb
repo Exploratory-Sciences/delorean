{
 "cells": [
  {
   "cell_type": "markdown",
   "metadata": {},
   "source": [
    "# Notes\n",
    "\n",
    "(Classification)\n",
    "\n",
    "This is fairly colloquial, though I've also tried to be at least fairly accurate.\n",
    "\n",
    "### Key components\n",
    "\n",
    "\n",
    "want to partition data into sets that correspond to the correct class label\n",
    "- more detail?\n",
    "\n",
    "we can use a tree-based method for this because:\n",
    "- more detail?\n",
    "\n",
    "how will the tree work?\n",
    "- more detail?\n",
    "\n",
    "### High-level layout\n",
    "\n",
    "to construct a tree we will have to:\n",
    "1. select the splits\n",
    "2. decide when a node is terminal or whether it should be split further\n",
    "3. assign each terminal node to a class\n",
    "\n",
    "### Questions\n",
    "\n",
    "1. each split is based on the value of _one_ variable\n",
    "2. the set of questions includes all questions of the form, $ x <= c$ for all ordered $x \\in X$\n",
    "3. for categorical variables, ditto for \\#2 except subsets instead of $<=$\n",
    "\n",
    "### Splits in more detail\n",
    "\n",
    "iterate through available features\n",
    "\n",
    "for each feature:\n",
    "- generate split points to check\n",
    "- calculate _best_ using an impurity function\n",
    "\n",
    "then get _best_ split across all features using impurity function\n",
    "\n",
    "### Impurity functions\n",
    "\n",
    "a function $\\phi$ that is defined on the set of tuples that represent, for every data point, the probability that it's a member of a given class, such each probabilty is $>= 0$, and that each tuple sums to 1. \n",
    "\n",
    "$\\phi$ should have a maximum only at the point that represents the prior class probabilities, and a minumum only at the point where the predicted probability for a given class is 1 (with others at 0). $\\phi$ should also be a symmetric function of the probability tuple.\n",
    "\n",
    "Given an impurity function $\\phi$, the impurity measure $i(t)$ for any node is calculated on the tuple of probabilities that represent the conditional probability of a given class, for this particular node.\n",
    "\n",
    "the change in impurity for a given split $\\mathcal{s}$ can be defined as:\n",
    "\n",
    "$$\\triangle i(\\mathcal{s}, t) = i(t) - p_{R} \\ast i(t_{R}) - p_{L} \\ast i(t_{L})$$\n",
    "\n",
    "This is how we measure the goodness of splt $\\phi$."
   ]
  },
  {
   "cell_type": "code",
   "execution_count": null,
   "metadata": {},
   "outputs": [],
   "source": []
  }
 ],
 "metadata": {
  "kernelspec": {
   "display_name": "Python 3",
   "language": "python",
   "name": "python3"
  },
  "language_info": {
   "codemirror_mode": {
    "name": "ipython",
    "version": 3
   },
   "file_extension": ".py",
   "mimetype": "text/x-python",
   "name": "python",
   "nbconvert_exporter": "python",
   "pygments_lexer": "ipython3",
   "version": "3.6.5"
  }
 },
 "nbformat": 4,
 "nbformat_minor": 2
}
