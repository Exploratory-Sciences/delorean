{
 "cells": [
  {
   "cell_type": "code",
   "execution_count": 1,
   "metadata": {
    "collapsed": true
   },
   "outputs": [],
   "source": [
    "import numpy as np\n",
    "import pandas as pd\n",
    "import matplotlib.pyplot as plt"
   ]
  },
  {
   "cell_type": "code",
   "execution_count": 2,
   "metadata": {
    "collapsed": true
   },
   "outputs": [],
   "source": [
    "%matplotlib inline"
   ]
  },
  {
   "cell_type": "markdown",
   "metadata": {},
   "source": [
    "# `Linear Regression`"
   ]
  },
  {
   "cell_type": "markdown",
   "metadata": {},
   "source": [
    "### ------------------------------------------------------------------------------------------------"
   ]
  },
  {
   "cell_type": "markdown",
   "metadata": {},
   "source": [
    "# Overview \n",
    "\n",
    " **Goal**: predict the behavior of a continuous _endogenous_ variable given its corresponding _exogenous_ variables.\n",
    " \n",
    " **Model**: $y = X{\\beta} + {\\epsilon}$\n",
    "\n",
    "**Terms**:\n",
    "- $y$: vector of endogenous values\n",
    "- $X$: matrix of exogenous values\n",
    "- $\\beta$: vector of coefficients for exogenous variables\n",
    "- $\\epsilon$: a representation of the random errors or fluctuations around the predicted line or plane\n",
    "\n",
    "**Functionality**:\n",
    "- $y$ is the result of taking the matrix product of $\\beta$ and $X$\n",
    "- i.e. each row in $y$ is the sum of the products, for that row, of each value of $X$ with its corresponding $\\beta$\n",
    "\n",
    "**Basic example**:\n",
    "- *endogenous*: price of an apartment\n",
    "- *exogenous*: square footage (1), number of rooms (2)\n",
    "- $y = \\beta_{0} + \\beta_{1} * X_{1} + \\beta_{2} * X_{2} + \\epsilon$\n",
    "- i.e. $constant + coefficient_{1} * area + coefficient_{2} * rooms$"
   ]
  },
  {
   "cell_type": "markdown",
   "metadata": {},
   "source": [
    "### ------------------------------------------------------------------------------------------------"
   ]
  },
  {
   "cell_type": "markdown",
   "metadata": {},
   "source": [
    "# In Focus: Linear Algebra (Matrix Products)"
   ]
  },
  {
   "cell_type": "markdown",
   "metadata": {},
   "source": [
    "**Two matrices**:\n",
    "- $matrix_{1}$ ($m$ x $n$) x $matrix_{2}$ ($n$ x $p$) yields a matrix with dimensions $m$ x $p$\n",
    "- each entry $x_{i, j}$ in the resulting matrix $X$ is the result of the dot product of $row_{i}$ in matrix 1 and $column_{j}$ in matrix 2\n",
    "\n",
    "$$X_{1} = \\left(\\begin{array}\n",
    "{rrr}\n",
    "1 & 2 \\\\\n",
    "4 & 5 \n",
    "\\end{array}\\right), \\space\\space X_{2} = \\left(\\begin{array}\n",
    "{rrr}\n",
    "5 & 6 \\\\\n",
    "7 & 8 \n",
    "\\end{array}\\right)\n",
    "$$\n",
    "\n",
    "$$X_{1} \\cdot X_{2} =\n",
    "\\left(\\begin{array}\n",
    "{rrr}\n",
    "{1 * 5 + 2 * 7} & {1 * 6 + 2 * 8} \\\\\n",
    "{4 * 5 + 5 * 7} & {4 * 6 + 5 * 8}\n",
    "\\end{array}\\right) =\n",
    "\\left(\\begin{array}\n",
    "{rrr}\n",
    "19 & 22 \\\\\n",
    "55 & 64\n",
    "\\end{array}\\right)$$"
   ]
  },
  {
   "cell_type": "code",
   "execution_count": 3,
   "metadata": {},
   "outputs": [],
   "source": [
    "x1 = np.matrix([[1, 2], [4, 5]])"
   ]
  },
  {
   "cell_type": "code",
   "execution_count": 4,
   "metadata": {},
   "outputs": [
    {
     "data": {
      "text/plain": [
       "(2, 2)"
      ]
     },
     "execution_count": 4,
     "metadata": {},
     "output_type": "execute_result"
    }
   ],
   "source": [
    "x1.shape"
   ]
  },
  {
   "cell_type": "code",
   "execution_count": 5,
   "metadata": {
    "collapsed": true
   },
   "outputs": [],
   "source": [
    "x2 = np.matrix([[5, 6], [7, 8]])"
   ]
  },
  {
   "cell_type": "code",
   "execution_count": 6,
   "metadata": {},
   "outputs": [
    {
     "data": {
      "text/plain": [
       "(2, 2)"
      ]
     },
     "execution_count": 6,
     "metadata": {},
     "output_type": "execute_result"
    }
   ],
   "source": [
    "x2.shape"
   ]
  },
  {
   "cell_type": "code",
   "execution_count": 7,
   "metadata": {},
   "outputs": [],
   "source": [
    "x3 = x1 * x2"
   ]
  },
  {
   "cell_type": "code",
   "execution_count": 8,
   "metadata": {},
   "outputs": [
    {
     "data": {
      "text/plain": [
       "matrix([[19, 22],\n",
       "        [55, 64]])"
      ]
     },
     "execution_count": 8,
     "metadata": {},
     "output_type": "execute_result"
    }
   ],
   "source": [
    "x3"
   ]
  },
  {
   "cell_type": "code",
   "execution_count": 9,
   "metadata": {},
   "outputs": [
    {
     "data": {
      "text/plain": [
       "(2, 2)"
      ]
     },
     "execution_count": 9,
     "metadata": {},
     "output_type": "execute_result"
    }
   ],
   "source": [
    "x3.shape"
   ]
  },
  {
   "cell_type": "markdown",
   "metadata": {},
   "source": [
    "#### Note: \n",
    "- you must be careful changing the order of the terms in the product"
   ]
  },
  {
   "cell_type": "code",
   "execution_count": 10,
   "metadata": {},
   "outputs": [
    {
     "data": {
      "text/plain": [
       "matrix([[29, 40],\n",
       "        [39, 54]])"
      ]
     },
     "execution_count": 10,
     "metadata": {},
     "output_type": "execute_result"
    }
   ],
   "source": [
    "x2 * x1"
   ]
  },
  {
   "cell_type": "code",
   "execution_count": 11,
   "metadata": {},
   "outputs": [
    {
     "data": {
      "text/plain": [
       "matrix([[1, 2],\n",
       "        [4, 5]])"
      ]
     },
     "execution_count": 11,
     "metadata": {},
     "output_type": "execute_result"
    }
   ],
   "source": [
    "x1"
   ]
  },
  {
   "cell_type": "code",
   "execution_count": 12,
   "metadata": {
    "scrolled": true
   },
   "outputs": [
    {
     "data": {
      "text/plain": [
       "matrix([[1, 4],\n",
       "        [2, 5]])"
      ]
     },
     "execution_count": 12,
     "metadata": {},
     "output_type": "execute_result"
    }
   ],
   "source": [
    "x1.T"
   ]
  },
  {
   "cell_type": "code",
   "execution_count": 13,
   "metadata": {},
   "outputs": [
    {
     "data": {
      "text/plain": [
       "matrix([[19, 55],\n",
       "        [22, 64]])"
      ]
     },
     "execution_count": 13,
     "metadata": {},
     "output_type": "execute_result"
    }
   ],
   "source": [
    "(x2.T * x1.T)"
   ]
  },
  {
   "cell_type": "code",
   "execution_count": 14,
   "metadata": {},
   "outputs": [
    {
     "data": {
      "text/plain": [
       "matrix([[19, 22],\n",
       "        [55, 64]])"
      ]
     },
     "execution_count": 14,
     "metadata": {},
     "output_type": "execute_result"
    }
   ],
   "source": [
    "(x2.T * x1.T).T"
   ]
  },
  {
   "cell_type": "markdown",
   "metadata": {},
   "source": [
    "**Matrix and vector**:\n",
    "- special case of the above\n",
    "- matrix ($m$ x $n$) $\\cdot$ vector ($n$ x 1) yields a vector with dimensions $m$ x 1\n",
    "- each entry $x_{(i}$ in the resulting vector $X$ is the result of the dot product of $row_{i}$ in the matrix and $entry_{j}$ in the vector\n",
    "\n",
    "$$X_{1} = \\left(\\begin{array}\n",
    "{rrr}\n",
    "1 & 2 \\\\\n",
    "4 & 5 \n",
    "\\end{array}\\right), \\space\\space X_{2} = \\left(\\begin{array}\n",
    "{rrr}\n",
    "5 \\\\\n",
    "7 \n",
    "\\end{array}\\right)\n",
    "$$\n",
    "\n",
    "$$X_{1} \\cdot X_{2} =\n",
    "\\left(\\begin{array}\n",
    "{rrr}\n",
    "{1 * 5 + 2 * 7} \\\\\n",
    "{4 * 5 + 5 * 7}\n",
    "\\end{array}\\right) =\n",
    "\\left(\\begin{array}\n",
    "{rrr}\n",
    "19 \\\\\n",
    "55\n",
    "\\end{array}\\right)$$"
   ]
  },
  {
   "cell_type": "code",
   "execution_count": 15,
   "metadata": {},
   "outputs": [],
   "source": [
    "x1 = np.matrix([[1, 2], [4, 5]])"
   ]
  },
  {
   "cell_type": "code",
   "execution_count": 16,
   "metadata": {},
   "outputs": [
    {
     "data": {
      "text/plain": [
       "(2, 2)"
      ]
     },
     "execution_count": 16,
     "metadata": {},
     "output_type": "execute_result"
    }
   ],
   "source": [
    "x1.shape"
   ]
  },
  {
   "cell_type": "code",
   "execution_count": 17,
   "metadata": {},
   "outputs": [],
   "source": [
    "x2 = np.matrix([[5], [7]])"
   ]
  },
  {
   "cell_type": "code",
   "execution_count": 18,
   "metadata": {},
   "outputs": [
    {
     "data": {
      "text/plain": [
       "(2, 1)"
      ]
     },
     "execution_count": 18,
     "metadata": {},
     "output_type": "execute_result"
    }
   ],
   "source": [
    "x2.shape"
   ]
  },
  {
   "cell_type": "code",
   "execution_count": 19,
   "metadata": {},
   "outputs": [],
   "source": [
    "x3 = x1 * x2"
   ]
  },
  {
   "cell_type": "code",
   "execution_count": 20,
   "metadata": {
    "scrolled": true
   },
   "outputs": [
    {
     "data": {
      "text/plain": [
       "matrix([[19],\n",
       "        [55]])"
      ]
     },
     "execution_count": 20,
     "metadata": {},
     "output_type": "execute_result"
    }
   ],
   "source": [
    "x3"
   ]
  },
  {
   "cell_type": "code",
   "execution_count": 21,
   "metadata": {},
   "outputs": [
    {
     "data": {
      "text/plain": [
       "matrix([[33, 45]])"
      ]
     },
     "execution_count": 21,
     "metadata": {},
     "output_type": "execute_result"
    }
   ],
   "source": [
    "x2.T * x1"
   ]
  },
  {
   "cell_type": "code",
   "execution_count": 22,
   "metadata": {},
   "outputs": [
    {
     "data": {
      "text/plain": [
       "matrix([[19, 55]])"
      ]
     },
     "execution_count": 22,
     "metadata": {},
     "output_type": "execute_result"
    }
   ],
   "source": [
    "x2.T * x1.T"
   ]
  },
  {
   "cell_type": "code",
   "execution_count": 23,
   "metadata": {},
   "outputs": [
    {
     "data": {
      "text/plain": [
       "matrix([[19],\n",
       "        [55]])"
      ]
     },
     "execution_count": 23,
     "metadata": {},
     "output_type": "execute_result"
    }
   ],
   "source": [
    "(x2.T * x1.T).T"
   ]
  },
  {
   "cell_type": "markdown",
   "metadata": {},
   "source": [
    "### ------------------------------------------------------------------------------------------------"
   ]
  },
  {
   "cell_type": "markdown",
   "metadata": {},
   "source": [
    "# Parameter Estimation - OLS\n",
    "\n",
    "**Goal**: given $X$ and $y$, find $\\beta$\n",
    "\n",
    "**Method**: there exist many ways to reach our goal - we will start with Ordinary Least Squares (OLS)"
   ]
  },
  {
   "cell_type": "markdown",
   "metadata": {},
   "source": [
    "(notes written with support from [Wikipedia](https://en.wikipedia.org/wiki/Ordinary_least_squares) and [ESL](http://web.stanford.edu/~hastie/ElemStatLearn/))\n",
    "\n",
    "### Background\n",
    "\n",
    "- to measure the distance between a response and a predicted response, one can take the difference between the two values\n",
    "- this would be written as, for the $i^{th}$ data point, $y_{i} - {X_{i}}\\beta$ (note that $X_{i}$ is a row of $X$), and is referred to as the _residual_ for this data point\n",
    "\n",
    "### Overall model fit\n",
    "\n",
    "- summing the squares of all residuals provides a measure of overall model fit\n",
    "- sum of squared residuals: $\\sum_{i=1}^{n}(y_{i} - \\sum_{j=1}^{p}{X_{i, j}\\beta_{j})}^{2} = {(y-X\\beta)}^{T}(y-X\\beta)$\n",
    "\n",
    "### Estimate Beta\n",
    "\n",
    "- if we find the values of $\\beta$ that minimize the sum of the squared residuals, we have found the model coefficients that provide the best fit\n",
    "- to find the values of $\\beta$ that minimize ${(y-X\\beta)}^{T}(y-X\\beta)$ we need to first differentiate with respect to $\\beta$, yielding a first derivative $-2X^{T}(y - X\\beta)$\n",
    "- if we set that first derivate equal to 0, $X^{T}(y - X\\beta) = 0$, we can, making some assumptions, solve to:\n",
    "\n",
    "$$\\hat\\beta = (X^{T}X)^{-1}X^{T}y$$\n",
    "\n",
    "- see more on the derivation of OLS regression [here](https://are.berkeley.edu/courses/EEP118/current/derive_ols.pdf)\n",
    "\n",
    "### Evaluation\n",
    "\n",
    "- a commonly used metric for fit assessment is that of $R^{2}$\n",
    "- this is the ratio of the variance of $\\hat{y}$ around the mean of $y$, $\\bar{y}$, to the variance of $y$, i.e. the ratio of \"explained\" to \"total\" variance of $y$\n",
    "- which is written as $\\large\\frac{\\sum(\\hat{y} - \\bar{y})^{2}}{\\sum(y - \\bar{y})^{2}}$\n",
    "- useful use of this metric requires the model to include a constant, or $\\beta_{0}$, term, in which case 0 < $R^{2}$ < 1, with closer to 1 being better"
   ]
  },
  {
   "cell_type": "markdown",
   "metadata": {},
   "source": [
    "### ------------------------------------------------------------------------------------------------"
   ]
  },
  {
   "cell_type": "markdown",
   "metadata": {},
   "source": [
    "# Implementation"
   ]
  },
  {
   "cell_type": "code",
   "execution_count": 24,
   "metadata": {},
   "outputs": [],
   "source": [
    "class LinearRegressor:\n",
    "    \"\"\"Linear Regression class, built for NumPy arrays. \n",
    "    Fits using OLS. Always supplies a constant coefficient.\n",
    "    Very unstable!\"\"\"\n",
    "    \n",
    "    def __init__(self):\n",
    "        self.X = None\n",
    "        self.y = None\n",
    "        self.B = None\n",
    "        self.y_hat = None\n",
    "        \n",
    "    \n",
    "    def fit(self, X, y):\n",
    "        X = np.vstack((X, np.ones((1, X.shape[0])))).T\n",
    "        self.B = np.linalg.inv(X.T.dot(X)).dot(X.T).dot(y)\n",
    "        self.X = X\n",
    "        self.y = y\n",
    "    \n",
    "    \n",
    "    def predict(self, X):\n",
    "        if self.B is None:\n",
    "            return None\n",
    "        self.y_hat = self.X.dot(self.B)\n",
    "        return self.y_hat\n",
    "\n",
    "    \n",
    "    def r_sqrd(self):\n",
    "        if self.y is None:\n",
    "            return None\n",
    "        elif self.y_hat is None:\n",
    "            y_hat = self.predict()\n",
    "            \n",
    "        y_bar = np.mean(self.y)\n",
    "        explained = np.sum(np.power(self.y_hat - y_bar, 2))\n",
    "        total = np.sum(np.power(self.y - y_bar, 2))\n",
    "        return explained / total"
   ]
  },
  {
   "cell_type": "markdown",
   "metadata": {},
   "source": [
    "### ------------------------------------------------------------------------------------------------"
   ]
  },
  {
   "cell_type": "markdown",
   "metadata": {},
   "source": [
    "# Testing"
   ]
  },
  {
   "cell_type": "markdown",
   "metadata": {},
   "source": [
    "### Generate Fake Data"
   ]
  },
  {
   "cell_type": "code",
   "execution_count": 25,
   "metadata": {
    "collapsed": true
   },
   "outputs": [],
   "source": [
    "x = np.array(range(100))"
   ]
  },
  {
   "cell_type": "code",
   "execution_count": 26,
   "metadata": {
    "collapsed": true
   },
   "outputs": [],
   "source": [
    "y = 2 * x"
   ]
  },
  {
   "cell_type": "code",
   "execution_count": 27,
   "metadata": {},
   "outputs": [],
   "source": [
    "x = x - .1 * np.random.randint(-50, 50, 100)"
   ]
  },
  {
   "cell_type": "code",
   "execution_count": 28,
   "metadata": {
    "collapsed": true
   },
   "outputs": [],
   "source": [
    "y = y - .1 * np.random.randint(-50, 50, 100)"
   ]
  },
  {
   "cell_type": "code",
   "execution_count": 29,
   "metadata": {},
   "outputs": [
    {
     "data": {
      "image/png": "[encoded data removed]",
      "text/plain": [
       "<matplotlib.figure.Figure at 0x118389c18>"
      ]
     },
     "metadata": {},
     "output_type": "display_data"
    }
   ],
   "source": [
    "plt.figure(figsize=(11, 8))\n",
    "ax = plt.scatter(x, y)\n",
    "plt.xlabel(\"x\")\n",
    "plt.ylabel(\"y\")\n",
    "t = plt.title(\"Semi-Random Data\")"
   ]
  },
  {
   "cell_type": "code",
   "execution_count": 30,
   "metadata": {
    "collapsed": true
   },
   "outputs": [],
   "source": [
    "LR = LinearRegressor()"
   ]
  },
  {
   "cell_type": "code",
   "execution_count": 31,
   "metadata": {},
   "outputs": [],
   "source": [
    "LR.fit(x, y)"
   ]
  },
  {
   "cell_type": "code",
   "execution_count": 32,
   "metadata": {},
   "outputs": [],
   "source": [
    "y_hat = LR.predict(x)"
   ]
  },
  {
   "cell_type": "code",
   "execution_count": 33,
   "metadata": {},
   "outputs": [
    {
     "data": {
      "image/png": "[encoded data removed]",
      "text/plain": [
       "<matplotlib.figure.Figure at 0x11b90c198>"
      ]
     },
     "metadata": {},
     "output_type": "display_data"
    }
   ],
   "source": [
    "plt.figure(figsize=(11, 8))\n",
    "ax = plt.scatter(x, y)\n",
    "ax = plt.plot(x, y_hat, c=\"g\")\n",
    "plt.xlabel(\"x\")\n",
    "plt.ylabel(\"y\")\n",
    "t = plt.title(\"Data, with Best-Fit Line\")"
   ]
  },
  {
   "cell_type": "code",
   "execution_count": 34,
   "metadata": {
    "scrolled": true
   },
   "outputs": [
    {
     "data": {
      "text/plain": [
       "0.98658278244357012"
      ]
     },
     "execution_count": 34,
     "metadata": {},
     "output_type": "execute_result"
    }
   ],
   "source": [
    "LR.r_sqrd()"
   ]
  },
  {
   "cell_type": "code",
   "execution_count": null,
   "metadata": {
    "collapsed": true
   },
   "outputs": [],
   "source": []
  }
 ],
 "metadata": {
  "kernelspec": {
   "display_name": "Python 3",
   "language": "python",
   "name": "python3"
  },
  "language_info": {
   "codemirror_mode": {
    "name": "ipython",
    "version": 3
   },
   "file_extension": ".py",
   "mimetype": "text/x-python",
   "name": "python",
   "nbconvert_exporter": "python",
   "pygments_lexer": "ipython3",
   "version": "3.7.3"
  }
 },
 "nbformat": 4,
 "nbformat_minor": 2
}
